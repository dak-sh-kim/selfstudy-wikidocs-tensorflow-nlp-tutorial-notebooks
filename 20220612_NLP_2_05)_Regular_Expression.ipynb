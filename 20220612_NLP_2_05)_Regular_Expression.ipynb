{
  "nbformat": 4,
  "nbformat_minor": 0,
  "metadata": {
    "colab": {
      "name": "20220612_NLP_2-05) Regular Expression.ipynb",
      "provenance": [],
      "collapsed_sections": [
        "SfGODbtaa4QI",
        "jh0b_fClbXOj",
        "ekgJHStMglYe",
        "aa_HME-UEegD",
        "diZcHExximDG",
        "a0TBkatLPEuK",
        "9g0epPFqP-P4",
        "9IzIjkQrQoUY",
        "LbeQRA7kRXUh",
        "qKtG3GOER07J",
        "EinrpxBATi0H",
        "HXJzWQ4sVNDf",
        "GM1Dk7CNWZM3",
        "k2zWZ1x5r0aP",
        "kQoesB-jsxv8",
        "bvvU1AJ1s3BT",
        "Q8LUxBLrt1Cz",
        "R4lROG5wunp4",
        "pAbHsjk4vmZy",
        "wLtbWWpBwYV_"
      ],
      "authorship_tag": "ABX9TyM3vKHG/LNQUa5pHkiirGwm",
      "include_colab_link": true
    },
    "kernelspec": {
      "name": "python3",
      "display_name": "Python 3"
    },
    "language_info": {
      "name": "python"
    }
  },
  "cells": [
    {
      "cell_type": "markdown",
      "metadata": {
        "id": "view-in-github",
        "colab_type": "text"
      },
      "source": [
        "<a href=\"https://colab.research.google.com/github/dak-sh-kim/selfstudy-wikidocs-tensorflow-nlp-tutorial-notebooks/blob/main/20220612_NLP_2_05)_Regular_Expression.ipynb\" target=\"_parent\"><img src=\"https://colab.research.google.com/assets/colab-badge.svg\" alt=\"Open In Colab\"/></a>"
      ]
    },
    {
      "cell_type": "markdown",
      "source": [
        "# 정규 표현식(Regular Expression)"
      ],
      "metadata": {
        "id": "7QPkuEx0Z97z"
      }
    },
    {
      "cell_type": "markdown",
      "source": [
        "+ Regular Expression 는 텍스트 전처리에서 유용한 도구임\n",
        "+ 파이썬에서는 정규표현식 모듈 re를 제공\n",
        "+ nltk에서 re를 이용해 토큰화를 할 수 있음"
      ],
      "metadata": {
        "id": "9lchAnX6aG-A"
      }
    },
    {
      "cell_type": "markdown",
      "source": [
        "## 1. 정규표현식 문법과 모듈 함수"
      ],
      "metadata": {
        "id": "SfGODbtaa4QI"
      }
    },
    {
      "cell_type": "markdown",
      "source": [
        "### 정규표현식 문법"
      ],
      "metadata": {
        "id": "jh0b_fClbXOj"
      }
    },
    {
      "cell_type": "markdown",
      "source": [
        "+ .  : 한 개의 임의의 문자를 나타냄 (줄바꿈 문자인 \\n은 제외)\n",
        "+ '?  : 앞의 문자가 존재할 수도 있고, 존재하지 않을 수도 있음 (문자가 0개 또는 1개)\n",
        "+ '*  : 앞의 문자가 (무한개로) 존재할 수도 있고, 존재하지 않을 수도 있음 (문자가 0개 이상)\n",
        "+ '+  : 앞의 문자가 최소 한 개 이상 존재함 (문자가 1개 이상)\n",
        "+ ^  : 뒤의 문자열로 문자열이 시작됨\n",
        "+ $  : 앞의 문자열로 문자열이 끝남\n",
        "+ (숫자)  : 숫자만큼 반복\n",
        "+ (숫자1, 숫자2)  : 숫자 1 이상, 숫자 2 이하만큼 반복. ?, *, +를 이것으로 대체할 수 있음\n",
        "+ (숫자,)  : 숫자 이상만큼 반복\n",
        "+ '[ ]'  : 대괄호 안의 문자들 중 한 개의 문자와 매치. [amk]라고 한다면, a / m / k중 하나라도 존재하면 매치\n",
        "+ [a-z]  : 범위 지정 가능, [a-zA-Z]는 알파벳 전체를 의미하는 범위이며, 문자열에 알파벳이 존재하면 매치\n",
        "+ [^문자]  : 해당 문자를 제외한 문자를 매치\n",
        "+ |  : A|B와 같이 쓰이며, 'A또는 B'의 의미를 가짐"
      ],
      "metadata": {
        "id": "Jn_LkOaQcE4n"
      }
    },
    {
      "cell_type": "markdown",
      "source": [
        "역슬래쉬를 이용하여 자주 쓰이는 문자 규칙들"
      ],
      "metadata": {
        "id": "IpGOm07ieX9t"
      }
    },
    {
      "cell_type": "markdown",
      "source": [
        "+ \\  : 역슬래쉬 문자 자체를 의미\n",
        "+ \\d  : 모든 숫자를 의미. [0-9]와 의미가 동일\n",
        "+ \\D  : 숫자를 제외한 모든 문자를 의미.[^0-9]와 의미가 동일\n",
        "+ \\s  : 공백을 의미. [\\t\\n\\r\\f\\v] 와 의미가 동일\n",
        "+ \\S  : 공백을 제외한 문자를 의미. [^ \\t\\n\\r\\f\\v]와 의미가 동일\n",
        "+ \\w  : 문자, 또는 숫자를 의미. [a-zA-Z0-9] 와 의미가 동일\n",
        "+ \\W  : 문자, 또는 숫자가 아닌 문자를 의미  "
      ],
      "metadata": {
        "id": "FaCs_3PHevNr"
      }
    },
    {
      "cell_type": "markdown",
      "source": [
        "### 정규표현식 모듈함수"
      ],
      "metadata": {
        "id": "ekgJHStMglYe"
      }
    },
    {
      "cell_type": "markdown",
      "source": [
        "+ re.compile()  : 정규표현식을 컴파일하는 함수. 다시 말해, \"파이썬에게 전해주는 역할\", 찾고자 하는 패턴이 빈번한 경우에는 미리 컴파일해놓고 사용하면 속도와 편의성 면에서 유리함.\n",
        "+ re.search()  :  문자열 전체에 대해서 정규표현식과 매치되는지를 검색\n",
        "+ re.match()  :  문자열의 처음이 정규표현식과 매치되는지를 검색\n",
        "+ re.split()  :  정규표현식을 기준으로 문자열 분리, 리스트로 리턴\n",
        "+ re.findall() :  문자열에서 정규 표현식과 매치되는 모든 경우 문자열을 찾아 리스트로 리턴, 만약, 매치 문자열 없다면 빈 리스트가 리턴\n",
        "+ re.finditer() :  문자열에서 정규 표현식과 매치되는 모든 경우의 문자열에 대한 이터레이터 객체를 리턴\n",
        "+  re.sub()  :  문자열에서 정규표현식과 일치하는 부분에 대해 다른 문자열로 대체\n"
      ],
      "metadata": {
        "id": "c3elaK8OgoOj"
      }
    },
    {
      "cell_type": "markdown",
      "source": [
        "## 2. 정규 표현식 실습"
      ],
      "metadata": {
        "id": "aa_HME-UEegD"
      }
    },
    {
      "cell_type": "markdown",
      "source": [
        "#### 1) . 기호"
      ],
      "metadata": {
        "id": "diZcHExximDG"
      }
    },
    {
      "cell_type": "markdown",
      "source": [
        " + a.c ---> akc, azc, avc, a5c, alc, ...."
      ],
      "metadata": {
        "id": "YnMKHJ7xNSZR"
      }
    },
    {
      "cell_type": "code",
      "source": [
        "import re"
      ],
      "metadata": {
        "id": "jMjm3aHgNj78"
      },
      "execution_count": null,
      "outputs": []
    },
    {
      "cell_type": "code",
      "source": [
        "r = re.compile('a.c')\n",
        "r"
      ],
      "metadata": {
        "colab": {
          "base_uri": "https://localhost:8080/"
        },
        "id": "m3Ew8bUwNcGQ",
        "outputId": "0612a610-6445-4923-e702-de3ba88db271"
      },
      "execution_count": null,
      "outputs": [
        {
          "output_type": "execute_result",
          "data": {
            "text/plain": [
              "re.compile(r'a.c', re.UNICODE)"
            ]
          },
          "metadata": {},
          "execution_count": 12
        }
      ]
    },
    {
      "cell_type": "code",
      "source": [
        "r.search(\"abc\")"
      ],
      "metadata": {
        "colab": {
          "base_uri": "https://localhost:8080/"
        },
        "id": "drPzwMg7Nfr7",
        "outputId": "c28faf85-7d2a-42ff-ba3a-a3533a0f5c7d"
      },
      "execution_count": null,
      "outputs": [
        {
          "output_type": "execute_result",
          "data": {
            "text/plain": [
              "<re.Match object; span=(0, 3), match='abc'>"
            ]
          },
          "metadata": {},
          "execution_count": 22
        }
      ]
    },
    {
      "cell_type": "code",
      "source": [
        "r.search(\"a?c\")"
      ],
      "metadata": {
        "colab": {
          "base_uri": "https://localhost:8080/"
        },
        "id": "kqmoXopfPqpj",
        "outputId": "c44381be-d392-4039-9c79-1d0fa723c3c8"
      },
      "execution_count": null,
      "outputs": [
        {
          "output_type": "execute_result",
          "data": {
            "text/plain": [
              "<re.Match object; span=(0, 3), match='a?c'>"
            ]
          },
          "metadata": {},
          "execution_count": 23
        }
      ]
    },
    {
      "cell_type": "code",
      "source": [
        "r.search(\"ac\") # 매치되지 않으면 아무런 결과도 출력되지 않음"
      ],
      "metadata": {
        "id": "ugVpQcfqN144"
      },
      "execution_count": null,
      "outputs": []
    },
    {
      "cell_type": "markdown",
      "source": [
        "#### 2)   ?  기호"
      ],
      "metadata": {
        "id": "a0TBkatLPEuK"
      }
    },
    {
      "cell_type": "markdown",
      "source": [
        "+ ab?c --> abc, \"\"\"ac\"\"\", avc, alc, ..\n",
        "+ b가 0개 아니면 1개  "
      ],
      "metadata": {
        "id": "_HvJ-LlqSrDX"
      }
    },
    {
      "cell_type": "code",
      "source": [
        "r = re.compile(\"ab?c\")"
      ],
      "metadata": {
        "id": "gW0SYzA3PZ_R"
      },
      "execution_count": null,
      "outputs": []
    },
    {
      "cell_type": "code",
      "source": [
        "r.search(\"abbc\") # 매치되지 않으면 아무런 결과도 출력되지 않음"
      ],
      "metadata": {
        "id": "GepiXNt-P0bR"
      },
      "execution_count": null,
      "outputs": []
    },
    {
      "cell_type": "code",
      "source": [
        "r.search(\"abc\")"
      ],
      "metadata": {
        "colab": {
          "base_uri": "https://localhost:8080/"
        },
        "id": "NYKon0FWP2Zf",
        "outputId": "8db09431-c3da-496b-90c3-10989b49d01b"
      },
      "execution_count": null,
      "outputs": [
        {
          "output_type": "execute_result",
          "data": {
            "text/plain": [
              "<re.Match object; span=(0, 3), match='abc'>"
            ]
          },
          "metadata": {},
          "execution_count": 26
        }
      ]
    },
    {
      "cell_type": "code",
      "source": [
        "r.search(\"ac\")"
      ],
      "metadata": {
        "colab": {
          "base_uri": "https://localhost:8080/"
        },
        "id": "O6D_voIcP8Nh",
        "outputId": "c4f238e2-2f32-4f25-d31a-8a8b1d62a87c"
      },
      "execution_count": null,
      "outputs": [
        {
          "output_type": "execute_result",
          "data": {
            "text/plain": [
              "<re.Match object; span=(0, 2), match='ac'>"
            ]
          },
          "metadata": {},
          "execution_count": 27
        }
      ]
    },
    {
      "cell_type": "markdown",
      "source": [
        "#### 3) * 기호"
      ],
      "metadata": {
        "id": "9g0epPFqP-P4"
      }
    },
    {
      "cell_type": "markdown",
      "source": [
        "+ b가 0개, 1개, 아니면 여러개"
      ],
      "metadata": {
        "id": "frj1jxqVS7v7"
      }
    },
    {
      "cell_type": "code",
      "source": [
        "r = re.compile(\"ab*c\") # a (b가 없거나 많거나) c\n",
        "r.search(\"a\") # 매치되지 않으면 아무런 결과도 출력되지 않음"
      ],
      "metadata": {
        "id": "GdRA7YMdQQ0M"
      },
      "execution_count": null,
      "outputs": []
    },
    {
      "cell_type": "code",
      "source": [
        "r.search(\"ac\")"
      ],
      "metadata": {
        "colab": {
          "base_uri": "https://localhost:8080/"
        },
        "id": "2UawQ6f5QfUZ",
        "outputId": "16601b8f-3561-41fa-8565-1c29e34985e9"
      },
      "execution_count": null,
      "outputs": [
        {
          "output_type": "execute_result",
          "data": {
            "text/plain": [
              "<re.Match object; span=(0, 2), match='ac'>"
            ]
          },
          "metadata": {},
          "execution_count": 30
        }
      ]
    },
    {
      "cell_type": "code",
      "source": [
        "r.search(\"abbbc\")"
      ],
      "metadata": {
        "colab": {
          "base_uri": "https://localhost:8080/"
        },
        "id": "rzahMvdLQk2p",
        "outputId": "ac8923ec-f373-4504-ef84-8f1e790e7550"
      },
      "execution_count": null,
      "outputs": [
        {
          "output_type": "execute_result",
          "data": {
            "text/plain": [
              "<re.Match object; span=(0, 5), match='abbbc'>"
            ]
          },
          "metadata": {},
          "execution_count": 31
        }
      ]
    },
    {
      "cell_type": "code",
      "source": [
        "r.search(\"abbbsc\") # 매치되지 않으면 아무런 결과도 출력되지 않음"
      ],
      "metadata": {
        "id": "Hn_e0l33Qm_w"
      },
      "execution_count": null,
      "outputs": []
    },
    {
      "cell_type": "markdown",
      "source": [
        "#### 4) + 기호"
      ],
      "metadata": {
        "id": "9IzIjkQrQoUY"
      }
    },
    {
      "cell_type": "markdown",
      "source": [
        "+ b가 1개, 아니면 여러개"
      ],
      "metadata": {
        "id": "ms3s5BT-S_Zy"
      }
    },
    {
      "cell_type": "code",
      "source": [
        "r = re.compile(\"ab+c\") # a (b가 하나라도 있거나 많거나) c\n",
        "r.search(\"ac\") # 매치되지 않으면 아무런 결과도 출력되지 않음 (cf.\"ab*c\")"
      ],
      "metadata": {
        "id": "NNucR5fORDk8"
      },
      "execution_count": null,
      "outputs": []
    },
    {
      "cell_type": "code",
      "source": [
        "r.search(\"abc\")"
      ],
      "metadata": {
        "colab": {
          "base_uri": "https://localhost:8080/"
        },
        "id": "v_WcXQ6pRO3C",
        "outputId": "71968c84-ee86-4756-c32d-646701e62734"
      },
      "execution_count": null,
      "outputs": [
        {
          "output_type": "execute_result",
          "data": {
            "text/plain": [
              "<re.Match object; span=(0, 3), match='abc'>"
            ]
          },
          "metadata": {},
          "execution_count": 34
        }
      ]
    },
    {
      "cell_type": "code",
      "source": [
        "r.search(\"abbbbbbc\")"
      ],
      "metadata": {
        "colab": {
          "base_uri": "https://localhost:8080/"
        },
        "id": "OXU7NaUiRU6w",
        "outputId": "cc6d8bb0-fa21-42c6-9e4e-73efd149ed95"
      },
      "execution_count": null,
      "outputs": [
        {
          "output_type": "execute_result",
          "data": {
            "text/plain": [
              "<re.Match object; span=(0, 8), match='abbbbbbc'>"
            ]
          },
          "metadata": {},
          "execution_count": 35
        }
      ]
    },
    {
      "cell_type": "markdown",
      "source": [
        "#### 5) ^ 기호"
      ],
      "metadata": {
        "id": "LbeQRA7kRXUh"
      }
    },
    {
      "cell_type": "code",
      "source": [
        "r = re.compile(\"^ab\") # 'ab'로 시작됨\n",
        "r.search(\"abc\")"
      ],
      "metadata": {
        "colab": {
          "base_uri": "https://localhost:8080/"
        },
        "id": "BYHL6fUcRayL",
        "outputId": "02ab2f95-9938-4edb-de11-b41967641cd0"
      },
      "execution_count": null,
      "outputs": [
        {
          "output_type": "execute_result",
          "data": {
            "text/plain": [
              "<re.Match object; span=(0, 2), match='ab'>"
            ]
          },
          "metadata": {},
          "execution_count": 36
        }
      ]
    },
    {
      "cell_type": "code",
      "source": [
        "r.search(\"abbb\")"
      ],
      "metadata": {
        "colab": {
          "base_uri": "https://localhost:8080/"
        },
        "id": "lXlP3qZ0Rr4Y",
        "outputId": "c067184f-2255-49ad-a4bc-11c0d1d9e65e"
      },
      "execution_count": null,
      "outputs": [
        {
          "output_type": "execute_result",
          "data": {
            "text/plain": [
              "<re.Match object; span=(0, 2), match='ab'>"
            ]
          },
          "metadata": {},
          "execution_count": 37
        }
      ]
    },
    {
      "cell_type": "code",
      "source": [
        "r.search(\"abfdfc\")"
      ],
      "metadata": {
        "colab": {
          "base_uri": "https://localhost:8080/"
        },
        "id": "Tl_y_Bc7RuKI",
        "outputId": "5bb5e232-206e-4421-8f07-be96adaf5482"
      },
      "execution_count": null,
      "outputs": [
        {
          "output_type": "execute_result",
          "data": {
            "text/plain": [
              "<re.Match object; span=(0, 2), match='ab'>"
            ]
          },
          "metadata": {},
          "execution_count": 38
        }
      ]
    },
    {
      "cell_type": "markdown",
      "source": [
        "#### 6) {숫자} 기호"
      ],
      "metadata": {
        "id": "qKtG3GOER07J"
      }
    },
    {
      "cell_type": "code",
      "source": [
        "r = re.compile(\"ab{2}c\") # b를 2번 반복\n",
        "r.search(\"abbc\")"
      ],
      "metadata": {
        "colab": {
          "base_uri": "https://localhost:8080/"
        },
        "id": "wQQ091zhR7GY",
        "outputId": "7be6730d-b350-4854-a8c3-c52c1e8a73de"
      },
      "execution_count": null,
      "outputs": [
        {
          "output_type": "execute_result",
          "data": {
            "text/plain": [
              "<re.Match object; span=(0, 4), match='abbc'>"
            ]
          },
          "metadata": {},
          "execution_count": 39
        }
      ]
    },
    {
      "cell_type": "code",
      "source": [
        "r.search(\"abc\") # 딱 해당 숫자만큼 - 매치되지 않으면 아무런 결과도 출력되지 않음"
      ],
      "metadata": {
        "id": "gaKC3YoPTb8Q"
      },
      "execution_count": null,
      "outputs": []
    },
    {
      "cell_type": "code",
      "source": [
        "r.search(\"abbbc\") # 딱 해당 숫자만큼 - 매치되지 않으면 아무런 결과도 출력되지 않음"
      ],
      "metadata": {
        "id": "a15FNcLWTfCX"
      },
      "execution_count": null,
      "outputs": []
    },
    {
      "cell_type": "markdown",
      "source": [
        "#### 7) {숫자1, 숫자2} 기호"
      ],
      "metadata": {
        "id": "EinrpxBATi0H"
      }
    },
    {
      "cell_type": "code",
      "source": [
        "r = re.compile(\"ab{2,8}c\") # b가 2 =< b =< 8) 번 반복"
      ],
      "metadata": {
        "id": "hQrfYGkqTyKH"
      },
      "execution_count": null,
      "outputs": []
    },
    {
      "cell_type": "code",
      "source": [
        "r.search(\"ac\") # 2이상 8이하가 아님 - 매치되지 않으면 아무런 결과도 출력되지 않음"
      ],
      "metadata": {
        "id": "8DjFUoZJUAaX"
      },
      "execution_count": null,
      "outputs": []
    },
    {
      "cell_type": "code",
      "source": [
        "r.search(\"abbc\") "
      ],
      "metadata": {
        "colab": {
          "base_uri": "https://localhost:8080/"
        },
        "id": "sHW8ph0KUbSY",
        "outputId": "61c98a76-f33b-4cc2-9e41-e5f9e502a343"
      },
      "execution_count": null,
      "outputs": [
        {
          "output_type": "execute_result",
          "data": {
            "text/plain": [
              "<re.Match object; span=(0, 4), match='abbc'>"
            ]
          },
          "metadata": {},
          "execution_count": 46
        }
      ]
    },
    {
      "cell_type": "code",
      "source": [
        "r.search(\"abbbbc\") "
      ],
      "metadata": {
        "colab": {
          "base_uri": "https://localhost:8080/"
        },
        "id": "Zov4OLpMVGdk",
        "outputId": "b6327260-3b9f-4ba0-e83a-8aa91fa8ab84"
      },
      "execution_count": null,
      "outputs": [
        {
          "output_type": "execute_result",
          "data": {
            "text/plain": [
              "<re.Match object; span=(0, 6), match='abbbbc'>"
            ]
          },
          "metadata": {},
          "execution_count": 47
        }
      ]
    },
    {
      "cell_type": "code",
      "source": [
        "r.search(\"abbbbbbbbc\") "
      ],
      "metadata": {
        "colab": {
          "base_uri": "https://localhost:8080/"
        },
        "id": "Y8ZU2jp8VJP_",
        "outputId": "6edfcab1-d25a-4759-a7fb-166613d24c0a"
      },
      "execution_count": null,
      "outputs": [
        {
          "output_type": "execute_result",
          "data": {
            "text/plain": [
              "<re.Match object; span=(0, 10), match='abbbbbbbbc'>"
            ]
          },
          "metadata": {},
          "execution_count": 49
        }
      ]
    },
    {
      "cell_type": "markdown",
      "source": [
        "#### 8) {숫자,} 기호"
      ],
      "metadata": {
        "id": "HXJzWQ4sVNDf"
      }
    },
    {
      "cell_type": "code",
      "source": [
        "r = re.compile(\"a{2,}bc\") # bc가 붙으면서 a가 2번 이상 반복되는 경우\n",
        "# r = re.compile(\"a{0,}bc\") bc가 붙으면서 a가 0번 이상 반복되는 경우 (* 와 같음)"
      ],
      "metadata": {
        "id": "0ZWffB8BVT3I"
      },
      "execution_count": null,
      "outputs": []
    },
    {
      "cell_type": "code",
      "source": [
        "r.search(\"abc\") # 2이상 아님 - 매치되지 않으면 아무런 결과도 출력되지 않음"
      ],
      "metadata": {
        "id": "DK1puol6WOEP"
      },
      "execution_count": null,
      "outputs": []
    },
    {
      "cell_type": "code",
      "source": [
        "r.search(\"aaaabc\") "
      ],
      "metadata": {
        "colab": {
          "base_uri": "https://localhost:8080/"
        },
        "id": "l7JARfvkWQnn",
        "outputId": "87c2455f-b73a-4571-817b-99ee90e599b1"
      },
      "execution_count": null,
      "outputs": [
        {
          "output_type": "execute_result",
          "data": {
            "text/plain": [
              "<re.Match object; span=(0, 6), match='aaaabc'>"
            ]
          },
          "metadata": {},
          "execution_count": 55
        }
      ]
    },
    {
      "cell_type": "markdown",
      "source": [
        "#### 9) [  ] 기호"
      ],
      "metadata": {
        "id": "GM1Dk7CNWZM3"
      }
    },
    {
      "cell_type": "code",
      "source": [
        "r = re.compile(\"[abc]\") # [abc] 는 a-c와 같다. [ ]안에 등장한(범위 내) 문자이면 모두 가능 \n",
        "  # 알파벳 전부: [a-zA-Z]\n",
        "  # 알파벳과 숫자 전부: [a-zA-Z0-9]\n",
        "  # 숫자 전부: [0-9]"
      ],
      "metadata": {
        "id": "e6_A6UyHWd9E"
      },
      "execution_count": null,
      "outputs": []
    },
    {
      "cell_type": "code",
      "source": [
        "r.search(\"zzz\") # 매치되지 않으면 아무런 결과도 출력되지 않음"
      ],
      "metadata": {
        "id": "VjOlgOMIuO7L"
      },
      "execution_count": null,
      "outputs": []
    },
    {
      "cell_type": "code",
      "source": [
        "r.search(\"a\")"
      ],
      "metadata": {
        "colab": {
          "base_uri": "https://localhost:8080/"
        },
        "id": "bFZQ1gBmuBBK",
        "outputId": "b74e14d5-f194-4b44-b325-aef32a4214fe"
      },
      "execution_count": null,
      "outputs": [
        {
          "output_type": "execute_result",
          "data": {
            "text/plain": [
              "<re.Match object; span=(0, 1), match='a'>"
            ]
          },
          "metadata": {},
          "execution_count": 59
        }
      ]
    },
    {
      "cell_type": "code",
      "source": [
        "r.search(\"99a\")"
      ],
      "metadata": {
        "colab": {
          "base_uri": "https://localhost:8080/"
        },
        "id": "lR5eSnq0uMgj",
        "outputId": "89d2d8c1-2a54-491c-d307-fb1a6fded364"
      },
      "execution_count": null,
      "outputs": [
        {
          "output_type": "execute_result",
          "data": {
            "text/plain": [
              "<re.Match object; span=(2, 3), match='a'>"
            ]
          },
          "metadata": {},
          "execution_count": 60
        }
      ]
    },
    {
      "cell_type": "markdown",
      "source": [
        "- [abc] != [ABC] 대문자와 소문자가 구분됨"
      ],
      "metadata": {
        "id": "HXuqLl5puRwr"
      }
    },
    {
      "cell_type": "code",
      "source": [
        "r = re.compile('[a-z]')"
      ],
      "metadata": {
        "id": "ACLRbgMoubon"
      },
      "execution_count": null,
      "outputs": []
    },
    {
      "cell_type": "code",
      "source": [
        "r.search(\"AAA\") # 매치되지 않으면 아무런 결과도 출력되지 않음"
      ],
      "metadata": {
        "id": "h0lQgIhyreFu"
      },
      "execution_count": null,
      "outputs": []
    },
    {
      "cell_type": "code",
      "source": [
        "r = re.compile('[A-Z]')"
      ],
      "metadata": {
        "id": "bxtonccSfZaH"
      },
      "execution_count": null,
      "outputs": []
    },
    {
      "cell_type": "code",
      "source": [
        "r.search('aaa')"
      ],
      "metadata": {
        "id": "eD2t6aTbrubC"
      },
      "execution_count": null,
      "outputs": []
    },
    {
      "cell_type": "code",
      "source": [
        "r.search('AaA')"
      ],
      "metadata": {
        "colab": {
          "base_uri": "https://localhost:8080/"
        },
        "id": "z1dxZNWzrwUA",
        "outputId": "d436bfff-9614-4924-897e-6a36f78910ad"
      },
      "execution_count": null,
      "outputs": [
        {
          "output_type": "execute_result",
          "data": {
            "text/plain": [
              "<re.Match object; span=(0, 1), match='A'>"
            ]
          },
          "metadata": {},
          "execution_count": 9
        }
      ]
    },
    {
      "cell_type": "markdown",
      "source": [
        "#### 10) [^문자] 기호"
      ],
      "metadata": {
        "id": "k2zWZ1x5r0aP"
      }
    },
    {
      "cell_type": "code",
      "source": [
        "r = re.compile('[^abc]') # a 또는 b 또는 c를 제외한 문자 "
      ],
      "metadata": {
        "id": "eYd0pcDur_cV"
      },
      "execution_count": null,
      "outputs": []
    },
    {
      "cell_type": "code",
      "source": [
        "r.search('z')"
      ],
      "metadata": {
        "colab": {
          "base_uri": "https://localhost:8080/"
        },
        "id": "sh7mkIBDsJ5f",
        "outputId": "44f0841e-0a3f-4701-b600-bd20fb326978"
      },
      "execution_count": null,
      "outputs": [
        {
          "output_type": "execute_result",
          "data": {
            "text/plain": [
              "<re.Match object; span=(0, 1), match='z'>"
            ]
          },
          "metadata": {},
          "execution_count": 13
        }
      ]
    },
    {
      "cell_type": "code",
      "source": [
        "r.search('a')"
      ],
      "metadata": {
        "id": "G4_WkRlwsNfG"
      },
      "execution_count": null,
      "outputs": []
    },
    {
      "cell_type": "code",
      "source": [
        "r.search('1')"
      ],
      "metadata": {
        "colab": {
          "base_uri": "https://localhost:8080/"
        },
        "id": "zD2fDVgksvow",
        "outputId": "fc9e0d13-7949-4c52-89bb-359adc5208ed"
      },
      "execution_count": null,
      "outputs": [
        {
          "output_type": "execute_result",
          "data": {
            "text/plain": [
              "<re.Match object; span=(0, 1), match='1'>"
            ]
          },
          "metadata": {},
          "execution_count": 15
        }
      ]
    },
    {
      "cell_type": "markdown",
      "source": [
        "## 3. 정규 표현식 모듈 함수 예제"
      ],
      "metadata": {
        "id": "kQoesB-jsxv8"
      }
    },
    {
      "cell_type": "markdown",
      "source": [
        "#### 1) re.match()와 re.search()의 차이"
      ],
      "metadata": {
        "id": "bvvU1AJ1s3BT"
      }
    },
    {
      "cell_type": "markdown",
      "source": [
        "- re.match()는 문자열 시작에서 패턴이 일치하지 않으면 찾지 않음"
      ],
      "metadata": {
        "id": "TL5Q0fjEs9Tg"
      }
    },
    {
      "cell_type": "code",
      "source": [
        "r = re.compile('ab.')\n",
        "r.match('kkkabc') # 뒤에 ab.가 있어도 앞에서 매치되지 않으면 출력되지 않음"
      ],
      "metadata": {
        "id": "KFd_DYlithX2"
      },
      "execution_count": null,
      "outputs": []
    },
    {
      "cell_type": "code",
      "source": [
        "r.search('kkkabc')"
      ],
      "metadata": {
        "colab": {
          "base_uri": "https://localhost:8080/"
        },
        "id": "k7WnEYEXtqRY",
        "outputId": "6b4faa6c-3a69-4076-e742-0f955b12e770"
      },
      "execution_count": null,
      "outputs": [
        {
          "output_type": "execute_result",
          "data": {
            "text/plain": [
              "<re.Match object; span=(3, 6), match='abc'>"
            ]
          },
          "metadata": {},
          "execution_count": 17
        }
      ]
    },
    {
      "cell_type": "code",
      "source": [
        "r.match('abckkk')"
      ],
      "metadata": {
        "colab": {
          "base_uri": "https://localhost:8080/"
        },
        "id": "hj6z19UZtmZd",
        "outputId": "c3825c4e-00fe-441a-9f41-0952c2ece03f"
      },
      "execution_count": null,
      "outputs": [
        {
          "output_type": "execute_result",
          "data": {
            "text/plain": [
              "<re.Match object; span=(0, 3), match='abc'>"
            ]
          },
          "metadata": {},
          "execution_count": 18
        }
      ]
    },
    {
      "cell_type": "markdown",
      "source": [
        "#### 2) re.split()"
      ],
      "metadata": {
        "id": "Q8LUxBLrt1Cz"
      }
    },
    {
      "cell_type": "markdown",
      "source": [
        "- 입력된 정규 표현식을 기준으로 문자열을 분리하여 리스트로 리턴 \n",
        "- 토큰화에 유용하게 쓰일 수 있음"
      ],
      "metadata": {
        "id": "ucp_f65Qt7Nb"
      }
    },
    {
      "cell_type": "code",
      "source": [
        "# 공백 기준 분리\n",
        "text = \"사과 딸기 수박 메론 바나나\"\n",
        "re.split(\" \", text)"
      ],
      "metadata": {
        "colab": {
          "base_uri": "https://localhost:8080/"
        },
        "id": "1W6DZokcuNoX",
        "outputId": "ed3a71d7-8e4e-44a2-8878-ec9d4c2f8e94"
      },
      "execution_count": null,
      "outputs": [
        {
          "output_type": "execute_result",
          "data": {
            "text/plain": [
              "['사과', '딸기', '수박', '메론', '바나나']"
            ]
          },
          "metadata": {},
          "execution_count": 19
        }
      ]
    },
    {
      "cell_type": "code",
      "source": [
        "# 줄바꿈 기준 분리\n",
        "text = \"\"\"사과\n",
        "딸기\n",
        "수박\n",
        "메론\n",
        "바나나\n",
        "\"\"\"\n",
        "\n",
        "re.split(\"\\n\", text)"
      ],
      "metadata": {
        "colab": {
          "base_uri": "https://localhost:8080/"
        },
        "id": "2PSCMOFAuT_3",
        "outputId": "a5886a25-f4ee-411b-c8f4-d2683061a789"
      },
      "execution_count": null,
      "outputs": [
        {
          "output_type": "execute_result",
          "data": {
            "text/plain": [
              "['사과', '딸기', '수박', '메론', '바나나', '']"
            ]
          },
          "metadata": {},
          "execution_count": 20
        }
      ]
    },
    {
      "cell_type": "code",
      "source": [
        "# '+'을 기준으로 분리\n",
        "text = \"사과+딸기+수박+메론+바나나\"\n",
        "re.split(\"\\+\", text)"
      ],
      "metadata": {
        "colab": {
          "base_uri": "https://localhost:8080/"
        },
        "id": "4SgpKS10ueWu",
        "outputId": "0cebe72f-a536-49dd-d93c-1895da8d6529"
      },
      "execution_count": null,
      "outputs": [
        {
          "output_type": "execute_result",
          "data": {
            "text/plain": [
              "['사과', '딸기', '수박', '메론', '바나나']"
            ]
          },
          "metadata": {},
          "execution_count": 21
        }
      ]
    },
    {
      "cell_type": "markdown",
      "source": [
        "#### 3) re.findall()"
      ],
      "metadata": {
        "id": "R4lROG5wunp4"
      }
    },
    {
      "cell_type": "markdown",
      "source": [
        "- 정규표현식과 매치되는 모든 문자열들을 리스트로 리턴\n",
        "- 매치되는 문자열이 없다면 빈 리스트를 리턴\n",
        "- 임의 텍스트에 정규표현식으로 숫자 의미 규칙의 findall()을 수행하면, 전체 텍스트로부터 숫자만 찾아내 리스트로 리턴"
      ],
      "metadata": {
        "id": "uuZGO7mVurqH"
      }
    },
    {
      "cell_type": "code",
      "source": [
        "text = \"\"\"이름: 김철수\n",
        "전화번호: 010-1234-1234\n",
        "나이: 30\n",
        "성별: 남\"\"\"\n",
        "\n",
        "re.findall(\"\\d+\", text)"
      ],
      "metadata": {
        "colab": {
          "base_uri": "https://localhost:8080/"
        },
        "id": "CxvJLZD9vNlv",
        "outputId": "3a455728-110c-432a-90bd-672eae122426"
      },
      "execution_count": null,
      "outputs": [
        {
          "output_type": "execute_result",
          "data": {
            "text/plain": [
              "['010', '1234', '1234', '30']"
            ]
          },
          "metadata": {},
          "execution_count": 22
        }
      ]
    },
    {
      "cell_type": "code",
      "source": [
        "re.findall(\"\\d+\", \"문자열입니다.\")"
      ],
      "metadata": {
        "colab": {
          "base_uri": "https://localhost:8080/"
        },
        "id": "vY5quJixvZ5n",
        "outputId": "b0cfaeb9-92ab-42ef-f4e3-4537798543d7"
      },
      "execution_count": null,
      "outputs": [
        {
          "output_type": "execute_result",
          "data": {
            "text/plain": [
              "[]"
            ]
          },
          "metadata": {},
          "execution_count": 23
        }
      ]
    },
    {
      "cell_type": "markdown",
      "source": [
        "#### 4) re.sub()"
      ],
      "metadata": {
        "id": "pAbHsjk4vmZy"
      }
    },
    {
      "cell_type": "markdown",
      "source": [
        "+ 정규표현식 패턴과 일치하는 문자열을 찾아 다른 문자열로 대체\n",
        "+ ex. 각주 등으로 '특수문자'가 섞어있는 경우, 특수문자 제거를 원한다면 알파벳 외의 문자는 공백으로 처리"
      ],
      "metadata": {
        "id": "pco5sIpDvp5x"
      }
    },
    {
      "cell_type": "code",
      "source": [
        "text = \"\"\"Regular expression : A regular expression, regex or regexp[1] \n",
        "(sometimes called a rational expression)[2][3] is, in theoretical computer science and formal language theory, \n",
        "a sequence of characters that define a search pattern.\"\"\"\n",
        "\n",
        "preprocessed_text = re.sub('[^a-zA-Z]', ' ', text)\n",
        "preprocessed_text"
      ],
      "metadata": {
        "colab": {
          "base_uri": "https://localhost:8080/",
          "height": 72
        },
        "id": "vP4BYFXDwGHR",
        "outputId": "2778fb2f-b66f-4ebf-c0c2-f0abe8740e76"
      },
      "execution_count": null,
      "outputs": [
        {
          "output_type": "execute_result",
          "data": {
            "text/plain": [
              "'Regular expression   A regular expression  regex or regexp      sometimes called a rational expression        is  in theoretical computer science and formal language theory   a sequence of characters that define a search pattern '"
            ],
            "application/vnd.google.colaboratory.intrinsic+json": {
              "type": "string"
            }
          },
          "metadata": {},
          "execution_count": 25
        }
      ]
    },
    {
      "cell_type": "markdown",
      "source": [
        "## 4. 정규 표현식 텍스트 전처리 예제\n"
      ],
      "metadata": {
        "id": "wLtbWWpBwYV_"
      }
    },
    {
      "cell_type": "markdown",
      "source": [
        "- 테이블 형식의 데이터를 임의의 텍스트에 저장한 상황"
      ],
      "metadata": {
        "id": "d8djm0Egwlrb"
      }
    },
    {
      "cell_type": "code",
      "source": [
        "text = \"\"\"100 John PROF\n",
        "101 James STUD\n",
        "102 Mac STUD\"\"\""
      ],
      "metadata": {
        "id": "f-MUYUXqwie8"
      },
      "execution_count": null,
      "outputs": []
    },
    {
      "cell_type": "code",
      "source": [
        "re.split('\\s+', text) # 공백이 하나 이상 존재하면 그걸 기준으로 분리"
      ],
      "metadata": {
        "colab": {
          "base_uri": "https://localhost:8080/"
        },
        "id": "Rs5Ih0AJwu33",
        "outputId": "27d5b7df-5c3e-456c-d6ee-121d30120acc"
      },
      "execution_count": null,
      "outputs": [
        {
          "output_type": "execute_result",
          "data": {
            "text/plain": [
              "['100', 'John', 'PROF', '101', 'James', 'STUD', '102', 'Mac', 'STUD']"
            ]
          },
          "metadata": {},
          "execution_count": 27
        }
      ]
    },
    {
      "cell_type": "code",
      "source": [
        "re.findall('\\d+', text) # 숫자가 최소 하나 이상 존재함\n",
        "# 이건 연속된 숫자로 가져오네"
      ],
      "metadata": {
        "colab": {
          "base_uri": "https://localhost:8080/"
        },
        "id": "o3xb7fdgxGzZ",
        "outputId": "a5c0638a-d87b-4269-fde4-09a312a57b31"
      },
      "execution_count": null,
      "outputs": [
        {
          "output_type": "execute_result",
          "data": {
            "text/plain": [
              "['100', '101', '102']"
            ]
          },
          "metadata": {},
          "execution_count": 28
        }
      ]
    },
    {
      "cell_type": "code",
      "source": [
        "re.findall('[A-Z]', text) # A-Z사이의 문자를 가져와서 리스트로 반환\n",
        "# 하나씩 가져옴"
      ],
      "metadata": {
        "colab": {
          "base_uri": "https://localhost:8080/"
        },
        "id": "e_4X8TVyyqiE",
        "outputId": "731aa399-2dc6-427b-f053-55c5cd2f479e"
      },
      "execution_count": null,
      "outputs": [
        {
          "output_type": "execute_result",
          "data": {
            "text/plain": [
              "['J', 'P', 'R', 'O', 'F', 'J', 'S', 'T', 'U', 'D', 'M', 'S', 'T', 'U', 'D']"
            ]
          },
          "metadata": {},
          "execution_count": 29
        }
      ]
    },
    {
      "cell_type": "code",
      "source": [
        "re.findall('[A-Z]{4}', text) # A-Z사이의 문자가 \"연속적으로 네 번\"등장하는 경우"
      ],
      "metadata": {
        "colab": {
          "base_uri": "https://localhost:8080/"
        },
        "id": "qwRPBcn5y4Wx",
        "outputId": "e58bf540-9509-472f-a7f5-f9313e6bf9fa"
      },
      "execution_count": null,
      "outputs": [
        {
          "output_type": "execute_result",
          "data": {
            "text/plain": [
              "['PROF', 'STUD', 'STUD']"
            ]
          },
          "metadata": {},
          "execution_count": 30
        }
      ]
    },
    {
      "cell_type": "code",
      "source": [
        "re.findall('[A-Z][a-z]+', text) \n",
        "# 처음에 대문자가 등장한 후에 소문자가 여러번 등장하는 경우 매치"
      ],
      "metadata": {
        "colab": {
          "base_uri": "https://localhost:8080/"
        },
        "id": "m90L0zhIzabR",
        "outputId": "f94531b6-5613-4b3c-9d35-3a5b9efa8bcd"
      },
      "execution_count": null,
      "outputs": [
        {
          "output_type": "execute_result",
          "data": {
            "text/plain": [
              "['John', 'James', 'Mac']"
            ]
          },
          "metadata": {},
          "execution_count": 31
        }
      ]
    },
    {
      "cell_type": "markdown",
      "source": [
        "## 5. 정규 표현식을 이용한 토큰화"
      ],
      "metadata": {
        "id": "bUAODpNJ0nBf"
      }
    },
    {
      "cell_type": "markdown",
      "source": [
        "+ 정규표현식 --> 단어 토큰화: Regexptokenizer()\n",
        "+ 괄호 안에 하나의 토큰으로 규정하기를 원하는 정규표현식을 넣음"
      ],
      "metadata": {
        "id": "OOnM358P11v9"
      }
    },
    {
      "cell_type": "code",
      "source": [
        "from nltk.tokenize import RegexpTokenizer"
      ],
      "metadata": {
        "id": "44rKUlhH2V7R"
      },
      "execution_count": null,
      "outputs": []
    },
    {
      "cell_type": "code",
      "source": [
        "text = \"\"\"Don't be fooled by the dark sounding name, \n",
        "Mr.Jone's Orphanage is as cheery goes for a pastry shop\"\"\""
      ],
      "metadata": {
        "id": "MEvRVtaS3MDh"
      },
      "execution_count": null,
      "outputs": []
    },
    {
      "cell_type": "code",
      "source": [
        "tokenizer1 = RegexpTokenizer(\"[\\w]+\") # 문자 또는 숫자가 하나 이상 포함된 경우 (이 덩어리로 분리한다)\n",
        "tokenizer2 = RegexpTokenizer(\"\\s+\", gaps = True) (# gaps가 들어가면 나누는 기준이 된다)\n",
        "# gaps: 해당 정규 표현식을 토큰으로 나누기 위한 기준으로 사용한다. \n",
        "\n",
        "print(tokenizer1.tokenize(text))\n",
        "print(tokenizer2.tokenize(text))"
      ],
      "metadata": {
        "colab": {
          "base_uri": "https://localhost:8080/"
        },
        "id": "aoH0JtqC3bIU",
        "outputId": "f229f58b-a2aa-496c-b394-0e96d568175c"
      },
      "execution_count": null,
      "outputs": [
        {
          "output_type": "stream",
          "name": "stdout",
          "text": [
            "['Don', 't', 'be', 'fooled', 'by', 'the', 'dark', 'sounding', 'name', 'Mr', 'Jone', 's', 'Orphanage', 'is', 'as', 'cheery', 'goes', 'for', 'a', 'pastry', 'shop']\n",
            "[\"Don't\", 'be', 'fooled', 'by', 'the', 'dark', 'sounding', 'name,', \"Mr.Jone's\", 'Orphanage', 'is', 'as', 'cheery', 'goes', 'for', 'a', 'pastry', 'shop']\n"
          ]
        }
      ]
    },
    {
      "cell_type": "code",
      "source": [
        ""
      ],
      "metadata": {
        "id": "C7ijKcsQ3146"
      },
      "execution_count": null,
      "outputs": []
    }
  ]
}