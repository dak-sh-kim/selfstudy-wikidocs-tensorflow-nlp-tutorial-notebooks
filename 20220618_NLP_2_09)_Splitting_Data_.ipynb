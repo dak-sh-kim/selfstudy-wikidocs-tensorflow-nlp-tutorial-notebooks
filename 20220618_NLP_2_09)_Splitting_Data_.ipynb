{
  "nbformat": 4,
  "nbformat_minor": 0,
  "metadata": {
    "colab": {
      "name": "20220618_NLP_2-09) Splitting Data .ipynb",
      "provenance": [],
      "authorship_tag": "ABX9TyMZra14lm3LwkuJB/i/ESIa",
      "include_colab_link": true
    },
    "kernelspec": {
      "name": "python3",
      "display_name": "Python 3"
    },
    "language_info": {
      "name": "python"
    }
  },
  "cells": [
    {
      "cell_type": "markdown",
      "metadata": {
        "id": "view-in-github",
        "colab_type": "text"
      },
      "source": [
        "<a href=\"https://colab.research.google.com/github/dak-sh-kim/selfstudy-wikidocs-tensorflow-nlp-tutorial-notebooks/blob/main/20220618_NLP_2_09)_Splitting_Data_.ipynb\" target=\"_parent\"><img src=\"https://colab.research.google.com/assets/colab-badge.svg\" alt=\"Open In Colab\"/></a>"
      ]
    },
    {
      "cell_type": "markdown",
      "source": [
        "# 1) 데이터의 분리 (Splitting Data)"
      ],
      "metadata": {
        "id": "9BcSnrpPzo6V"
      }
    },
    {
      "cell_type": "markdown",
      "source": [
        "## 1. 지도 학습 (Supervised Learning)"
      ],
      "metadata": {
        "id": "srPVJoYfyvcO"
      }
    },
    {
      "cell_type": "markdown",
      "source": [
        "- 머신러닝 모델을 학습 & 평가하기 위해 (지도학습을 위해), 데이터를 적절하게 분리하는 작업이 필요"
      ],
      "metadata": {
        "id": "f8xj27zpwXUp"
      }
    },
    {
      "cell_type": "code",
      "source": [
        "import pandas as pd\n",
        "import numpy as np\n",
        "from sklearn.model_selection import train_test_split"
      ],
      "metadata": {
        "id": "oN4qwvtqxHwR"
      },
      "execution_count": null,
      "outputs": []
    },
    {
      "cell_type": "markdown",
      "source": [
        "<훈련데이터>\n",
        "- X_train: 문제지 데이터\n",
        "- y_train: 문제지 정답지\n",
        "\n",
        "<시험지 데이터>\n",
        "- X_test: 시험지 데이터\n",
        "- y_test: 시험지 정답지\n",
        "- *y_pred: 기계가 X_test를 사용해 도출해낸 정답지\n",
        "- accuracy: y_test와 y_pred를 비교해서 정답을 얼마나 맞췄는지 %로 표기"
      ],
      "metadata": {
        "id": "oPKgjLxixMn-"
      }
    },
    {
      "cell_type": "markdown",
      "source": [
        "*y_test와 y_pred 는 X_test와 맵핑(mapping) 됨"
      ],
      "metadata": {
        "id": "3DSSNsdsybln"
      }
    },
    {
      "cell_type": "markdown",
      "source": [
        "## 2. X와 y 분리하기"
      ],
      "metadata": {
        "id": "An35_qwVyi_s"
      }
    },
    {
      "cell_type": "markdown",
      "source": [
        "### 1) zip 함수를 이용하여 분리하기"
      ],
      "metadata": {
        "id": "g5eHarNqy3If"
      }
    },
    {
      "cell_type": "markdown",
      "source": [
        "- zip() 함수는 동일한 변수 갯수를 가지는 시퀀스 자료형에서 각 변수에 등장하는 원소들끼리 묶어주는 역할\n",
        "- 리스트의 리스트 구성에서 zip()함수는 X와 y를 분리하는데 유용"
      ],
      "metadata": {
        "id": "2q847rzezUHr"
      }
    },
    {
      "cell_type": "code",
      "source": [
        "# zip 함수의 역할\n",
        "  # x, y = zip([x1, y1], [x2, y2], [x3, y3])\n",
        "  # print(x); (x1, x2, x3)  --> tuple 로 반환\n",
        "  # print(y): (y1, y2, y3)"
      ],
      "metadata": {
        "id": "wtSGnmsbzhRT"
      },
      "execution_count": null,
      "outputs": []
    },
    {
      "cell_type": "code",
      "source": [
        "x, y = zip(['a', 1], ['b', 2], ['c', 3])\n",
        "print('x 데이터: ', x)\n",
        "print('y 데이터: ', y)\n",
        "print(type(x))"
      ],
      "metadata": {
        "colab": {
          "base_uri": "https://localhost:8080/"
        },
        "id": "QGPKtAxe0uJ5",
        "outputId": "54159131-3de1-4ffa-f78f-12d19c116a1b"
      },
      "execution_count": null,
      "outputs": [
        {
          "output_type": "stream",
          "name": "stdout",
          "text": [
            "x 데이터:  ('a', 'b', 'c')\n",
            "y 데이터:  (1, 2, 3)\n",
            "<class 'tuple'>\n"
          ]
        }
      ]
    },
    {
      "cell_type": "markdown",
      "source": [
        "- 리스트의 리스트 또는 행렬 또는 뒤에서 배울 개념인 2D 텐서"
      ],
      "metadata": {
        "id": "e4z6Ump204DF"
      }
    },
    {
      "cell_type": "code",
      "source": [
        "sequences = [['a', 1], ['b', 2], ['c', 3]]\n",
        "x, y = zip(*sequences) # 별표 붙여야 돌아감\n",
        "print('x 데이터: ', x)\n",
        "print('y 데이터: ', y)\n",
        "print(type(y)) # 튜플인데 이걸 다시 리스트화 해서 쓴다고...? 싶은 의문이 들기는 한다. 그냥 넣어도 돌아가나?"
      ],
      "metadata": {
        "colab": {
          "base_uri": "https://localhost:8080/"
        },
        "id": "FHFrVHrp04xc",
        "outputId": "221df48b-e8d8-4412-feac-31a43f15129c"
      },
      "execution_count": null,
      "outputs": [
        {
          "output_type": "stream",
          "name": "stdout",
          "text": [
            "x 데이터:  ('a', 'b', 'c')\n",
            "y 데이터:  (1, 2, 3)\n",
            "<class 'tuple'>\n"
          ]
        }
      ]
    },
    {
      "cell_type": "markdown",
      "source": [
        "### 2) 데이터프레임을 이용하여 분리하기"
      ],
      "metadata": {
        "id": "550q-HxU1ym3"
      }
    },
    {
      "cell_type": "code",
      "source": [
        "values = [['당신에게 드리는 마지막 혜택!', 1],\n",
        "['내일 뵐 수 있을지 확인 부탁드...', 0],\n",
        "['도연씨. 잘 지내시죠? 오랜만입...', 0],\n",
        "['(광고) AI로 주가를 예측할 수 있다!', 1]]\n",
        "\n",
        "columns = ['메일 본문', '스팸 메일 유무']\n",
        "\n",
        "df = pd.DataFrame(values, columns = columns)\n",
        "df"
      ],
      "metadata": {
        "colab": {
          "base_uri": "https://localhost:8080/",
          "height": 175
        },
        "id": "QVtgfUR24uSC",
        "outputId": "f54a42f0-29cd-4d53-a363-1e7503b92980"
      },
      "execution_count": null,
      "outputs": [
        {
          "output_type": "execute_result",
          "data": {
            "text/plain": [
              "                    메일 본문  스팸 메일 유무\n",
              "0        당신에게 드리는 마지막 혜택!         1\n",
              "1    내일 뵐 수 있을지 확인 부탁드...         0\n",
              "2    도연씨. 잘 지내시죠? 오랜만입...         0\n",
              "3  (광고) AI로 주가를 예측할 수 있다!         1"
            ],
            "text/html": [
              "\n",
              "  <div id=\"df-c170346d-f790-4d24-a9f2-51cf73510f0d\">\n",
              "    <div class=\"colab-df-container\">\n",
              "      <div>\n",
              "<style scoped>\n",
              "    .dataframe tbody tr th:only-of-type {\n",
              "        vertical-align: middle;\n",
              "    }\n",
              "\n",
              "    .dataframe tbody tr th {\n",
              "        vertical-align: top;\n",
              "    }\n",
              "\n",
              "    .dataframe thead th {\n",
              "        text-align: right;\n",
              "    }\n",
              "</style>\n",
              "<table border=\"1\" class=\"dataframe\">\n",
              "  <thead>\n",
              "    <tr style=\"text-align: right;\">\n",
              "      <th></th>\n",
              "      <th>메일 본문</th>\n",
              "      <th>스팸 메일 유무</th>\n",
              "    </tr>\n",
              "  </thead>\n",
              "  <tbody>\n",
              "    <tr>\n",
              "      <th>0</th>\n",
              "      <td>당신에게 드리는 마지막 혜택!</td>\n",
              "      <td>1</td>\n",
              "    </tr>\n",
              "    <tr>\n",
              "      <th>1</th>\n",
              "      <td>내일 뵐 수 있을지 확인 부탁드...</td>\n",
              "      <td>0</td>\n",
              "    </tr>\n",
              "    <tr>\n",
              "      <th>2</th>\n",
              "      <td>도연씨. 잘 지내시죠? 오랜만입...</td>\n",
              "      <td>0</td>\n",
              "    </tr>\n",
              "    <tr>\n",
              "      <th>3</th>\n",
              "      <td>(광고) AI로 주가를 예측할 수 있다!</td>\n",
              "      <td>1</td>\n",
              "    </tr>\n",
              "  </tbody>\n",
              "</table>\n",
              "</div>\n",
              "      <button class=\"colab-df-convert\" onclick=\"convertToInteractive('df-c170346d-f790-4d24-a9f2-51cf73510f0d')\"\n",
              "              title=\"Convert this dataframe to an interactive table.\"\n",
              "              style=\"display:none;\">\n",
              "        \n",
              "  <svg xmlns=\"http://www.w3.org/2000/svg\" height=\"24px\"viewBox=\"0 0 24 24\"\n",
              "       width=\"24px\">\n",
              "    <path d=\"M0 0h24v24H0V0z\" fill=\"none\"/>\n",
              "    <path d=\"M18.56 5.44l.94 2.06.94-2.06 2.06-.94-2.06-.94-.94-2.06-.94 2.06-2.06.94zm-11 1L8.5 8.5l.94-2.06 2.06-.94-2.06-.94L8.5 2.5l-.94 2.06-2.06.94zm10 10l.94 2.06.94-2.06 2.06-.94-2.06-.94-.94-2.06-.94 2.06-2.06.94z\"/><path d=\"M17.41 7.96l-1.37-1.37c-.4-.4-.92-.59-1.43-.59-.52 0-1.04.2-1.43.59L10.3 9.45l-7.72 7.72c-.78.78-.78 2.05 0 2.83L4 21.41c.39.39.9.59 1.41.59.51 0 1.02-.2 1.41-.59l7.78-7.78 2.81-2.81c.8-.78.8-2.07 0-2.86zM5.41 20L4 18.59l7.72-7.72 1.47 1.35L5.41 20z\"/>\n",
              "  </svg>\n",
              "      </button>\n",
              "      \n",
              "  <style>\n",
              "    .colab-df-container {\n",
              "      display:flex;\n",
              "      flex-wrap:wrap;\n",
              "      gap: 12px;\n",
              "    }\n",
              "\n",
              "    .colab-df-convert {\n",
              "      background-color: #E8F0FE;\n",
              "      border: none;\n",
              "      border-radius: 50%;\n",
              "      cursor: pointer;\n",
              "      display: none;\n",
              "      fill: #1967D2;\n",
              "      height: 32px;\n",
              "      padding: 0 0 0 0;\n",
              "      width: 32px;\n",
              "    }\n",
              "\n",
              "    .colab-df-convert:hover {\n",
              "      background-color: #E2EBFA;\n",
              "      box-shadow: 0px 1px 2px rgba(60, 64, 67, 0.3), 0px 1px 3px 1px rgba(60, 64, 67, 0.15);\n",
              "      fill: #174EA6;\n",
              "    }\n",
              "\n",
              "    [theme=dark] .colab-df-convert {\n",
              "      background-color: #3B4455;\n",
              "      fill: #D2E3FC;\n",
              "    }\n",
              "\n",
              "    [theme=dark] .colab-df-convert:hover {\n",
              "      background-color: #434B5C;\n",
              "      box-shadow: 0px 1px 3px 1px rgba(0, 0, 0, 0.15);\n",
              "      filter: drop-shadow(0px 1px 2px rgba(0, 0, 0, 0.3));\n",
              "      fill: #FFFFFF;\n",
              "    }\n",
              "  </style>\n",
              "\n",
              "      <script>\n",
              "        const buttonEl =\n",
              "          document.querySelector('#df-c170346d-f790-4d24-a9f2-51cf73510f0d button.colab-df-convert');\n",
              "        buttonEl.style.display =\n",
              "          google.colab.kernel.accessAllowed ? 'block' : 'none';\n",
              "\n",
              "        async function convertToInteractive(key) {\n",
              "          const element = document.querySelector('#df-c170346d-f790-4d24-a9f2-51cf73510f0d');\n",
              "          const dataTable =\n",
              "            await google.colab.kernel.invokeFunction('convertToInteractive',\n",
              "                                                     [key], {});\n",
              "          if (!dataTable) return;\n",
              "\n",
              "          const docLinkHtml = 'Like what you see? Visit the ' +\n",
              "            '<a target=\"_blank\" href=https://colab.research.google.com/notebooks/data_table.ipynb>data table notebook</a>'\n",
              "            + ' to learn more about interactive tables.';\n",
              "          element.innerHTML = '';\n",
              "          dataTable['output_type'] = 'display_data';\n",
              "          await google.colab.output.renderOutput(dataTable, element);\n",
              "          const docLink = document.createElement('div');\n",
              "          docLink.innerHTML = docLinkHtml;\n",
              "          element.appendChild(docLink);\n",
              "        }\n",
              "      </script>\n",
              "    </div>\n",
              "  </div>\n",
              "  "
            ]
          },
          "metadata": {},
          "execution_count": 15
        }
      ]
    },
    {
      "cell_type": "code",
      "source": [
        "X = df['메일 본문']\n",
        "y = df['스팸 메일 유무']"
      ],
      "metadata": {
        "id": "VP4m79sX5Pkw"
      },
      "execution_count": null,
      "outputs": []
    },
    {
      "cell_type": "code",
      "source": [
        "print(\"X 데이터:\", X.to_list())\n",
        "print(\"y 데이터:\", y.to_list())"
      ],
      "metadata": {
        "colab": {
          "base_uri": "https://localhost:8080/"
        },
        "id": "y2RNoYr75YxD",
        "outputId": "b0a8c725-35e1-423c-c66b-e7757a0af00d"
      },
      "execution_count": null,
      "outputs": [
        {
          "output_type": "stream",
          "name": "stdout",
          "text": [
            "X 데이터: ['당신에게 드리는 마지막 혜택!', '내일 뵐 수 있을지 확인 부탁드...', '도연씨. 잘 지내시죠? 오랜만입...', '(광고) AI로 주가를 예측할 수 있다!']\n",
            "y 데이터: [1, 0, 0, 1]\n"
          ]
        }
      ]
    },
    {
      "cell_type": "markdown",
      "source": [
        "### 3) Numpy를 이용하여 분리하기"
      ],
      "metadata": {
        "id": "lJIMfNdz5dqN"
      }
    },
    {
      "cell_type": "markdown",
      "source": [
        "- 임의의 데이터를 만들어 Numpy의 슬라이싱(Slicing)을 사용하여 데이터 분리"
      ],
      "metadata": {
        "id": "n5n7p2Bi5kjg"
      }
    },
    {
      "cell_type": "code",
      "source": [
        "np_array = np.arange(0, 16).reshape((4,4))\n",
        "print(\"전체 데이터: \")\n",
        "print(np_array)"
      ],
      "metadata": {
        "colab": {
          "base_uri": "https://localhost:8080/"
        },
        "id": "viZ-WeLu5qEH",
        "outputId": "973473b3-026b-417b-a668-d829fed06597"
      },
      "execution_count": null,
      "outputs": [
        {
          "output_type": "stream",
          "name": "stdout",
          "text": [
            "전체 데이터: \n",
            "[[ 0  1  2  3]\n",
            " [ 4  5  6  7]\n",
            " [ 8  9 10 11]\n",
            " [12 13 14 15]]\n"
          ]
        }
      ]
    },
    {
      "cell_type": "markdown",
      "source": [
        "- 마지막 열을 제외하고 X데이터에 저장, 마지막 열만을 y 데이터에 저장"
      ],
      "metadata": {
        "id": "WjwvzSZE54_n"
      }
    },
    {
      "cell_type": "code",
      "source": [
        "X = np_array[:, :3]\n",
        "y = np_array[:, 3]"
      ],
      "metadata": {
        "id": "3uzX-BeR6BwV"
      },
      "execution_count": null,
      "outputs": []
    },
    {
      "cell_type": "code",
      "source": [
        "print('X 데이터 :')\n",
        "print(X)\n",
        "print('y 데이터 :',y)"
      ],
      "metadata": {
        "colab": {
          "base_uri": "https://localhost:8080/"
        },
        "id": "7M4pGbJZ6Hjd",
        "outputId": "7dc67375-0c13-4502-f6ce-1fc90b42d71c"
      },
      "execution_count": null,
      "outputs": [
        {
          "output_type": "stream",
          "name": "stdout",
          "text": [
            "X 데이터 :\n",
            "[[ 0  1  2]\n",
            " [ 4  5  6]\n",
            " [ 8  9 10]\n",
            " [12 13 14]]\n",
            "y 데이터 : [ 3  7 11 15]\n"
          ]
        }
      ]
    },
    {
      "cell_type": "markdown",
      "source": [
        "## 3. 테스트 데이터 분리하기"
      ],
      "metadata": {
        "id": "Ne7fdavo6Rmm"
      }
    },
    {
      "cell_type": "markdown",
      "source": [
        "- 이미 X와 y가 분리된 데이터에 대해 테스트 데이터를 분리하는 과정"
      ],
      "metadata": {
        "id": "v4GJ19fK6e4B"
      }
    },
    {
      "cell_type": "markdown",
      "source": [
        "### 1) scikitlearn을 이용하요 분리하기"
      ],
      "metadata": {
        "id": "tT2sazwI6iMw"
      }
    },
    {
      "cell_type": "markdown",
      "source": [
        "- train와 test 를 분리해주는 train_test_split()을 지원"
      ],
      "metadata": {
        "id": "hDIaftEj6nbX"
      }
    },
    {
      "cell_type": "code",
      "source": [
        "X_train, X_test, y_train, y_test = train_test_split(X, y, test_size = 0.2, random_state = 1234)"
      ],
      "metadata": {
        "id": "ylMRAnp26v_4"
      },
      "execution_count": null,
      "outputs": []
    },
    {
      "cell_type": "markdown",
      "source": [
        "- X: 독립변수 데이터 (array or dataframe)\n",
        "- y: 종속변수 데이터, label 데이터 \n",
        "- test_size: 테스트 데이터 개수 지정, 1보다 작은 실수 기재할 경우 비율\n",
        "- train_size: 학습 데이터 개수 지정, 1보다 작은 실수 기재할 경우 비율\n",
        "_ random_state: 난수 시드"
      ],
      "metadata": {
        "id": "505S6H88690H"
      }
    },
    {
      "cell_type": "code",
      "source": [
        "# 임의로 X와 y 데이터 생성\n",
        "X, y = np.arange(10).reshape((5, 2)), range(5) # reshape() 과 reshape(()) 차이가 뭔지 모르겠음"
      ],
      "metadata": {
        "id": "yQ9UDIaE7i-u"
      },
      "execution_count": null,
      "outputs": []
    },
    {
      "cell_type": "code",
      "source": [
        "print('X 전체 데이터 :')\n",
        "print(X)\n",
        "print('y 전체 데이터 :')\n",
        "print(list(y))"
      ],
      "metadata": {
        "colab": {
          "base_uri": "https://localhost:8080/"
        },
        "id": "WS_Pd-HM7rZI",
        "outputId": "6307e806-9ab1-433a-da49-40cf54642067"
      },
      "execution_count": null,
      "outputs": [
        {
          "output_type": "stream",
          "name": "stdout",
          "text": [
            "X 전체 데이터 :\n",
            "[[0 1]\n",
            " [2 3]\n",
            " [4 5]\n",
            " [6 7]\n",
            " [8 9]]\n",
            "y 전체 데이터 :\n",
            "[0, 1, 2, 3, 4]\n"
          ]
        }
      ]
    },
    {
      "cell_type": "code",
      "source": [
        "# 7:3 의 비율로 훈련 데이터와 테스트 데이터 분리\n",
        "X_train, X_test, y_train, y_test = train_test_split(X, y, test_size = 0.3, random_state=1234)"
      ],
      "metadata": {
        "id": "5fVuRAQU8QMm"
      },
      "execution_count": null,
      "outputs": []
    },
    {
      "cell_type": "code",
      "source": [
        "print('X 훈련 데이터 :')\n",
        "print(X_train)\n",
        "print('X 테스트 데이터 :')\n",
        "print(X_test)"
      ],
      "metadata": {
        "colab": {
          "base_uri": "https://localhost:8080/"
        },
        "id": "Q6ag7J4K9JmW",
        "outputId": "a5b4f6dd-16d4-4365-8773-6d0549b889ed"
      },
      "execution_count": null,
      "outputs": [
        {
          "output_type": "stream",
          "name": "stdout",
          "text": [
            "X 훈련 데이터 :\n",
            "[[2 3]\n",
            " [4 5]\n",
            " [6 7]]\n",
            "X 테스트 데이터 :\n",
            "[[8 9]\n",
            " [0 1]]\n"
          ]
        }
      ]
    },
    {
      "cell_type": "code",
      "source": [
        "print('y 훈련 데이터 :')\n",
        "print(y_train)\n",
        "print('y 테스트 데이터 :')\n",
        "print(y_test)"
      ],
      "metadata": {
        "colab": {
          "base_uri": "https://localhost:8080/"
        },
        "id": "caReb_4v9Mnu",
        "outputId": "0e5d0c84-8d0a-4602-eb38-264fff34e341"
      },
      "execution_count": null,
      "outputs": [
        {
          "output_type": "stream",
          "name": "stdout",
          "text": [
            "y 훈련 데이터 :\n",
            "[1, 2, 3]\n",
            "y 테스트 데이터 :\n",
            "[4, 0]\n"
          ]
        }
      ]
    },
    {
      "cell_type": "code",
      "source": [
        "# random_state 값을 변경 (데이터를 뽑아낼 때 비율만 정해주고 섞어서 뽑기 때문)\n",
        "X_train, X_test, y_train, y_test = train_test_split(X, y, test_size = 0.3, random_state = 1)"
      ],
      "metadata": {
        "id": "fHqMEasa9Rym"
      },
      "execution_count": null,
      "outputs": []
    },
    {
      "cell_type": "code",
      "source": [
        "print('y 훈련 데이터 :')\n",
        "print(y_train)\n",
        "print('y 테스트 데이터 :')\n",
        "print(y_test)"
      ],
      "metadata": {
        "colab": {
          "base_uri": "https://localhost:8080/"
        },
        "id": "pm7iAxwH9oXH",
        "outputId": "27efa439-d928-4524-ff29-ff46721e7889"
      },
      "execution_count": null,
      "outputs": [
        {
          "output_type": "stream",
          "name": "stdout",
          "text": [
            "y 훈련 데이터 :\n",
            "[4, 0, 3]\n",
            "y 테스트 데이터 :\n",
            "[2, 1]\n"
          ]
        }
      ]
    },
    {
      "cell_type": "code",
      "source": [
        "# random_state를 이전에 값이었던 1234로 변경\n",
        "X_train, X_test, y_train, y_test = train_test_split(X, y, test_size = 0.3, random_state = 1234)"
      ],
      "metadata": {
        "id": "ke_BYvbT9pVG"
      },
      "execution_count": null,
      "outputs": []
    },
    {
      "cell_type": "code",
      "source": [
        "print('y 훈련 데이터 :')\n",
        "print(y_train)\n",
        "print('y 테스트 데이터 :')\n",
        "print(y_test)"
      ],
      "metadata": {
        "colab": {
          "base_uri": "https://localhost:8080/"
        },
        "id": "stV6FPDI98Rf",
        "outputId": "bffe5c09-b341-4f22-f3b4-951e4a48c91d"
      },
      "execution_count": null,
      "outputs": [
        {
          "output_type": "stream",
          "name": "stdout",
          "text": [
            "y 훈련 데이터 :\n",
            "[1, 2, 3]\n",
            "y 테스트 데이터 :\n",
            "[4, 0]\n"
          ]
        }
      ]
    },
    {
      "cell_type": "markdown",
      "source": [
        "### 2) 수동으로 분리하기"
      ],
      "metadata": {
        "id": "XrMhI4z899dH"
      }
    },
    {
      "cell_type": "code",
      "source": [
        "# 실습을 위해 임의로 X와 y가 이미 분리된 데이터를 생성\n",
        "X, y = np.arange(0, 24).reshape((12, 2)), range(12)"
      ],
      "metadata": {
        "id": "tl9Ks4os-B4X"
      },
      "execution_count": null,
      "outputs": []
    },
    {
      "cell_type": "code",
      "source": [
        "print('X 전체 데이터: ')\n",
        "print(X)\n",
        "print('y 전체 데이터: ')\n",
        "print(list(y))"
      ],
      "metadata": {
        "colab": {
          "base_uri": "https://localhost:8080/"
        },
        "id": "Rk7zPvyxAW0B",
        "outputId": "e435daee-7efb-4963-acd9-f5dd917b3887"
      },
      "execution_count": null,
      "outputs": [
        {
          "output_type": "stream",
          "name": "stdout",
          "text": [
            "X 전체 데이터: \n",
            "[[ 0  1]\n",
            " [ 2  3]\n",
            " [ 4  5]\n",
            " [ 6  7]\n",
            " [ 8  9]\n",
            " [10 11]\n",
            " [12 13]\n",
            " [14 15]\n",
            " [16 17]\n",
            " [18 19]\n",
            " [20 21]\n",
            " [22 23]]\n",
            "y 전체 데이터: \n",
            "[0, 1, 2, 3, 4, 5, 6, 7, 8, 9, 10, 11]\n"
          ]
        }
      ]
    },
    {
      "cell_type": "code",
      "source": [
        "num_of_train = int(len(X) * 0.8) # 데이터의 전체 길이의 80%에 해당하는 길이값을 구한다\n",
        "num_of_test = int(len(X) - num_of_train) # 전체 길이에서 80%에 해당하는 길이를 뺀다\n",
        "print('훈련 데이터의 크기 :',num_of_train)\n",
        "print('테스트 데이터의 크기 :',num_of_test)"
      ],
      "metadata": {
        "colab": {
          "base_uri": "https://localhost:8080/"
        },
        "id": "cl_WcWJIAlL4",
        "outputId": "1365f782-c82d-4865-ae06-ed7f91f398fe"
      },
      "execution_count": null,
      "outputs": [
        {
          "output_type": "stream",
          "name": "stdout",
          "text": [
            "훈련 데이터의 크기 : 9\n",
            "테스트 데이터의 크기 : 3\n"
          ]
        }
      ]
    },
    {
      "cell_type": "code",
      "source": [
        "X_test = X[num_of_train:] # 전체 데이터 중에서 20%만큼 뒤의 데이터 저장\n",
        "y_test = y[num_of_train:] # 전체 데이터 중에서 20%만큼 뒤의 데이터 저장\n",
        "X_train = X[:num_of_train] # 전체 데이터 중에서 80%만큼 앞의 데이터 저장\n",
        "y_train = y[:num_of_train] # 전체 데이터 중에서 80%만큼 앞의 데이터 저장\n",
        "\n",
        "  # num_of_train 과 같이 하나의 변수만 사용하면 데이터의 누락을 방지할 수 있음"
      ],
      "metadata": {
        "id": "kn5IHtS6BBaH"
      },
      "execution_count": null,
      "outputs": []
    },
    {
      "cell_type": "code",
      "source": [
        "print('X 테스트 데이터 :')\n",
        "print(X_test)\n",
        "print('y 테스트 데이터 :')\n",
        "print(list(y_test)) # 데이터가 섞이지 않은 채 어느 지점에서 앞과 뒤로 분리했다는 점이 다름. "
      ],
      "metadata": {
        "colab": {
          "base_uri": "https://localhost:8080/"
        },
        "id": "KJGZrdzbBsmY",
        "outputId": "a621cff2-912f-42a8-a8fe-3164ed0b3cdd"
      },
      "execution_count": null,
      "outputs": [
        {
          "output_type": "stream",
          "name": "stdout",
          "text": [
            "X 테스트 데이터 :\n",
            "[[18 19]\n",
            " [20 21]\n",
            " [22 23]]\n",
            "y 테스트 데이터 :\n",
            "[9, 10, 11]\n"
          ]
        }
      ]
    },
    {
      "cell_type": "code",
      "source": [
        ""
      ],
      "metadata": {
        "id": "hAZxmTO4B-7Q"
      },
      "execution_count": null,
      "outputs": []
    }
  ]
}