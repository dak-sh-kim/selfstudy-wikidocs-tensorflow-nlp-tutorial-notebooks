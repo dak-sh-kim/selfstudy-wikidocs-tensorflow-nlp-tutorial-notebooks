{
  "nbformat": 4,
  "nbformat_minor": 0,
  "metadata": {
    "colab": {
      "name": "20220610_NLP_2-03) Stemming&Lemmatization.ipynb",
      "provenance": [],
      "collapsed_sections": [],
      "authorship_tag": "ABX9TyMVgjB/n1Qc4bkWFrJMYML/",
      "include_colab_link": true
    },
    "kernelspec": {
      "name": "python3",
      "display_name": "Python 3"
    },
    "language_info": {
      "name": "python"
    }
  },
  "cells": [
    {
      "cell_type": "markdown",
      "metadata": {
        "id": "view-in-github",
        "colab_type": "text"
      },
      "source": [
        "<a href=\"https://colab.research.google.com/github/dak-sh-kim/selfstudy-wikidocs-tensorflow-nlp-tutorial-notebooks/blob/main/20220610_NLP_2_03)_Stemming%26Lemmatization.ipynb\" target=\"_parent\"><img src=\"https://colab.research.google.com/assets/colab-badge.svg\" alt=\"Open In Colab\"/></a>"
      ]
    },
    {
      "cell_type": "markdown",
      "source": [
        "# 03) 어간추출(Stemming) and 표제어 추출(Lemmatization)"
      ],
      "metadata": {
        "id": "p_dP0MvIK3gE"
      }
    },
    {
      "cell_type": "markdown",
      "source": [
        "- 눈으로 봤을 때 서로 다른 단어를, 일반화 시킬 수 있다면 일반화 시켜서 문서 내의 단어 수를 줄이겠다는 목적\n",
        "- 단어 빈도수 기반 문제에서 유용하게 사용 (ex. Bag of Words)\n",
        "- 자연어처리에서 전처리(더 정확히는 정규화) 지향점: corpus 복잡성 줄이는 일"
      ],
      "metadata": {
        "id": "NgZwiVhhLOlX"
      }
    },
    {
      "cell_type": "markdown",
      "source": [
        "## 1. 표제어 추출(Lemmatization) - 기본 사전형 단어"
      ],
      "metadata": {
        "id": "KZWEjBJYLgJa"
      }
    },
    {
      "cell_type": "markdown",
      "source": [
        "+ 뿌리단어 찾기임\n",
        "+ ex. am, are, is --> be\n",
        "+ 가장 섬세한 방법은 단어의 형태학적 파싱을 먼저 진행하는 것\n",
        "+ 즉, 형태소 추출하는 것."
      ],
      "metadata": {
        "id": "Z-B-L-BELk-b"
      }
    },
    {
      "cell_type": "markdown",
      "source": [
        "형태학적 파싱이란\n",
        "+ 어간(stem-단어의 핵심부분) + 접사(affix-단어의 추가적 의미)\n",
        "+ ex. cats --> cat + s"
      ],
      "metadata": {
        "id": "_EcrktHCL6dB"
      }
    },
    {
      "cell_type": "markdown",
      "source": [
        "### 표제어 추출 예제 (WordNetLemmatizer)"
      ],
      "metadata": {
        "id": "NB4LIBIXQ3Ea"
      }
    },
    {
      "cell_type": "code",
      "source": [
        "from nltk.stem import WordNetLemmatizer\n",
        "lemmatizer = WordNetLemmatizer()"
      ],
      "metadata": {
        "id": "9WFrkYLSQ-9L"
      },
      "execution_count": null,
      "outputs": []
    },
    {
      "cell_type": "code",
      "source": [
        "import nltk\n",
        "nltk.download('wordnet')"
      ],
      "metadata": {
        "colab": {
          "base_uri": "https://localhost:8080/"
        },
        "id": "hqaAi_X9SFUY",
        "outputId": "e9599351-6afb-4ae9-bf9a-a8c6fdfe0b59"
      },
      "execution_count": null,
      "outputs": [
        {
          "output_type": "stream",
          "name": "stdout",
          "text": [
            "[nltk_data] Downloading package wordnet to /root/nltk_data...\n",
            "[nltk_data]   Unzipping corpora/wordnet.zip.\n"
          ]
        },
        {
          "output_type": "execute_result",
          "data": {
            "text/plain": [
              "True"
            ]
          },
          "metadata": {},
          "execution_count": 7
        }
      ]
    },
    {
      "cell_type": "code",
      "source": [
        "words = ['policy', 'doing', 'organization', 'have', 'going', 'love', 'lives', 'fly', 'dies', 'watched', 'has', 'starting']"
      ],
      "metadata": {
        "id": "SbGyvRHtRF7Y"
      },
      "execution_count": null,
      "outputs": []
    },
    {
      "cell_type": "code",
      "source": [
        "print(\"표제어 추출 전: \", words)\n",
        "print(\"표제어 추출 후: \", [lemmatizer.lemmatize(word) for word in words])\n",
        "print(\"표제어: 단어의 형태가 적절히 보존 cf. 어간추출: 보존X\")\n",
        "print(\"'dy', 'ha' 등 오류: lemmatizer는 본래 단어의 품사 정보를 알아야 정확한 결과 얻음\")"
      ],
      "metadata": {
        "colab": {
          "base_uri": "https://localhost:8080/"
        },
        "id": "4rFpAvC9RYZE",
        "outputId": "023e2dd9-c9af-4986-8b02-c0dc269ca797"
      },
      "execution_count": null,
      "outputs": [
        {
          "output_type": "stream",
          "name": "stdout",
          "text": [
            "표제어 추출 전:  ['policy', 'doing', 'organization', 'have', 'going', 'love', 'lives', 'fly', 'dies', 'watched', 'has', 'starting']\n",
            "표제어 추출 후:  ['policy', 'doing', 'organization', 'have', 'going', 'love', 'life', 'fly', 'dy', 'watched', 'ha', 'starting']\n",
            "표제어: 단어의 형태가 적절히 보존 cf. 어간추출: 보존X\n",
            "'dy', 'ha' 등 오류: lemmatizer는 본래 단어의 품사 정보를 알아야 정확한 결과 얻음\n"
          ]
        }
      ]
    },
    {
      "cell_type": "code",
      "source": [
        "# WordNetLemmatizer: 입력을 통해 해당 단어의 품사를 알려줄 수 있음\n",
        "lemmatizer.lemmatize('dies', 'v')"
      ],
      "metadata": {
        "colab": {
          "base_uri": "https://localhost:8080/",
          "height": 35
        },
        "id": "56uMzooCSAgK",
        "outputId": "12b6989e-9a9c-4911-8596-d810029e69dd"
      },
      "execution_count": null,
      "outputs": [
        {
          "output_type": "execute_result",
          "data": {
            "text/plain": [
              "'die'"
            ],
            "application/vnd.google.colaboratory.intrinsic+json": {
              "type": "string"
            }
          },
          "metadata": {},
          "execution_count": 15
        }
      ]
    },
    {
      "cell_type": "code",
      "source": [
        "lemmatizer.lemmatize('watched', 'v')"
      ],
      "metadata": {
        "colab": {
          "base_uri": "https://localhost:8080/",
          "height": 35
        },
        "id": "ZyDwtlR5Rdmq",
        "outputId": "2fb47b35-da82-4a38-b4df-2e386f3996fa"
      },
      "execution_count": null,
      "outputs": [
        {
          "output_type": "execute_result",
          "data": {
            "text/plain": [
              "'watch'"
            ],
            "application/vnd.google.colaboratory.intrinsic+json": {
              "type": "string"
            }
          },
          "metadata": {},
          "execution_count": 16
        }
      ]
    },
    {
      "cell_type": "code",
      "source": [
        "lemmatizer.lemmatize('has','v')"
      ],
      "metadata": {
        "colab": {
          "base_uri": "https://localhost:8080/",
          "height": 35
        },
        "id": "iOzWVRALTkr_",
        "outputId": "548a76cf-b000-4925-88ba-988b6ca1112b"
      },
      "execution_count": null,
      "outputs": [
        {
          "output_type": "execute_result",
          "data": {
            "text/plain": [
              "'have'"
            ],
            "application/vnd.google.colaboratory.intrinsic+json": {
              "type": "string"
            }
          },
          "metadata": {},
          "execution_count": 17
        }
      ]
    },
    {
      "cell_type": "markdown",
      "source": [
        "## 2. 어간 추출 (Stemming)"
      ],
      "metadata": {
        "id": "1bGXyR1qTrLa"
      }
    },
    {
      "cell_type": "markdown",
      "source": [
        "- 형태학적 분석을 단순화한 버전이라고 볼 수도\n",
        "- 정해진 규칙만 보고 단어 어미를 자르는 어림짐작의 작업이라 볼 수도 \n",
        "- 섬세하지 않기 때문에 결과 단어가 사전에 없을 수도 있음"
      ],
      "metadata": {
        "id": "9bOgShyvMAaC"
      }
    },
    {
      "cell_type": "markdown",
      "source": [
        "### 어간 추출 예제 - 포터알고리즘(Porter Algorithm)"
      ],
      "metadata": {
        "id": "ZHoe32fdMPci"
      }
    },
    {
      "cell_type": "code",
      "source": [
        "from nltk.stem import PorterStemmer\n",
        "from nltk.tokenize import word_tokenize"
      ],
      "metadata": {
        "id": "0OHvtDKpMgRX"
      },
      "execution_count": null,
      "outputs": []
    },
    {
      "cell_type": "code",
      "source": [
        "import nltk\n",
        "nltk.download('punkt')  "
      ],
      "metadata": {
        "colab": {
          "base_uri": "https://localhost:8080/"
        },
        "id": "11fKhvE4Mzyd",
        "outputId": "9de55f92-33c6-427e-9c14-275add9bd157"
      },
      "execution_count": null,
      "outputs": [
        {
          "output_type": "stream",
          "name": "stdout",
          "text": [
            "[nltk_data] Downloading package punkt to /root/nltk_data...\n",
            "[nltk_data]   Unzipping tokenizers/punkt.zip.\n"
          ]
        },
        {
          "output_type": "execute_result",
          "data": {
            "text/plain": [
              "True"
            ]
          },
          "metadata": {},
          "execution_count": 4
        }
      ]
    },
    {
      "cell_type": "code",
      "source": [
        "stemmer = PorterStemmer()"
      ],
      "metadata": {
        "id": "UUqQToxaMnXt"
      },
      "execution_count": null,
      "outputs": []
    },
    {
      "cell_type": "code",
      "source": [
        "sentence = \"\"\"This was not the map we found in Billy Bones's chest,\n",
        "nbut an accurate copy, complete in all things--names and heights and soundings--\n",
        "nwith the single exception of the red crosses and the written notes.\"\"\"\n",
        "tokenized_sentence = word_tokenize(sentence)\n",
        "print(sentence)"
      ],
      "metadata": {
        "colab": {
          "base_uri": "https://localhost:8080/"
        },
        "id": "TpwGcdKQMq7O",
        "outputId": "5ade552f-365a-4720-88c5-83ad4f03abcc"
      },
      "execution_count": null,
      "outputs": [
        {
          "output_type": "stream",
          "name": "stdout",
          "text": [
            "This was not the map we found in Billy Bones's chest,\n",
            "nbut an accurate copy, complete in all things--names and heights and soundings--\n",
            "nwith the single exception of the red crosses and the written notes.\n"
          ]
        }
      ]
    },
    {
      "cell_type": "code",
      "source": [
        "print(\"어간 추출 전: \", tokenized_sentence)\n",
        "print(\"어간 추출 후: \", [stemmer.stem(word) for word in tokenized_sentence])"
      ],
      "metadata": {
        "colab": {
          "base_uri": "https://localhost:8080/"
        },
        "id": "NIp1OF_bMvNX",
        "outputId": "259d7561-7037-4478-b84b-69433446fa07"
      },
      "execution_count": null,
      "outputs": [
        {
          "output_type": "stream",
          "name": "stdout",
          "text": [
            "어간 추출 전:  ['This', 'was', 'not', 'the', 'map', 'we', 'found', 'in', 'Billy', 'Bones', \"'s\", 'chest', ',', 'but', 'an', 'accurate', 'copy', ',', 'complete', 'in', 'all', 'things', '--', 'names', 'and', 'heights', 'and', 'soundings', '--', 'with', 'the', 'single', 'exception', 'of', 'the', 'red', 'crosses', 'and', 'the', 'written', 'notes', '.']\n",
            "어간 추출 후:  ['thi', 'wa', 'not', 'the', 'map', 'we', 'found', 'in', 'billi', 'bone', \"'s\", 'chest', ',', 'but', 'an', 'accur', 'copi', ',', 'complet', 'in', 'all', 'thing', '--', 'name', 'and', 'height', 'and', 'sound', '--', 'with', 'the', 'singl', 'except', 'of', 'the', 'red', 'cross', 'and', 'the', 'written', 'note', '.']\n"
          ]
        }
      ]
    },
    {
      "cell_type": "markdown",
      "source": [
        "포터알고리즘의 규칙\n",
        "+ ~alize --> ~al ; formalize --> formal\n",
        "+ ~ance --> 제거 ; allowance --> allow\n",
        "+ ~ical --> ic ; electrical --> electric"
      ],
      "metadata": {
        "id": "O8v5wZKDNNIl"
      }
    },
    {
      "cell_type": "code",
      "source": [
        "words = ['formalized', 'allowance', 'electrical']\n",
        "print(\"어간 추출 전: \", words)\n",
        "print(\"어간 추출 후: \", [stemmer.stem(word) for word in words])"
      ],
      "metadata": {
        "colab": {
          "base_uri": "https://localhost:8080/"
        },
        "id": "LtzjKJuuPLrw",
        "outputId": "2a35acbc-80fb-4402-f68f-e2a7bbdfc346"
      },
      "execution_count": null,
      "outputs": [
        {
          "output_type": "stream",
          "name": "stdout",
          "text": [
            "어간 추출 전:  ['formalized', 'allowance', 'electrical']\n",
            "어간 추출 후:  ['formal', 'allow', 'electr']\n"
          ]
        }
      ]
    },
    {
      "cell_type": "markdown",
      "source": [
        "- stemmer 속도가 lemmatizer보다 일반적으로 빠름\n",
        "- PorterStemmer: 정밀하게 설계되어 정확도가 높아 영어NLP에서 준수한 선택임\n",
        "- LancasterStemmer: nltk상의 또다른 스태머알고리즘. "
      ],
      "metadata": {
        "id": "LbYusjUyQDfG"
      }
    },
    {
      "cell_type": "markdown",
      "source": [
        "### 어간 추출 예제 - 포터알고리즘(Porter Algorithm) vs 랠커스터 스태머 (Lancaster Stemmer)"
      ],
      "metadata": {
        "id": "g4Ig4e0CQlHO"
      }
    },
    {
      "cell_type": "code",
      "source": [
        "from nltk.stem import PorterStemmer\n",
        "from nltk.stem import LancasterStemmer"
      ],
      "metadata": {
        "id": "1jk1HGa_Qs3v"
      },
      "execution_count": null,
      "outputs": []
    },
    {
      "cell_type": "code",
      "source": [
        "porter_stemmer = PorterStemmer()\n",
        "lancaster_stemmer = LancasterStemmer()"
      ],
      "metadata": {
        "id": "rtvCDwYrQzuR"
      },
      "execution_count": null,
      "outputs": []
    },
    {
      "cell_type": "code",
      "source": [
        "words = ['policy', 'doing', 'organization', 'have', 'going', 'love', 'lives', 'fly', 'dies', 'watched', 'has', 'starting']"
      ],
      "metadata": {
        "id": "oAXxLvFaQ-Jk"
      },
      "execution_count": null,
      "outputs": []
    },
    {
      "cell_type": "code",
      "source": [
        "print('어간 추출 전 :', words)\n",
        "print('포터 스테머의 어간 추출 후:',[porter_stemmer.stem(w) for w in words])\n",
        "print('랭커스터 스테머의 어간 추출 후:',[lancaster_stemmer.stem(w) for w in words])"
      ],
      "metadata": {
        "colab": {
          "base_uri": "https://localhost:8080/"
        },
        "id": "yzKyQQmlRFTt",
        "outputId": "a41cb4c8-97fd-4e56-f3fc-632dcfed1322"
      },
      "execution_count": null,
      "outputs": [
        {
          "output_type": "stream",
          "name": "stdout",
          "text": [
            "어간 추출 전 : ['policy', 'doing', 'organization', 'have', 'going', 'love', 'lives', 'fly', 'dies', 'watched', 'has', 'starting']\n",
            "포터 스테머의 어간 추출 후: ['polici', 'do', 'organ', 'have', 'go', 'love', 'live', 'fli', 'die', 'watch', 'ha', 'start']\n",
            "랭커스터 스테머의 어간 추출 후: ['policy', 'doing', 'org', 'hav', 'going', 'lov', 'liv', 'fly', 'die', 'watch', 'has', 'start']\n"
          ]
        }
      ]
    },
    {
      "cell_type": "markdown",
      "source": [
        "- 이런 규칙기반 알고리즘은 종종 제대로된 일반화 수행 못할 수 있다. (지나치게 되거나 or 덜 되거나)\n",
        "- ex. PorterStemmer; organization --> organ"
      ],
      "metadata": {
        "id": "-9thRvrMRJy1"
      }
    },
    {
      "cell_type": "markdown",
      "source": [
        "### 어간 추출 vs 표제어 추출"
      ],
      "metadata": {
        "id": "fJ4JWXliRuIM"
      }
    },
    {
      "cell_type": "markdown",
      "source": [
        "Stemming\n",
        "+ am → am\n",
        "+ the going → the go\n",
        "+ having → hav\n",
        "\n",
        "Lemmatization\n",
        "+ am → be\n",
        "+ the going → the going\n",
        "+ having → have"
      ],
      "metadata": {
        "id": "tSmPpc-5RwfM"
      }
    },
    {
      "cell_type": "markdown",
      "source": [
        "## 3. 한국어에서의 어간 추출"
      ],
      "metadata": {
        "id": "H-0pFU07R1du"
      }
    },
    {
      "cell_type": "markdown",
      "source": [
        "![image.png](data:image/png;base64,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)"
      ],
      "metadata": {
        "id": "YMPKzE1yR371"
      }
    },
    {
      "cell_type": "markdown",
      "source": [
        "#### 1) 활용 (conjugation)"
      ],
      "metadata": {
        "id": "zKm2Fk-VSSCV"
      }
    },
    {
      "cell_type": "markdown",
      "source": [
        "어간 Stem\n",
        "+ 동사/형용사 활용 시 원칙적으로 모양 변하지 않는 부분\n",
        "+ 활용에서 어미에 선행하는 부분\n",
        "+ 때론 어간의 모양도 바뀔 수 있음 (ex. 긋다. 긋고. 그어서. 그어라)\n",
        "\n",
        "어미 Ending\n",
        "+ 용언의 어간 뒤에 붙어서 활용하면서 변하는 부분, 여러 문법적 기능 수행\n",
        "+ 활용은 규칙/불규칙 두종류"
      ],
      "metadata": {
        "id": "nk4_AJkLSh1_"
      }
    },
    {
      "cell_type": "markdown",
      "source": [
        "#### 2) 규칙 활용"
      ],
      "metadata": {
        "id": "fyXqmRC8TLpx"
      }
    },
    {
      "cell_type": "markdown",
      "source": [
        "어간+어미 일 때, 어간 모습 일정 \n",
        "- ex. 잡/어간  +  다(어미)\n",
        "- 어미 붙기 전 후 어간 모습 차이 없으므로 단순 규칙 적용 가능"
      ],
      "metadata": {
        "id": "W5UJto7wTcKX"
      }
    },
    {
      "cell_type": "markdown",
      "source": [
        "#### 3) 불규칙 활용"
      ],
      "metadata": {
        "id": "_QQ5LeX5TqjH"
      }
    },
    {
      "cell_type": "markdown",
      "source": [
        "어간의 형식이 달라짐\n",
        "- ‘듣-, 돕-, 곱-, 잇-, 오르-, 노랗-’ 등이 ‘듣/들-, 돕/도우-, 곱/고우-, 잇/이-, 올/올-, 노랗/노라-'\n",
        "- '오르+ 아/어→올라, 하+아/어→하여, 이르+아/어→이르러, 푸르+아/어→푸르러’"
      ],
      "metadata": {
        "id": "5D7AmxeWTtQk"
      }
    },
    {
      "cell_type": "code",
      "source": [
        ""
      ],
      "metadata": {
        "id": "ILtPv1dEWJNU"
      },
      "execution_count": null,
      "outputs": []
    }
  ]
}