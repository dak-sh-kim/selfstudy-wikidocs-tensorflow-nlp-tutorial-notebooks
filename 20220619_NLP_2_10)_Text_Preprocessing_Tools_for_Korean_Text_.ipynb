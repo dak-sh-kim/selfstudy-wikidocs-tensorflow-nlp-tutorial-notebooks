{
  "nbformat": 4,
  "nbformat_minor": 0,
  "metadata": {
    "colab": {
      "name": "20220619_NLP_2-10) Text Preprocessing Tools for Korean Text .ipynb",
      "provenance": [],
      "collapsed_sections": [],
      "authorship_tag": "ABX9TyM8Fglk1R6uThKDFM9xZnrX",
      "include_colab_link": true
    },
    "kernelspec": {
      "name": "python3",
      "display_name": "Python 3"
    },
    "language_info": {
      "name": "python"
    }
  },
  "cells": [
    {
      "cell_type": "markdown",
      "metadata": {
        "id": "view-in-github",
        "colab_type": "text"
      },
      "source": [
        "<a href=\"https://colab.research.google.com/github/dak-sh-kim/selfstudy-wikidocs-tensorflow-nlp-tutorial-notebooks/blob/main/20220619_NLP_2_10)_Text_Preprocessing_Tools_for_Korean_Text_.ipynb\" target=\"_parent\"><img src=\"https://colab.research.google.com/assets/colab-badge.svg\" alt=\"Open In Colab\"/></a>"
      ]
    },
    {
      "cell_type": "markdown",
      "source": [
        "# 10) 한국어 전처리 패키지 (Text Preprocessing Tools for Korean Text)"
      ],
      "metadata": {
        "id": "cYof1ia-CIGu"
      }
    },
    {
      "cell_type": "markdown",
      "source": [
        "- 유용한 한국어 전처리 패키지를 정리해 봅시다.\n",
        "- 앞서 소개한 형태소/문장 토크나이징 도구들인 KoNLPy, KSS(Korean Sentence Splitter)와 함께 유용하게 사용할 수 있는 패키지들"
      ],
      "metadata": {
        "id": "wTmJnVOeCVna"
      }
    },
    {
      "cell_type": "markdown",
      "source": [
        "## 1. PyKoSpacing"
      ],
      "metadata": {
        "id": "mT0I99JqChm_"
      }
    },
    {
      "cell_type": "markdown",
      "source": [
        "- 띄어쓰기가 되어있지 않은 문장을 띄어쓰기를 한 문장으로 변환해주는 패키지\n",
        "- 대용량 코퍼스를 학습하여 만들어진 띄어쓰기 딥 러닝 모델"
      ],
      "metadata": {
        "id": "mlV2ZShrkqY7"
      }
    },
    {
      "cell_type": "code",
      "source": [
        "pip install git+https://github.com/haven-jeon/PyKoSpacing.git"
      ],
      "metadata": {
        "id": "l-57p-poDJQi",
        "colab": {
          "base_uri": "https://localhost:8080/",
          "height": 1000
        },
        "outputId": "398359e0-b5ca-4646-b267-12b460ed1da3"
      },
      "execution_count": null,
      "outputs": [
        {
          "output_type": "stream",
          "name": "stdout",
          "text": [
            "Looking in indexes: https://pypi.org/simple, https://us-python.pkg.dev/colab-wheels/public/simple/\n",
            "Collecting git+https://github.com/haven-jeon/PyKoSpacing.git\n",
            "  Cloning https://github.com/haven-jeon/PyKoSpacing.git to /tmp/pip-req-build-tbtv1s7e\n",
            "  Running command git clone -q https://github.com/haven-jeon/PyKoSpacing.git /tmp/pip-req-build-tbtv1s7e\n",
            "Collecting tensorflow==2.7.2\n",
            "  Downloading https://us-python.pkg.dev/colab-wheels/public/tensorflow/tensorflow-2.7.2%2Bzzzcolab20220516114640-cp37-cp37m-linux_x86_64.whl\n",
            "\u001b[K     \\ 671.4 MB 10.0 MB/s\n",
            "\u001b[?25hRequirement already satisfied: h5py==3.1.0 in /usr/local/lib/python3.7/dist-packages (from pykospacing==0.5) (3.1.0)\n",
            "Collecting argparse>=1.4.0\n",
            "  Downloading argparse-1.4.0-py2.py3-none-any.whl (23 kB)\n",
            "Requirement already satisfied: numpy>=1.14.5 in /usr/local/lib/python3.7/dist-packages (from h5py==3.1.0->pykospacing==0.5) (1.21.6)\n",
            "Requirement already satisfied: cached-property in /usr/local/lib/python3.7/dist-packages (from h5py==3.1.0->pykospacing==0.5) (1.5.2)\n",
            "Requirement already satisfied: tensorflow-io-gcs-filesystem>=0.21.0 in /usr/local/lib/python3.7/dist-packages (from tensorflow==2.7.2->pykospacing==0.5) (0.26.0)\n",
            "Requirement already satisfied: libclang>=9.0.1 in /usr/local/lib/python3.7/dist-packages (from tensorflow==2.7.2->pykospacing==0.5) (14.0.1)\n",
            "Requirement already satisfied: keras-preprocessing>=1.1.1 in /usr/local/lib/python3.7/dist-packages (from tensorflow==2.7.2->pykospacing==0.5) (1.1.2)\n",
            "Requirement already satisfied: termcolor>=1.1.0 in /usr/local/lib/python3.7/dist-packages (from tensorflow==2.7.2->pykospacing==0.5) (1.1.0)\n",
            "Requirement already satisfied: wrapt>=1.11.0 in /usr/local/lib/python3.7/dist-packages (from tensorflow==2.7.2->pykospacing==0.5) (1.14.1)\n",
            "Requirement already satisfied: opt-einsum>=2.3.2 in /usr/local/lib/python3.7/dist-packages (from tensorflow==2.7.2->pykospacing==0.5) (3.3.0)\n",
            "Requirement already satisfied: grpcio<2.0,>=1.24.3 in /usr/local/lib/python3.7/dist-packages (from tensorflow==2.7.2->pykospacing==0.5) (1.46.3)\n",
            "Requirement already satisfied: flatbuffers<3.0,>=1.12 in /usr/local/lib/python3.7/dist-packages (from tensorflow==2.7.2->pykospacing==0.5) (2.0)\n",
            "Collecting keras<2.8,>=2.7.0rc0\n",
            "  Downloading keras-2.7.0-py2.py3-none-any.whl (1.3 MB)\n",
            "\u001b[K     |████████████████████████████████| 1.3 MB 6.1 MB/s \n",
            "\u001b[?25hRequirement already satisfied: absl-py>=0.4.0 in /usr/local/lib/python3.7/dist-packages (from tensorflow==2.7.2->pykospacing==0.5) (1.1.0)\n",
            "Collecting gast<0.5.0,>=0.2.1\n",
            "  Downloading gast-0.4.0-py3-none-any.whl (9.8 kB)\n",
            "Requirement already satisfied: typing-extensions>=3.6.6 in /usr/local/lib/python3.7/dist-packages (from tensorflow==2.7.2->pykospacing==0.5) (4.1.1)\n",
            "Collecting tensorflow-estimator<2.8,~=2.7.0rc0\n",
            "  Downloading tensorflow_estimator-2.7.0-py2.py3-none-any.whl (463 kB)\n",
            "\u001b[K     |████████████████████████████████| 463 kB 46.2 MB/s \n",
            "\u001b[?25hRequirement already satisfied: astunparse>=1.6.0 in /usr/local/lib/python3.7/dist-packages (from tensorflow==2.7.2->pykospacing==0.5) (1.6.3)\n",
            "Requirement already satisfied: six>=1.12.0 in /usr/local/lib/python3.7/dist-packages (from tensorflow==2.7.2->pykospacing==0.5) (1.15.0)\n",
            "Requirement already satisfied: protobuf>=3.9.2 in /usr/local/lib/python3.7/dist-packages (from tensorflow==2.7.2->pykospacing==0.5) (3.17.3)\n",
            "Requirement already satisfied: wheel<1.0,>=0.32.0 in /usr/local/lib/python3.7/dist-packages (from tensorflow==2.7.2->pykospacing==0.5) (0.37.1)\n",
            "Requirement already satisfied: google-pasta>=0.1.1 in /usr/local/lib/python3.7/dist-packages (from tensorflow==2.7.2->pykospacing==0.5) (0.2.0)\n",
            "Requirement already satisfied: tensorboard~=2.6 in /usr/local/lib/python3.7/dist-packages (from tensorflow==2.7.2->pykospacing==0.5) (2.8.0)\n",
            "Requirement already satisfied: google-auth-oauthlib<0.5,>=0.4.1 in /usr/local/lib/python3.7/dist-packages (from tensorboard~=2.6->tensorflow==2.7.2->pykospacing==0.5) (0.4.6)\n",
            "Requirement already satisfied: markdown>=2.6.8 in /usr/local/lib/python3.7/dist-packages (from tensorboard~=2.6->tensorflow==2.7.2->pykospacing==0.5) (3.3.7)\n",
            "Requirement already satisfied: setuptools>=41.0.0 in /usr/local/lib/python3.7/dist-packages (from tensorboard~=2.6->tensorflow==2.7.2->pykospacing==0.5) (57.4.0)\n",
            "Requirement already satisfied: google-auth<3,>=1.6.3 in /usr/local/lib/python3.7/dist-packages (from tensorboard~=2.6->tensorflow==2.7.2->pykospacing==0.5) (1.35.0)\n",
            "Requirement already satisfied: requests<3,>=2.21.0 in /usr/local/lib/python3.7/dist-packages (from tensorboard~=2.6->tensorflow==2.7.2->pykospacing==0.5) (2.23.0)\n",
            "Requirement already satisfied: tensorboard-plugin-wit>=1.6.0 in /usr/local/lib/python3.7/dist-packages (from tensorboard~=2.6->tensorflow==2.7.2->pykospacing==0.5) (1.8.1)\n",
            "Requirement already satisfied: tensorboard-data-server<0.7.0,>=0.6.0 in /usr/local/lib/python3.7/dist-packages (from tensorboard~=2.6->tensorflow==2.7.2->pykospacing==0.5) (0.6.1)\n",
            "Requirement already satisfied: werkzeug>=0.11.15 in /usr/local/lib/python3.7/dist-packages (from tensorboard~=2.6->tensorflow==2.7.2->pykospacing==0.5) (1.0.1)\n",
            "Requirement already satisfied: cachetools<5.0,>=2.0.0 in /usr/local/lib/python3.7/dist-packages (from google-auth<3,>=1.6.3->tensorboard~=2.6->tensorflow==2.7.2->pykospacing==0.5) (4.2.4)\n",
            "Requirement already satisfied: rsa<5,>=3.1.4 in /usr/local/lib/python3.7/dist-packages (from google-auth<3,>=1.6.3->tensorboard~=2.6->tensorflow==2.7.2->pykospacing==0.5) (4.8)\n",
            "Requirement already satisfied: pyasn1-modules>=0.2.1 in /usr/local/lib/python3.7/dist-packages (from google-auth<3,>=1.6.3->tensorboard~=2.6->tensorflow==2.7.2->pykospacing==0.5) (0.2.8)\n",
            "Requirement already satisfied: requests-oauthlib>=0.7.0 in /usr/local/lib/python3.7/dist-packages (from google-auth-oauthlib<0.5,>=0.4.1->tensorboard~=2.6->tensorflow==2.7.2->pykospacing==0.5) (1.3.1)\n",
            "Requirement already satisfied: importlib-metadata>=4.4 in /usr/local/lib/python3.7/dist-packages (from markdown>=2.6.8->tensorboard~=2.6->tensorflow==2.7.2->pykospacing==0.5) (4.11.4)\n",
            "Requirement already satisfied: zipp>=0.5 in /usr/local/lib/python3.7/dist-packages (from importlib-metadata>=4.4->markdown>=2.6.8->tensorboard~=2.6->tensorflow==2.7.2->pykospacing==0.5) (3.8.0)\n",
            "Requirement already satisfied: pyasn1<0.5.0,>=0.4.6 in /usr/local/lib/python3.7/dist-packages (from pyasn1-modules>=0.2.1->google-auth<3,>=1.6.3->tensorboard~=2.6->tensorflow==2.7.2->pykospacing==0.5) (0.4.8)\n",
            "Requirement already satisfied: idna<3,>=2.5 in /usr/local/lib/python3.7/dist-packages (from requests<3,>=2.21.0->tensorboard~=2.6->tensorflow==2.7.2->pykospacing==0.5) (2.10)\n",
            "Requirement already satisfied: certifi>=2017.4.17 in /usr/local/lib/python3.7/dist-packages (from requests<3,>=2.21.0->tensorboard~=2.6->tensorflow==2.7.2->pykospacing==0.5) (2022.6.15)\n",
            "Requirement already satisfied: chardet<4,>=3.0.2 in /usr/local/lib/python3.7/dist-packages (from requests<3,>=2.21.0->tensorboard~=2.6->tensorflow==2.7.2->pykospacing==0.5) (3.0.4)\n",
            "Requirement already satisfied: urllib3!=1.25.0,!=1.25.1,<1.26,>=1.21.1 in /usr/local/lib/python3.7/dist-packages (from requests<3,>=2.21.0->tensorboard~=2.6->tensorflow==2.7.2->pykospacing==0.5) (1.24.3)\n",
            "Requirement already satisfied: oauthlib>=3.0.0 in /usr/local/lib/python3.7/dist-packages (from requests-oauthlib>=0.7.0->google-auth-oauthlib<0.5,>=0.4.1->tensorboard~=2.6->tensorflow==2.7.2->pykospacing==0.5) (3.2.0)\n",
            "Building wheels for collected packages: pykospacing\n",
            "  Building wheel for pykospacing (setup.py) ... \u001b[?25l\u001b[?25hdone\n",
            "  Created wheel for pykospacing: filename=pykospacing-0.5-py3-none-any.whl size=2268577 sha256=06b88c31ee9628c17827b23a4f878280388adf4f1ae4c71fc864760a0639f4fe\n",
            "  Stored in directory: /tmp/pip-ephem-wheel-cache-bxateawz/wheels/9b/93/81/a2a7dc8c66ede5bf30634d20635f32b95eac7ca2ea8844058b\n",
            "Successfully built pykospacing\n",
            "Installing collected packages: tensorflow-estimator, keras, gast, tensorflow, argparse, pykospacing\n",
            "  Attempting uninstall: tensorflow-estimator\n",
            "    Found existing installation: tensorflow-estimator 2.8.0\n",
            "    Uninstalling tensorflow-estimator-2.8.0:\n",
            "      Successfully uninstalled tensorflow-estimator-2.8.0\n",
            "  Attempting uninstall: keras\n",
            "    Found existing installation: keras 2.8.0\n",
            "    Uninstalling keras-2.8.0:\n",
            "      Successfully uninstalled keras-2.8.0\n",
            "  Attempting uninstall: gast\n",
            "    Found existing installation: gast 0.5.3\n",
            "    Uninstalling gast-0.5.3:\n",
            "      Successfully uninstalled gast-0.5.3\n",
            "  Attempting uninstall: tensorflow\n",
            "    Found existing installation: tensorflow 2.8.2+zzzcolab20220527125636\n",
            "    Uninstalling tensorflow-2.8.2+zzzcolab20220527125636:\n",
            "      Successfully uninstalled tensorflow-2.8.2+zzzcolab20220527125636\n",
            "Successfully installed argparse-1.4.0 gast-0.4.0 keras-2.7.0 pykospacing-0.5 tensorflow-2.7.2+zzzcolab20220516114640 tensorflow-estimator-2.7.0\n"
          ]
        },
        {
          "output_type": "display_data",
          "data": {
            "application/vnd.colab-display-data+json": {
              "pip_warning": {
                "packages": [
                  "argparse"
                ]
              }
            }
          },
          "metadata": {}
        }
      ]
    },
    {
      "cell_type": "code",
      "source": [
        "sent = '김철수는 극중 두 인격의 사나이 이광수 역을 맡았다. 철수는 한국 유일의 태권도 전승자를 가리는 결전의 날을 앞두고 10년간 함께 훈련한 사형인 유연재(김광수 분)를 찾으러 속세로 내려온 인물이다.'"
      ],
      "metadata": {
        "id": "I1BmtVXWDMdQ"
      },
      "execution_count": null,
      "outputs": []
    },
    {
      "cell_type": "markdown",
      "source": [
        "- 임의의 문장을 띄어쓰기가 없는 문장으로 만들기"
      ],
      "metadata": {
        "id": "1vaiBxQQDtza"
      }
    },
    {
      "cell_type": "code",
      "source": [
        "new_sent = sent.replace(\" \", '') # 띄어쓰기가 없는 문장을 임의로 만들기\n",
        "print(new_sent)"
      ],
      "metadata": {
        "colab": {
          "base_uri": "https://localhost:8080/"
        },
        "id": "mERjQrelk4Yw",
        "outputId": "5a18f688-7d8c-41fe-d7e2-5a3006fb422a"
      },
      "execution_count": null,
      "outputs": [
        {
          "output_type": "stream",
          "name": "stdout",
          "text": [
            "김철수는극중두인격의사나이이광수역을맡았다.철수는한국유일의태권도전승자를가리는결전의날을앞두고10년간함께훈련한사형인유연재(김광수분)를찾으러속세로내려온인물이다.\n"
          ]
        }
      ]
    },
    {
      "cell_type": "markdown",
      "source": [
        "- 다시 PykoSpacing 의 입력으로 사용하여 원 문장과 비교"
      ],
      "metadata": {
        "id": "pLU6Bpm7k-zM"
      }
    },
    {
      "cell_type": "code",
      "source": [
        "from pykospacing import Spacing\n",
        "spacing = Spacing()\n",
        "kospacing_sent = spacing(new_sent)\n",
        "\n",
        "print(sent)\n",
        "print(kospacing_sent)"
      ],
      "metadata": {
        "colab": {
          "base_uri": "https://localhost:8080/"
        },
        "id": "bjZrMj5glZJ9",
        "outputId": "4b9b2906-48dd-4aa9-d66d-2a79c7e9c6c3"
      },
      "execution_count": null,
      "outputs": [
        {
          "output_type": "stream",
          "name": "stdout",
          "text": [
            "김철수는 극중 두 인격의 사나이 이광수 역을 맡았다. 철수는 한국 유일의 태권도 전승자를 가리는 결전의 날을 앞두고 10년간 함께 훈련한 사형인 유연재(김광수 분)를 찾으러 속세로 내려온 인물이다.\n",
            "김철수는 극중 두 인격의 사나이 이광수 역을 맡았다. 철수는 한국 유일의 태권도 전승자를 가리는 결전의 날을 앞두고 10년간 함께 훈련한 사형인 유연재(김광수 분)를 찾으러 속세로 내려온 인물이다.\n"
          ]
        }
      ]
    },
    {
      "cell_type": "markdown",
      "source": [
        "## 2. Py-Hanspell"
      ],
      "metadata": {
        "id": "cIeKanzElgmz"
      }
    },
    {
      "cell_type": "markdown",
      "source": [
        "- 네이버 한글 맞춤법 검사기를 바탕으로 만들어진 패키지"
      ],
      "metadata": {
        "id": "rqabR6n1mqwn"
      }
    },
    {
      "cell_type": "code",
      "source": [
        "pip install git+https://github.com/ssut/py-hanspell.git"
      ],
      "metadata": {
        "colab": {
          "base_uri": "https://localhost:8080/"
        },
        "id": "8NFfOUFMmxaP",
        "outputId": "f8adc64c-a53c-48b9-e966-dc111a4b2756"
      },
      "execution_count": null,
      "outputs": [
        {
          "output_type": "stream",
          "name": "stdout",
          "text": [
            "Looking in indexes: https://pypi.org/simple, https://us-python.pkg.dev/colab-wheels/public/simple/\n",
            "Collecting git+https://github.com/ssut/py-hanspell.git\n",
            "  Cloning https://github.com/ssut/py-hanspell.git to /tmp/pip-req-build-c83u47lp\n",
            "  Running command git clone -q https://github.com/ssut/py-hanspell.git /tmp/pip-req-build-c83u47lp\n",
            "Requirement already satisfied: requests in /usr/local/lib/python3.7/dist-packages (from py-hanspell==1.1) (2.23.0)\n",
            "Requirement already satisfied: urllib3!=1.25.0,!=1.25.1,<1.26,>=1.21.1 in /usr/local/lib/python3.7/dist-packages (from requests->py-hanspell==1.1) (1.24.3)\n",
            "Requirement already satisfied: certifi>=2017.4.17 in /usr/local/lib/python3.7/dist-packages (from requests->py-hanspell==1.1) (2022.6.15)\n",
            "Requirement already satisfied: idna<3,>=2.5 in /usr/local/lib/python3.7/dist-packages (from requests->py-hanspell==1.1) (2.10)\n",
            "Requirement already satisfied: chardet<4,>=3.0.2 in /usr/local/lib/python3.7/dist-packages (from requests->py-hanspell==1.1) (3.0.4)\n",
            "Building wheels for collected packages: py-hanspell\n",
            "  Building wheel for py-hanspell (setup.py) ... \u001b[?25l\u001b[?25hdone\n",
            "  Created wheel for py-hanspell: filename=py_hanspell-1.1-py3-none-any.whl size=4868 sha256=0e0e02717937ded2762df86f527b4c176483088b6795c869f5ddf8ede4e03916\n",
            "  Stored in directory: /tmp/pip-ephem-wheel-cache-6hccwum0/wheels/ab/f5/7b/d4124bb329c905301baed80e2ae45aa14e824f62ebc3ec2cc4\n",
            "Successfully built py-hanspell\n",
            "Installing collected packages: py-hanspell\n",
            "Successfully installed py-hanspell-1.1\n"
          ]
        }
      ]
    },
    {
      "cell_type": "code",
      "source": [
        "from hanspell import spell_checker\n",
        "\n",
        "sent = \"맞춤법 틀리면 외 않되? 쓰고싶은대로쓰면돼지\"\n",
        "\n",
        "spelled_sent = spell_checker.check(sent)\n",
        "hanspell_sent = spelled_sent.checked"
      ],
      "metadata": {
        "id": "WEKhb5j3m3xm"
      },
      "execution_count": null,
      "outputs": []
    },
    {
      "cell_type": "code",
      "source": [
        "print(spelled_sent) # 고치게 되는 과정들 (original, checked, error count, error details)"
      ],
      "metadata": {
        "colab": {
          "base_uri": "https://localhost:8080/"
        },
        "id": "KU_51LFxnaP7",
        "outputId": "0af413df-84bb-4dbb-b47b-134c33696184"
      },
      "execution_count": null,
      "outputs": [
        {
          "output_type": "stream",
          "name": "stdout",
          "text": [
            "Checked(result=True, original='맞춤법 틀리면 외 않되? 쓰고싶은대로쓰면돼지', checked='맞춤법 틀리면 왜 안돼? 쓰고 싶은 대로 쓰면 되지', errors=2, words=OrderedDict([('맞춤법', 0), ('틀리면', 0), ('왜', 1), ('안돼?', 1), ('쓰고', 1), ('싶은', 1), ('대로', 1), ('쓰면', 1), ('되지', 1)]), time=0.4041907787322998)\n"
          ]
        }
      ]
    },
    {
      "cell_type": "code",
      "source": [
        "spelled_sent.checked"
      ],
      "metadata": {
        "colab": {
          "base_uri": "https://localhost:8080/",
          "height": 35
        },
        "id": "72w2S4MYnh4D",
        "outputId": "5fbf10d7-4ddf-4fab-d41b-78992fce89c1"
      },
      "execution_count": null,
      "outputs": [
        {
          "output_type": "execute_result",
          "data": {
            "text/plain": [
              "'맞춤법 틀리면 왜 안돼? 쓰고 싶은 대로 쓰면 되지'"
            ],
            "application/vnd.google.colaboratory.intrinsic+json": {
              "type": "string"
            }
          },
          "metadata": {},
          "execution_count": 8
        }
      ]
    },
    {
      "cell_type": "markdown",
      "source": [
        "- 띄어쓰기도 보정함 (PyKoSpacing 에 사용한 예제를 그대로 사용)\n",
        "- PyKoSpacing과 결과가 거의 비슷하지만 조금 다름"
      ],
      "metadata": {
        "id": "pdfzeSLaoMVI"
      }
    },
    {
      "cell_type": "code",
      "source": [
        "spelled_sent = spell_checker.check(new_sent)\n",
        "hanspell_sent = spelled_sent.checked"
      ],
      "metadata": {
        "id": "oBpulYRqoZrR"
      },
      "execution_count": null,
      "outputs": []
    },
    {
      "cell_type": "code",
      "source": [
        "print(hanspell_sent)\n",
        "print(kospacing_sent)"
      ],
      "metadata": {
        "colab": {
          "base_uri": "https://localhost:8080/"
        },
        "id": "ypQP-RjsogCV",
        "outputId": "d2bf4966-89c3-49a7-9b7e-2480b3fe9ff3"
      },
      "execution_count": null,
      "outputs": [
        {
          "output_type": "stream",
          "name": "stdout",
          "text": [
            "김철수는 극 중 두 인격의 사나이 이광수 역을 맡았다. 철수는 한국 유일의 태권도 전승자를 가리는 결전의 날을 앞두고 10년간 함께 훈련한 사형인 유연제(김광수 분)를 찾으러 속세로 내려온 인물이다.\n",
            "김철수는 극중 두 인격의 사나이 이광수 역을 맡았다. 철수는 한국 유일의 태권도 전승자를 가리는 결전의 날을 앞두고 10년간 함께 훈련한 사형인 유연재(김광수 분)를 찾으러 속세로 내려온 인물이다.\n"
          ]
        }
      ]
    },
    {
      "cell_type": "markdown",
      "source": [
        "## 3. SOYNLP를 이용한 단어 토큰화"
      ],
      "metadata": {
        "id": "oZtNqBbuojXD"
      }
    },
    {
      "cell_type": "markdown",
      "source": [
        "- soynlp: 품사 태깅, 단어 토큰화 등을 지원하는 단어 토크나이저\n",
        "- ***\"비지도학습\" 으로 단어 토큰화를 한다는 특징 (***어떻게 한다는 거지?)\n",
        "- 데이터 자주 등장하는 단어들을  -->  단어로 분석\n",
        "- *** 내부적으로 단어 점수표로 동작 (응집 확률(cohesion probability)과 브랜칭 엔트로피(branching entropy)활용)"
      ],
      "metadata": {
        "id": "3G8B38Qqo0IQ"
      }
    },
    {
      "cell_type": "code",
      "source": [
        "pip install soynlp"
      ],
      "metadata": {
        "colab": {
          "base_uri": "https://localhost:8080/"
        },
        "id": "qXqkaA9GqDx0",
        "outputId": "3e66f0c5-d166-4e21-a7f8-617117c13654"
      },
      "execution_count": null,
      "outputs": [
        {
          "output_type": "stream",
          "name": "stdout",
          "text": [
            "Looking in indexes: https://pypi.org/simple, https://us-python.pkg.dev/colab-wheels/public/simple/\n",
            "Collecting soynlp\n",
            "  Downloading soynlp-0.0.493-py3-none-any.whl (416 kB)\n",
            "\u001b[K     |████████████████████████████████| 416 kB 4.2 MB/s \n",
            "\u001b[?25hRequirement already satisfied: numpy>=1.12.1 in /usr/local/lib/python3.7/dist-packages (from soynlp) (1.21.6)\n",
            "Requirement already satisfied: psutil>=5.0.1 in /usr/local/lib/python3.7/dist-packages (from soynlp) (5.4.8)\n",
            "Requirement already satisfied: scipy>=1.1.0 in /usr/local/lib/python3.7/dist-packages (from soynlp) (1.4.1)\n",
            "Requirement already satisfied: scikit-learn>=0.20.0 in /usr/local/lib/python3.7/dist-packages (from soynlp) (1.0.2)\n",
            "Requirement already satisfied: threadpoolctl>=2.0.0 in /usr/local/lib/python3.7/dist-packages (from scikit-learn>=0.20.0->soynlp) (3.1.0)\n",
            "Requirement already satisfied: joblib>=0.11 in /usr/local/lib/python3.7/dist-packages (from scikit-learn>=0.20.0->soynlp) (1.1.0)\n",
            "Installing collected packages: soynlp\n",
            "Successfully installed soynlp-0.0.493\n"
          ]
        }
      ]
    },
    {
      "cell_type": "markdown",
      "source": [
        "### 1. 신조어 문제"
      ],
      "metadata": {
        "id": "Y0aaEDHkqQFs"
      }
    },
    {
      "cell_type": "markdown",
      "source": [
        "- 기존 형태소 분석기의 문제: 신조어, 형태소 분석기에 등록되지 않은 단어는 제대로 구분하지 못함"
      ],
      "metadata": {
        "id": "7CoJRrzcqUZz"
      }
    },
    {
      "cell_type": "code",
      "source": [
        "pip install konlpy"
      ],
      "metadata": {
        "colab": {
          "base_uri": "https://localhost:8080/"
        },
        "id": "N4sAvuA0rWcx",
        "outputId": "895e28cc-fd51-4c69-b8bf-951378e8d36b"
      },
      "execution_count": null,
      "outputs": [
        {
          "output_type": "stream",
          "name": "stdout",
          "text": [
            "Looking in indexes: https://pypi.org/simple, https://us-python.pkg.dev/colab-wheels/public/simple/\n",
            "Collecting konlpy\n",
            "  Downloading konlpy-0.6.0-py2.py3-none-any.whl (19.4 MB)\n",
            "\u001b[K     |████████████████████████████████| 19.4 MB 1.8 MB/s \n",
            "\u001b[?25hCollecting JPype1>=0.7.0\n",
            "  Downloading JPype1-1.4.0-cp37-cp37m-manylinux_2_5_x86_64.manylinux1_x86_64.whl (453 kB)\n",
            "\u001b[K     |████████████████████████████████| 453 kB 42.4 MB/s \n",
            "\u001b[?25hRequirement already satisfied: numpy>=1.6 in /usr/local/lib/python3.7/dist-packages (from konlpy) (1.21.6)\n",
            "Requirement already satisfied: lxml>=4.1.0 in /usr/local/lib/python3.7/dist-packages (from konlpy) (4.2.6)\n",
            "Requirement already satisfied: typing-extensions in /usr/local/lib/python3.7/dist-packages (from JPype1>=0.7.0->konlpy) (4.1.1)\n",
            "Installing collected packages: JPype1, konlpy\n",
            "Successfully installed JPype1-1.4.0 konlpy-0.6.0\n"
          ]
        }
      ]
    },
    {
      "cell_type": "code",
      "source": [
        "from konlpy.tag import Okt\n",
        "tokenizer = Okt()\n",
        "print(tokenizer.morphs('에이비식스 이대휘 1월 최애돌 기부 요정'))"
      ],
      "metadata": {
        "colab": {
          "base_uri": "https://localhost:8080/"
        },
        "id": "FMuRiudQrCPS",
        "outputId": "3f443f05-d964-4841-cf02-df4d57081afb"
      },
      "execution_count": null,
      "outputs": [
        {
          "output_type": "stream",
          "name": "stdout",
          "text": [
            "['에이', '비식스', '이대', '휘', '1월', '최애', '돌', '기부', '요정']\n"
          ]
        }
      ]
    },
    {
      "cell_type": "markdown",
      "source": [
        "*** soynlp의 아이디어 ***"
      ],
      "metadata": {
        "id": "dKXmjvMKrS2D"
      }
    },
    {
      "cell_type": "markdown",
      "source": [
        "1) 텍스트 데이터에서 특장 문자 시퀀스가 함께 자주 등장하는 빈도가 높다\n",
        "  - ex. 에이비식스라는 문자열이 자주 연결되어 등장하면 한 단어라고 판단\n",
        "\n",
        "2) 앞, 뒤 조사 or 완전히 다른 단어가 등장하는 것을 고려(*???) 해 해당 문자 시퀀스를 형태소라고 판단\n",
        "  - ex. 에이비식스라는 단어 앞, 뒤에 '최고', '가수', '실력'과 같은 독립된 다른 단어들이 계속 등장한다면 에이비식스를 한 단어로 파악하는 식"
      ],
      "metadata": {
        "id": "NyP-1cCQrksQ"
      }
    },
    {
      "cell_type": "markdown",
      "source": [
        "### 2. 학습하기"
      ],
      "metadata": {
        "id": "HkkXN2kXtFgR"
      }
    },
    {
      "cell_type": "markdown",
      "source": [
        "- soynlp는 기본적으로 학습에 기반한 토크나이저 이므로, 학습에 필요한 한국어 문서를 다운로드"
      ],
      "metadata": {
        "id": "09a9WNocuJDX"
      }
    },
    {
      "cell_type": "code",
      "source": [
        "import soynlp"
      ],
      "metadata": {
        "id": "VZXce5WnuhUm"
      },
      "execution_count": null,
      "outputs": []
    },
    {
      "cell_type": "code",
      "source": [
        "import urllib.request\n",
        "from soynlp import DoublespaceLineCorpus\n",
        "from soynlp.word import WordExtractor"
      ],
      "metadata": {
        "id": "sslXJAA_uPdE"
      },
      "execution_count": null,
      "outputs": []
    },
    {
      "cell_type": "code",
      "source": [
        "urllib.request.urlretrieve(\"https://raw.githubusercontent.com/lovit/soynlp/master/tutorials/2016-10-20.txt\", filename=\"2016-10-20.txt\")"
      ],
      "metadata": {
        "colab": {
          "base_uri": "https://localhost:8080/"
        },
        "id": "jbR201PgudGZ",
        "outputId": "802d9397-630f-4a31-cdd7-d2031edae7f6"
      },
      "execution_count": null,
      "outputs": [
        {
          "output_type": "execute_result",
          "data": {
            "text/plain": [
              "('2016-10-20.txt', <http.client.HTTPMessage at 0x7fe5736acb50>)"
            ]
          },
          "metadata": {},
          "execution_count": 16
        }
      ]
    },
    {
      "cell_type": "markdown",
      "source": [
        "- 훈련데이터를 다수의 문서로 분리"
      ],
      "metadata": {
        "id": "17DgswNUuzFG"
      }
    },
    {
      "cell_type": "code",
      "source": [
        "# 훈련데이터를 다수의 문서로 분리\n",
        "corpus = DoublespaceLineCorpus('2016-10-20.txt')\n",
        "len(corpus)"
      ],
      "metadata": {
        "colab": {
          "base_uri": "https://localhost:8080/"
        },
        "id": "BHTNIiEvu6Uj",
        "outputId": "94ba9aee-e61c-4776-938c-11a318504a7f"
      },
      "execution_count": null,
      "outputs": [
        {
          "output_type": "execute_result",
          "data": {
            "text/plain": [
              "30091"
            ]
          },
          "metadata": {},
          "execution_count": 17
        }
      ]
    },
    {
      "cell_type": "markdown",
      "source": [
        "- 총 3만 91개의 문서가 존재. 상위 3개의 문서만 출력(중략)"
      ],
      "metadata": {
        "id": "ZEfIZtEJvBxn"
      }
    },
    {
      "cell_type": "code",
      "source": [
        "i = 0\n",
        "\n",
        "for document in corpus:\n",
        "  if len(document) > 0:\n",
        "    print(document)\n",
        "    i = i + 1\n",
        "  if i == 3:\n",
        "    break"
      ],
      "metadata": {
        "colab": {
          "base_uri": "https://localhost:8080/"
        },
        "id": "6N8--85WvHEh",
        "outputId": "d1df1f16-5b25-4953-9f2a-c4e116c74311"
      },
      "execution_count": null,
      "outputs": [
        {
          "output_type": "stream",
          "name": "stdout",
          "text": [
            "19  1990  52 1 22\n",
            "오패산터널 총격전 용의자 검거 서울 연합뉴스 경찰 관계자들이 19일 오후 서울 강북구 오패산 터널 인근에서 사제 총기를 발사해 경찰을 살해한 용의자 성모씨를 검거하고 있다 성씨는 검거 당시 서바이벌 게임에서 쓰는 방탄조끼에 헬멧까지 착용한 상태였다 독자제공 영상 캡처 연합뉴스  서울 연합뉴스 김은경 기자 사제 총기로 경찰을 살해한 범인 성모 46 씨는 주도면밀했다  경찰에 따르면 성씨는 19일 오후 강북경찰서 인근 부동산 업소 밖에서 부동산업자 이모 67 씨가 나오기를 기다렸다 이씨와는 평소에도 말다툼을 자주 한 것으로 알려졌다  이씨가 나와 걷기 시작하자 성씨는 따라가면서 미리 준비해온 사제 총기를 이씨에게 발사했다 총알이 빗나가면서 이씨는 도망갔다 그 빗나간 총알은 지나가던 행인 71 씨의 배를 스쳤다  성씨는 강북서 인근 치킨집까지 이씨 뒤를 쫓으며 실랑이하다 쓰러뜨린 후 총기와 함께 가져온 망치로 이씨 머리를 때렸다  이 과정에서 오후 6시 20분께 강북구 번동 길 위에서 사람들이 싸우고 있다 총소리가 났다 는 등의 신고가 여러건 들어왔다  5분 후에 성씨의 전자발찌가 훼손됐다는 신고가 보호관찰소 시스템을 통해 들어왔다 성범죄자로 전자발찌를 차고 있던 성씨는 부엌칼로 직접 자신의 발찌를 끊었다  용의자 소지 사제총기 2정 서울 연합뉴스 임헌정 기자 서울 시내에서 폭행 용의자가 현장 조사를 벌이던 경찰관에게 사제총기를 발사해 경찰관이 숨졌다 19일 오후 6시28분 강북구 번동에서 둔기로 맞았다 는 폭행 피해 신고가 접수돼 현장에서 조사하던 강북경찰서 번동파출소 소속 김모 54 경위가 폭행 용의자 성모 45 씨가 쏜 사제총기에 맞고 쓰러진 뒤 병원에 옮겨졌으나 숨졌다 사진은 용의자가 소지한 사제총기  신고를 받고 번동파출소에서 김창호 54 경위 등 경찰들이 오후 6시 29분께 현장으로 출동했다 성씨는 그사이 부동산 앞에 놓아뒀던 가방을 챙겨 오패산 쪽으로 도망간 후였다  김 경위는 오패산 터널 입구 오른쪽의 급경사에서 성씨에게 접근하다가 오후 6시 33분께 풀숲에 숨은 성씨가 허공에 난사한 10여발의 총알 중 일부를 왼쪽 어깨 뒷부분에 맞고 쓰러졌다  김 경위는 구급차가 도착했을 때 이미 의식이 없었고 심폐소생술을 하며 병원으로 옮겨졌으나 총알이 폐를 훼손해 오후 7시 40분께 사망했다  김 경위는 외근용 조끼를 입고 있었으나 총알을 막기에는 역부족이었다  머리에 부상을 입은 이씨도 함께 병원으로 이송됐으나 생명에는 지장이 없는 것으로 알려졌다  성씨는 오패산 터널 밑쪽 숲에서 오후 6시 45분께 잡혔다  총격현장 수색하는 경찰들 서울 연합뉴스 이효석 기자 19일 오후 서울 강북구 오패산 터널 인근에서 경찰들이 폭행 용의자가 사제총기를 발사해 경찰관이 사망한 사건을 조사 하고 있다  총 때문에 쫓던 경관들과 민간인들이 몸을 숨겼는데 인근 신발가게 직원 이모씨가 다가가 성씨를 덮쳤고 이어 현장에 있던 다른 상인들과 경찰이 가세해 체포했다  성씨는 경찰에 붙잡힌 직후 나 자살하려고 한 거다 맞아 죽어도 괜찮다 고 말한 것으로 전해졌다  성씨 자신도 경찰이 발사한 공포탄 1발 실탄 3발 중 실탄 1발을 배에 맞았으나 방탄조끼를 입은 상태여서 부상하지는 않았다  경찰은 인근을 수색해 성씨가 만든 사제총 16정과 칼 7개를 압수했다 실제 폭발할지는 알 수 없는 요구르트병에 무언가를 채워두고 심지를 꽂은 사제 폭탄도 발견됐다  일부는 숲에서 발견됐고 일부는 성씨가 소지한 가방 안에 있었다\n",
            "테헤란 연합뉴스 강훈상 특파원 이용 승객수 기준 세계 최대 공항인 아랍에미리트 두바이국제공항은 19일 현지시간 이 공항을 이륙하는 모든 항공기의 탑승객은 삼성전자의 갤럭시노트7을 휴대하면 안 된다고 밝혔다  두바이국제공항은 여러 항공 관련 기구의 권고에 따라 안전성에 우려가 있는 스마트폰 갤럭시노트7을 휴대하고 비행기를 타면 안 된다 며 탑승 전 검색 중 발견되면 압수할 계획 이라고 발표했다  공항 측은 갤럭시노트7의 배터리가 폭발 우려가 제기된 만큼 이 제품을 갖고 공항 안으로 들어오지 말라고 이용객에 당부했다  이런 조치는 두바이국제공항 뿐 아니라 신공항인 두바이월드센터에도 적용된다  배터리 폭발문제로 회수된 갤럭시노트7 연합뉴스자료사진\n"
          ]
        }
      ]
    },
    {
      "cell_type": "markdown",
      "source": [
        "- soynlp는 학습 기반의 단어 토크나이저이므로, 기존 KoNLPy 제공 형태소 분석기와는 달리 학습과정을 거쳐야 함\n",
        "- ** 즉,  전체 코퍼스로부터 1) 응집확률과 2) 브랜칭 엔트로피 단어 점수표를 만드는 과정\n",
        "- WordExtractor.extract()를 통해서 전체 코퍼스에 대해 단어 점수표를 계산"
      ],
      "metadata": {
        "id": "UsIWgBWGvUjL"
      }
    },
    {
      "cell_type": "code",
      "source": [
        "word_extractor = WordExtractor()\n",
        "word_extractor.train(corpus)\n",
        "word_score_table = word_extractor.extract()"
      ],
      "metadata": {
        "id": "hWupPC00vwCe",
        "colab": {
          "base_uri": "https://localhost:8080/"
        },
        "outputId": "0cb116fb-df67-4bb7-acce-46f732ceb2be"
      },
      "execution_count": null,
      "outputs": [
        {
          "output_type": "stream",
          "name": "stdout",
          "text": [
            "training was done. used memory 1.843 Gb\n",
            "all cohesion probabilities was computed. # words = 223348\n",
            "all branching entropies was computed # words = 361598\n",
            "all accessor variety was computed # words = 361598\n"
          ]
        }
      ]
    },
    {
      "cell_type": "markdown",
      "source": [
        "### 3. SOYNLP의 응집 확률(cohesion probability)"
      ],
      "metadata": {
        "id": "phsd-yQ7DRYD"
      }
    },
    {
      "cell_type": "markdown",
      "source": [
        "- 응집 확률은 내부 문자열(substring)이 얼마나 응집하여 자주 등장하는지 판단하는 척도 (즉, *** 얼마나 뭉쳐있는지 *** )\n",
        "- 문자 단위로 내부 문자열 만드는 과정에서, 왼쪽부터 문자 추가하면서,\n",
        "- 각 문자열이 주어졌을 때 그 다음 문자가 나올 확률을 계산하여 누적곱\n",
        "- *** 응집확률 높을수록 전체 코퍼스에서 이 문자열시퀀스는 하나의 단어로 등장 가능성 높음 *** "
      ],
      "metadata": {
        "id": "UQ-Iu_lMDsa5"
      }
    },
    {
      "cell_type": "markdown",
      "source": [
        "![image.png](data:image/png;base64,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)"
      ],
      "metadata": {
        "id": "yKPkRjdJE9Sn"
      }
    },
    {
      "cell_type": "code",
      "source": [
        "word_score_table['반포한'].cohesion_forward"
      ],
      "metadata": {
        "colab": {
          "base_uri": "https://localhost:8080/"
        },
        "id": "sJBhsYSEFHxZ",
        "outputId": "a4566a0b-45c2-4c8f-d003-cc6dd970864e"
      },
      "execution_count": null,
      "outputs": [
        {
          "output_type": "execute_result",
          "data": {
            "text/plain": [
              "0.08838002913645132"
            ]
          },
          "metadata": {},
          "execution_count": 20
        }
      ]
    },
    {
      "cell_type": "code",
      "source": [
        "word_score_table['반포한강'].cohesion_forward"
      ],
      "metadata": {
        "colab": {
          "base_uri": "https://localhost:8080/"
        },
        "id": "bkxXPa4GF3aC",
        "outputId": "6e3854dd-e413-4727-82c4-bf1a41ed0432"
      },
      "execution_count": null,
      "outputs": [
        {
          "output_type": "execute_result",
          "data": {
            "text/plain": [
              "0.19841268168224552"
            ]
          },
          "metadata": {},
          "execution_count": 21
        }
      ]
    },
    {
      "cell_type": "code",
      "source": [
        "word_score_table['반포한강공'].cohesion_forward"
      ],
      "metadata": {
        "colab": {
          "base_uri": "https://localhost:8080/"
        },
        "id": "VOaP7mKdGK3W",
        "outputId": "2e55c9ed-3f87-4eea-9cd7-ec4c25f3031d"
      },
      "execution_count": null,
      "outputs": [
        {
          "output_type": "execute_result",
          "data": {
            "text/plain": [
              "0.2972877884078849"
            ]
          },
          "metadata": {},
          "execution_count": 22
        }
      ]
    },
    {
      "cell_type": "code",
      "source": [
        "word_score_table['반포한강공원'].cohesion_forward\n",
        "  # 결합도는 '반포한강공원'일 때가 가장 높았음\n",
        "  # 응집도를 통해 판단하기에 하나의 단어로 판단하기 가장 적합한 문자열은 '반포 한강공원' 이라 할 수 있음"
      ],
      "metadata": {
        "colab": {
          "base_uri": "https://localhost:8080/"
        },
        "id": "DtaqVINzGPHA",
        "outputId": "11070bbf-3130-4b62-aa50-468dd1ddd739"
      },
      "execution_count": null,
      "outputs": [
        {
          "output_type": "execute_result",
          "data": {
            "text/plain": [
              "0.37891487632839754"
            ]
          },
          "metadata": {},
          "execution_count": 26
        }
      ]
    },
    {
      "cell_type": "code",
      "source": [
        "word_score_table['반포한강공원에'].cohesion_forward"
      ],
      "metadata": {
        "colab": {
          "base_uri": "https://localhost:8080/"
        },
        "id": "Eq9ffnWsGU2f",
        "outputId": "9f3648f7-4753-44fd-ba06-4d3ab163c63b"
      },
      "execution_count": null,
      "outputs": [
        {
          "output_type": "execute_result",
          "data": {
            "text/plain": [
              "0.33492963377557666"
            ]
          },
          "metadata": {},
          "execution_count": 27
        }
      ]
    },
    {
      "cell_type": "markdown",
      "source": [
        "### 4. SOYNLP의 브랜칭 엔트로피(branching entropy)"
      ],
      "metadata": {
        "id": "Ijfwkq6gHWFv"
      }
    },
    {
      "cell_type": "markdown",
      "source": [
        "- Branching Entropy는 확률 분포의 엔트로피 값을 사용 \n",
        "- 즉, 주어진 문자열에서 얼마나 다음 문자가 등장할 수 있는지 판단하는 척도\n",
        "- Branching Entropy := 주어진 문자 시퀀스에서 다음 문자 예측을 위해 *** 헷갈리는 정도 ***\n",
        "- 값은 하나의 완성된 단어에 가까워질수록 점점 줄어듦 (하나의 완성된 단어에 가까워질수록 문맥으로 인해 점점 정확히 예측할 수 있게 됨)"
      ],
      "metadata": {
        "id": "2zKtqts-IKhN"
      }
    },
    {
      "cell_type": "code",
      "source": [
        "word_score_table['디스'].right_branching_entropy\n",
        "  # '디스' 다음에는 다양한 문자가 올 수 있어 1.63이라는 값을 가짐"
      ],
      "metadata": {
        "colab": {
          "base_uri": "https://localhost:8080/"
        },
        "id": "YgmSBSirJHA4",
        "outputId": "cbf92e0d-fc56-4818-a699-a09f5a4ca39b"
      },
      "execution_count": null,
      "outputs": [
        {
          "output_type": "execute_result",
          "data": {
            "text/plain": [
              "1.6371694761537934"
            ]
          },
          "metadata": {},
          "execution_count": 28
        }
      ]
    },
    {
      "cell_type": "code",
      "source": [
        "word_score_table['디스플'].right_branching_entropy\n",
        "  # '디스플' 다음에는 다음 문자로 '레'가 오는 것이 너무나 명백함\n",
        "  # 헷갈릴 일이 없음"
      ],
      "metadata": {
        "colab": {
          "base_uri": "https://localhost:8080/"
        },
        "id": "WpgUDolQJ2PE",
        "outputId": "42ad01e3-1a5a-4fb6-aba1-cb2ffcd8c49b"
      },
      "execution_count": null,
      "outputs": [
        {
          "output_type": "execute_result",
          "data": {
            "text/plain": [
              "-0.0"
            ]
          },
          "metadata": {},
          "execution_count": 29
        }
      ]
    },
    {
      "cell_type": "code",
      "source": [
        "word_score_table['디스플레'].right_branching_entropy"
      ],
      "metadata": {
        "colab": {
          "base_uri": "https://localhost:8080/"
        },
        "id": "8MCr9wZ1M8ZD",
        "outputId": "8228fd34-4031-4493-fd9d-f6911a0da837"
      },
      "execution_count": null,
      "outputs": [
        {
          "output_type": "execute_result",
          "data": {
            "text/plain": [
              "-0.0"
            ]
          },
          "metadata": {},
          "execution_count": 31
        }
      ]
    },
    {
      "cell_type": "code",
      "source": [
        "word_score_table['디스플레이'].right_branching_entropy\n",
        "  # 갑자기 값이 증가 (0.0 --> 3.14003,,)\n",
        "  # '디스플레이' 다음에는 조사/다른 단어와 같이 다양한 경우\n",
        "  # 명백하지 않음"
      ],
      "metadata": {
        "colab": {
          "base_uri": "https://localhost:8080/"
        },
        "id": "Ybsa8zJyKG72",
        "outputId": "e32c4cf0-1033-49ab-a401-998fcce58738"
      },
      "execution_count": null,
      "outputs": [
        {
          "output_type": "execute_result",
          "data": {
            "text/plain": [
              "3.1400392861792916"
            ]
          },
          "metadata": {},
          "execution_count": 30
        }
      ]
    },
    {
      "cell_type": "markdown",
      "source": [
        "*** 하나의 단어가 끝나면 그 경계 부분부터 다시 브랜칭엔트로피 값 증가 ***"
      ],
      "metadata": {
        "id": "aZrV224mKXie"
      }
    },
    {
      "cell_type": "markdown",
      "source": [
        "### 5. SOYNLP 의 L Tokenizer"
      ],
      "metadata": {
        "id": "dyIrCbjkMW1P"
      }
    },
    {
      "cell_type": "markdown",
      "source": [
        "- 한국어는, 띄어쓰기 단위로 나눈 어절 토큰은 주로 L토큰 + R토큰의 형식을 가질 때가 많음\n",
        "- ex. '공원에' --> '공원 + 에'\n",
        "- ex. '공부하는' --> '공부 + 하는'\n",
        "- L토크나이저: L토큰 + R토큰으로 나누되, 분리 기준은 '점수가 가장 높은 L토큰을 찾아내는 원리'"
      ],
      "metadata": {
        "id": "Z33kHsj_NCAp"
      }
    },
    {
      "cell_type": "code",
      "source": [
        "from soynlp.tokenizer import LTokenizer\n",
        "\n",
        "scores = {word:score.cohesion_forward for word, score in word_score_table.items()}\n",
        "l_tokenizer = LTokenizer(scores = scores)\n",
        "l_tokenizer.tokenize('국제사회와 우리의 노력들로 범죄를 척결하자', flatten = False)"
      ],
      "metadata": {
        "colab": {
          "base_uri": "https://localhost:8080/"
        },
        "id": "09YzJr3_Nk7z",
        "outputId": "7c1eebd9-12f2-4b2b-a313-ccd9f2ab7c1f"
      },
      "execution_count": null,
      "outputs": [
        {
          "output_type": "execute_result",
          "data": {
            "text/plain": [
              "[('국제사회', '와'), ('우리', '의'), ('노력', '들로'), ('범죄', '를'), ('척결', '하자')]"
            ]
          },
          "metadata": {},
          "execution_count": 33
        }
      ]
    },
    {
      "cell_type": "markdown",
      "source": [
        "### 6. 최대 점수 토크나이저"
      ],
      "metadata": {
        "id": "EgG0xnCtUAmy"
      }
    },
    {
      "cell_type": "markdown",
      "source": [
        "- 띄어쓰기가 되지 않는 문장에서 점수가 높은 글자 시퀀스를 순차적으로 찾아내는 토크나이저\n",
        "- 띄어쓰기가 되어 있지 않은 문장을 넣어 점수를 통해 토큰화된 결과 확인"
      ],
      "metadata": {
        "id": "o5V0FpGQUPhF"
      }
    },
    {
      "cell_type": "code",
      "source": [
        "from soynlp.tokenizer import MaxScoreTokenizer\n",
        "\n",
        "maxscore_tokenizer = MaxScoreTokenizer(scores = scores)\n",
        "maxscore_tokenizer.tokenize('국제사회와우리의노력들로범죄를척결하자')"
      ],
      "metadata": {
        "colab": {
          "base_uri": "https://localhost:8080/"
        },
        "id": "-I7AYMxhUXT7",
        "outputId": "f1fc81e5-87f0-40f2-f666-9c61ccba41a8"
      },
      "execution_count": null,
      "outputs": [
        {
          "output_type": "execute_result",
          "data": {
            "text/plain": [
              "['국제사회', '와', '우리', '의', '노력', '들로', '범죄', '를', '척결', '하자']"
            ]
          },
          "metadata": {},
          "execution_count": 34
        }
      ]
    },
    {
      "cell_type": "markdown",
      "source": [
        "## 4. SOYNLP를 이용한 반복되는 문자 정제"
      ],
      "metadata": {
        "id": "g8xeZhtEUi8Z"
      }
    },
    {
      "cell_type": "markdown",
      "source": [
        "- SNS나 채팅 데이터와 같은 한국어 데이터는 ㅋㅋ, ㅎㅎ등 불필요한 연속 많음\n",
        "- 모두 서로 다른 단어로 처리하는 것은 불필요함\n",
        "- 이에 반복되는 것은 하나로 정규화 시켜 줌"
      ],
      "metadata": {
        "id": "_UV7UsjCUn_l"
      }
    },
    {
      "cell_type": "code",
      "source": [
        "from soynlp.normalizer import *"
      ],
      "metadata": {
        "id": "NlxTPQEKUwwH"
      },
      "execution_count": null,
      "outputs": []
    },
    {
      "cell_type": "markdown",
      "source": [
        "- 이모티콘의 경우"
      ],
      "metadata": {
        "id": "QXUTICrwU6xG"
      }
    },
    {
      "cell_type": "code",
      "source": [
        "print(emoticon_normalize('앜ㅋㅋㅋㅋ이영화존잼쓰ㅠㅠㅠㅠㅠ', num_repeats=2))\n",
        "print(emoticon_normalize('앜ㅋㅋㅋㅋㅋㅋㅋㅋㅋ이영화존잼쓰ㅠㅠㅠㅠ', num_repeats=2))\n",
        "print(emoticon_normalize('앜ㅋㅋㅋㅋㅋㅋㅋㅋㅋㅋㅋㅋ이영화존잼쓰ㅠㅠㅠㅠㅠㅠ', num_repeats=2))\n",
        "print(emoticon_normalize('앜ㅋㅋㅋㅋㅋㅋㅋㅋㅋㅋㅋㅋㅋㅋㅋㅋㅋ이영화존잼쓰ㅠㅠㅠㅠㅠㅠㅠㅠ', num_repeats=2))"
      ],
      "metadata": {
        "colab": {
          "base_uri": "https://localhost:8080/"
        },
        "id": "bk4Vhj_PUyxH",
        "outputId": "1d813043-d99f-4831-9ce3-36baf61e8aa7"
      },
      "execution_count": null,
      "outputs": [
        {
          "output_type": "stream",
          "name": "stdout",
          "text": [
            "아ㅋㅋ영화존잼쓰ㅠㅠ\n",
            "아ㅋㅋ영화존잼쓰ㅠㅠ\n",
            "아ㅋㅋ영화존잼쓰ㅠㅠ\n",
            "아ㅋㅋ영화존잼쓰ㅠㅠ\n"
          ]
        }
      ]
    },
    {
      "cell_type": "markdown",
      "source": [
        "- 글자의 경우"
      ],
      "metadata": {
        "id": "9Jq4NXY-U-lg"
      }
    },
    {
      "cell_type": "code",
      "source": [
        "print(repeat_normalize('와하하하하하하하하하핫', num_repeats=2))\n",
        "print(repeat_normalize('와하하하하하하핫', num_repeats=2))\n",
        "print(repeat_normalize('와하하하하핫', num_repeats=2))"
      ],
      "metadata": {
        "colab": {
          "base_uri": "https://localhost:8080/"
        },
        "id": "UwEhIOLYU3uQ",
        "outputId": "a97003bb-055d-43d0-da65-11d02527afb2"
      },
      "execution_count": null,
      "outputs": [
        {
          "output_type": "stream",
          "name": "stdout",
          "text": [
            "와하하핫\n",
            "와하하핫\n",
            "와하하핫\n"
          ]
        }
      ]
    },
    {
      "cell_type": "markdown",
      "source": [
        "## 5. Customized KoNLPy"
      ],
      "metadata": {
        "id": "xdvDV4hBU6Tp"
      }
    },
    {
      "cell_type": "markdown",
      "source": [
        "- 사용자 사전 추가하기(생각보다 복잡, 그나마 쉬운 Customized Konlpy)\n",
        "- 형태소 분석기를 사용할 때 이런 상황에 봉착한다면 어떻게 할까?\n",
        "- 형태소 분석 입력 : '은경이는 사무실로 갔습니다.'\n",
        "- 형태소 분석 결과 : ['은', '경이', '는', '사무실', '로', '갔습니다', '.']\n",
        "- '은경이'는 하나의 단어이기 때문에 분리하지 말라고 형태소 분석기에 알려줘야 함"
      ],
      "metadata": {
        "id": "l_0d2w2zcu29"
      }
    },
    {
      "cell_type": "code",
      "source": [
        "pip install customized_konlpy"
      ],
      "metadata": {
        "colab": {
          "base_uri": "https://localhost:8080/"
        },
        "id": "-2KAMmH4f2mF",
        "outputId": "f394c524-ee27-4845-f91e-b9003ac70125"
      },
      "execution_count": null,
      "outputs": [
        {
          "output_type": "stream",
          "name": "stdout",
          "text": [
            "Looking in indexes: https://pypi.org/simple, https://us-python.pkg.dev/colab-wheels/public/simple/\n",
            "Collecting customized_konlpy\n",
            "  Downloading customized_konlpy-0.0.64-py3-none-any.whl (881 kB)\n",
            "\u001b[K     |████████████████████████████████| 881 kB 4.4 MB/s \n",
            "\u001b[?25hCollecting Jpype1>=0.6.1\n",
            "  Downloading JPype1-1.4.0-cp37-cp37m-manylinux_2_5_x86_64.manylinux1_x86_64.whl (453 kB)\n",
            "\u001b[K     |████████████████████████████████| 453 kB 36.1 MB/s \n",
            "\u001b[?25hCollecting konlpy>=0.4.4\n",
            "  Downloading konlpy-0.6.0-py2.py3-none-any.whl (19.4 MB)\n",
            "\u001b[K     |████████████████████████████████| 19.4 MB 1.3 MB/s \n",
            "\u001b[?25hRequirement already satisfied: typing-extensions in /usr/local/lib/python3.7/dist-packages (from Jpype1>=0.6.1->customized_konlpy) (4.1.1)\n",
            "Requirement already satisfied: lxml>=4.1.0 in /usr/local/lib/python3.7/dist-packages (from konlpy>=0.4.4->customized_konlpy) (4.2.6)\n",
            "Requirement already satisfied: numpy>=1.6 in /usr/local/lib/python3.7/dist-packages (from konlpy>=0.4.4->customized_konlpy) (1.21.6)\n",
            "Installing collected packages: Jpype1, konlpy, customized-konlpy\n",
            "Successfully installed Jpype1-1.4.0 customized-konlpy-0.0.64 konlpy-0.6.0\n"
          ]
        }
      ]
    },
    {
      "cell_type": "code",
      "source": [
        "from ckonlpy.tag import Twitter\n",
        "twitter = Twitter()\n",
        "twitter.morphs('은경이는 사무실로 갔습니다.')"
      ],
      "metadata": {
        "colab": {
          "base_uri": "https://localhost:8080/"
        },
        "id": "3_Ghl5_XgNJ6",
        "outputId": "7e47b032-40aa-46da-8e83-9ccc1bf7af60"
      },
      "execution_count": null,
      "outputs": [
        {
          "output_type": "stream",
          "name": "stderr",
          "text": [
            "/usr/local/lib/python3.7/dist-packages/konlpy/tag/_okt.py:17: UserWarning: \"Twitter\" has changed to \"Okt\" since KoNLPy v0.4.5.\n",
            "  warn('\"Twitter\" has changed to \"Okt\" since KoNLPy v0.4.5.')\n"
          ]
        },
        {
          "output_type": "execute_result",
          "data": {
            "text/plain": [
              "['은', '경이', '는', '사무실', '로', '갔습니다', '.']"
            ]
          },
          "metadata": {},
          "execution_count": 2
        }
      ]
    },
    {
      "cell_type": "markdown",
      "source": [
        "- Twitter의 add_dictionary('단어', '품사') 와 같은 형식으로 사전 추가"
      ],
      "metadata": {
        "id": "bv0bUsQCgYZl"
      }
    },
    {
      "cell_type": "code",
      "source": [
        "twitter.add_dictionary('은경이', 'Noun')"
      ],
      "metadata": {
        "id": "0FUXQEG1g006"
      },
      "execution_count": null,
      "outputs": []
    },
    {
      "cell_type": "code",
      "source": [
        "twitter.morphs('은경이는 사무실로 갔습니다')\n",
        " # '은경이' 하나의 토큰으로 인식"
      ],
      "metadata": {
        "colab": {
          "base_uri": "https://localhost:8080/"
        },
        "id": "QuvLhfWogvih",
        "outputId": "4c26504b-8f76-4afa-928a-d375a05dfc49"
      },
      "execution_count": null,
      "outputs": [
        {
          "output_type": "execute_result",
          "data": {
            "text/plain": [
              "['은경이', '는', '사무실', '로', '갔습니다']"
            ]
          },
          "metadata": {},
          "execution_count": 5
        }
      ]
    },
    {
      "cell_type": "code",
      "source": [
        ""
      ],
      "metadata": {
        "id": "RuZqOEMpgyhT"
      },
      "execution_count": null,
      "outputs": []
    }
  ]
}