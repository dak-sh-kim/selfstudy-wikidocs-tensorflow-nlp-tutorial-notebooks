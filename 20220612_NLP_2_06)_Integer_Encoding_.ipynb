{
  "nbformat": 4,
  "nbformat_minor": 0,
  "metadata": {
    "colab": {
      "name": "20220612_NLP_2-06) Integer Encoding .ipynb",
      "provenance": [],
      "collapsed_sections": [],
      "toc_visible": true,
      "authorship_tag": "ABX9TyO24dB+LTum0AqYRXiDa4lu",
      "include_colab_link": true
    },
    "kernelspec": {
      "name": "python3",
      "display_name": "Python 3"
    },
    "language_info": {
      "name": "python"
    }
  },
  "cells": [
    {
      "cell_type": "markdown",
      "metadata": {
        "id": "view-in-github",
        "colab_type": "text"
      },
      "source": [
        "<a href=\"https://colab.research.google.com/github/dak-sh-kim/selfstudy-wikidocs-tensorflow-nlp-tutorial-notebooks/blob/main/20220612_NLP_2_06)_Integer_Encoding_.ipynb\" target=\"_parent\"><img src=\"https://colab.research.google.com/assets/colab-badge.svg\" alt=\"Open In Colab\"/></a>"
      ]
    },
    {
      "cell_type": "markdown",
      "source": [
        "# 06) 정수 인코딩 (Integer Encoding)"
      ],
      "metadata": {
        "id": "rcDobZUX65wF"
      }
    },
    {
      "cell_type": "markdown",
      "source": [
        "- 컴퓨터가 숫자를 잘 처리하기 때문에, NLP에는 텍스트 --> 숫자 바꾸는 여러가지 기법\n",
        "- 첫 단계: 맵핑(mapping) - 각 단어를 고유한 정수에 맵핑 \n",
        "- ex. 5000개의 단어를 갖고 있다면, 각 단어에 인덱스를 부여하는 것 - book-221번, animal - 12번, etc.\n",
        "- 인덱스를 부여하는 방법: 여러가지, 보통 단어 등장 빈도수 기준 정렬"
      ],
      "metadata": {
        "id": "EhsqFUBS7HQr"
      }
    },
    {
      "cell_type": "markdown",
      "source": [
        "## 1. 정수 인코딩(Integer Encoding)"
      ],
      "metadata": {
        "id": "MDFR3Bx67ZX0"
      }
    },
    {
      "cell_type": "markdown",
      "source": [
        "- 정수 인코딩의 목적은 원-핫 인코딩 실습/워드 임베딩 챕터에서 알아보자\n",
        "- 여기서는 정수 인코딩의 과정만 정리"
      ],
      "metadata": {
        "id": "R1raX6CJ8gKD"
      }
    },
    {
      "cell_type": "markdown",
      "source": [
        "#### 1) dictionary 사용하기"
      ],
      "metadata": {
        "id": "DgyJd_pv_OhC"
      }
    },
    {
      "cell_type": "code",
      "source": [
        "from nltk.tokenize import sent_tokenize\n",
        "from nltk.tokenize import word_tokenize\n",
        "from nltk.corpus import stopwords"
      ],
      "metadata": {
        "id": "W5-aZn6N_SZW"
      },
      "execution_count": null,
      "outputs": []
    },
    {
      "cell_type": "code",
      "source": [
        "raw_text = \"\"\"A barber is a person. a barber is good person. a barber is huge person. \n",
        "he Knew A Secret! The Secret He Kept is huge secret. Huge secret. His barber kept his word. \n",
        "a barber kept his word. His barber kept his secret.\n",
        "But keeping and keeping such a huge secret to himself was driving the barber crazy. \n",
        "the barber went up a huge mountain.\"\"\""
      ],
      "metadata": {
        "id": "nmxwfQpo_XdU"
      },
      "execution_count": null,
      "outputs": []
    },
    {
      "cell_type": "code",
      "source": [
        "import nltk\n",
        "nltk.download('punkt')"
      ],
      "metadata": {
        "id": "Xy1vUIxi_7VQ",
        "outputId": "1562001f-4989-4e2f-d316-3ca493a3e544",
        "colab": {
          "base_uri": "https://localhost:8080/"
        }
      },
      "execution_count": null,
      "outputs": [
        {
          "output_type": "stream",
          "name": "stderr",
          "text": [
            "[nltk_data] Downloading package punkt to /root/nltk_data...\n",
            "[nltk_data]   Unzipping tokenizers/punkt.zip.\n"
          ]
        },
        {
          "output_type": "execute_result",
          "data": {
            "text/plain": [
              "True"
            ]
          },
          "metadata": {},
          "execution_count": 3
        }
      ]
    },
    {
      "cell_type": "code",
      "source": [
        "# 문장 토큰화\n",
        "sentences = sent_tokenize(raw_text)\n",
        "print(sentences)"
      ],
      "metadata": {
        "colab": {
          "base_uri": "https://localhost:8080/"
        },
        "id": "rQxown1I_ksC",
        "outputId": "37ee91f2-9b7f-4951-e867-2d42b731feac"
      },
      "execution_count": null,
      "outputs": [
        {
          "output_type": "stream",
          "name": "stdout",
          "text": [
            "['A barber is a person.', 'a barber is good person.', 'a barber is huge person.', 'he Knew A Secret!', 'The Secret He Kept is huge secret.', 'Huge secret.', 'His barber kept his word.', 'a barber kept his word.', 'His barber kept his secret.', 'But keeping and keeping such a huge secret to himself was driving the barber crazy.', 'the barber went up a huge mountain.']\n"
          ]
        }
      ]
    },
    {
      "cell_type": "code",
      "source": [
        "nltk.download('stopwords')"
      ],
      "metadata": {
        "colab": {
          "base_uri": "https://localhost:8080/"
        },
        "id": "fY_bdTFITo-s",
        "outputId": "68a2ab94-2f3b-4207-ee9a-d5868b18ba24"
      },
      "execution_count": null,
      "outputs": [
        {
          "output_type": "stream",
          "name": "stderr",
          "text": [
            "[nltk_data] Downloading package stopwords to /root/nltk_data...\n",
            "[nltk_data]   Unzipping corpora/stopwords.zip.\n"
          ]
        },
        {
          "output_type": "execute_result",
          "data": {
            "text/plain": [
              "True"
            ]
          },
          "metadata": {},
          "execution_count": 5
        }
      ]
    },
    {
      "cell_type": "markdown",
      "source": [
        "+ 텍스트를 수치화하는 단계라는 것은 본격적으로 자연어처리 작업에 들어간다는 의미\n",
        "+ 따라서, 단어가 텍스트일 때만 할 수 있는 최대한의 전처리를 끝내놓아야 함"
      ],
      "metadata": {
        "id": "Vjt12wbBYsDr"
      }
    },
    {
      "cell_type": "code",
      "source": [
        "vocab = {}\n",
        "preprocessed_sentences = []\n",
        "stop_words = set(stopwords.words('english'))\n",
        "\n",
        "for sentence in sentences:\n",
        "  # 단어 토큰화\n",
        "  tokenized_sentence = word_tokenize(sentence)\n",
        "  result = []\n",
        "\n",
        "  for word in tokenized_sentence:\n",
        "    word = word.lower() # 모든 단어를 '소문자화' 하여 단어의 개수를 줄인다.\n",
        "    if word not in stop_words: # 1) 단어 토큰화 된 결과에 대해 '불용어' 제거\n",
        "      if len(word) > 2: # 2) '단어길이 2 이하' 추가 제거\n",
        "\n",
        "        result.append(word)\n",
        "        if word not in vocab:\n",
        "          vocab[word] = 0\n",
        "        vocab[word] += 1 # a += b : a = a+b ; a += 1 : a = a+1\n",
        "        # vocab; word 초기값 = 0\n",
        "          # word1: 빈도수(생길때마다 증가), word2: 빈도수, word3:빈도수... \n",
        "  preprocessed_sentences.append(result)\n",
        "print(preprocessed_sentences)      "
      ],
      "metadata": {
        "id": "zqBQBet8_6A5",
        "colab": {
          "base_uri": "https://localhost:8080/"
        },
        "outputId": "a41fe535-1db1-4de4-c0b5-2c8c96934b4b"
      },
      "execution_count": null,
      "outputs": [
        {
          "output_type": "stream",
          "name": "stdout",
          "text": [
            "[['barber', 'person'], ['barber', 'good', 'person'], ['barber', 'huge', 'person'], ['knew', 'secret'], ['secret', 'kept', 'huge', 'secret'], ['huge', 'secret'], ['barber', 'kept', 'word'], ['barber', 'kept', 'word'], ['barber', 'kept', 'secret'], ['keeping', 'keeping', 'huge', 'secret', 'driving', 'barber', 'crazy'], ['barber', 'went', 'huge', 'mountain']]\n"
          ]
        }
      ]
    },
    {
      "cell_type": "code",
      "source": [
        "print(\"단어 집합: \", vocab)"
      ],
      "metadata": {
        "colab": {
          "base_uri": "https://localhost:8080/"
        },
        "id": "GHtTqcZPTmLo",
        "outputId": "eb16cfd3-80d6-419e-8870-3e194b78d1b2"
      },
      "execution_count": null,
      "outputs": [
        {
          "output_type": "stream",
          "name": "stdout",
          "text": [
            "단어 집합:  {'barber': 8, 'person': 3, 'good': 1, 'huge': 5, 'knew': 1, 'secret': 6, 'kept': 4, 'word': 2, 'keeping': 2, 'driving': 1, 'crazy': 1, 'went': 1, 'mountain': 1}\n"
          ]
        }
      ]
    },
    {
      "cell_type": "markdown",
      "source": [
        "- vocab은 {딕셔너리 구조; key: value}"
      ],
      "metadata": {
        "id": "6kWk1V0S3XqU"
      }
    },
    {
      "cell_type": "code",
      "source": [
        "vocab['barber']"
      ],
      "metadata": {
        "colab": {
          "base_uri": "https://localhost:8080/"
        },
        "id": "1CvnGolP7aX9",
        "outputId": "51f3393b-2696-496b-9859-edc10b1abaaa"
      },
      "execution_count": null,
      "outputs": [
        {
          "output_type": "execute_result",
          "data": {
            "text/plain": [
              "8"
            ]
          },
          "metadata": {},
          "execution_count": 8
        }
      ]
    },
    {
      "cell_type": "code",
      "source": [
        "# 빈도수가 높은 순으로 정렬\n",
        "vocab_sorted = sorted(vocab.items(), key = lambda x:x[1], reverse = True)\n",
        "print(vocab_sorted)"
      ],
      "metadata": {
        "colab": {
          "base_uri": "https://localhost:8080/"
        },
        "id": "NuvJUxmp7dET",
        "outputId": "e5111cdb-087e-4c44-94d1-7c73a8788924"
      },
      "execution_count": null,
      "outputs": [
        {
          "output_type": "stream",
          "name": "stdout",
          "text": [
            "[('barber', 8), ('secret', 6), ('huge', 5), ('kept', 4), ('person', 3), ('word', 2), ('keeping', 2), ('good', 1), ('knew', 1), ('driving', 1), ('crazy', 1), ('went', 1), ('mountain', 1)]\n"
          ]
        }
      ]
    },
    {
      "cell_type": "markdown",
      "source": [
        "- 높은 빈도수를 가진 단어일수록 낮은 정수를 부여, 정수는 1부터 부여"
      ],
      "metadata": {
        "id": "mzAHZHpj7ikS"
      }
    },
    {
      "cell_type": "code",
      "source": [
        "word_to_index = {}\n",
        "i = 0\n",
        "\n",
        "for (word, frequency) in vocab_sorted:\n",
        "  if frequency > 1 : # 빈도수가 작은 단어는 제외 - 등장빈도가 적으면 자연어처리에서는 의미 가지지 X 가능성 높음\n",
        "    i = i + 1 # 그 다음 순서\n",
        "    word_to_index[word] = i # 순서 할당\n",
        "\n",
        "print(word_to_index)"
      ],
      "metadata": {
        "colab": {
          "base_uri": "https://localhost:8080/"
        },
        "id": "vh22Zduq8Uu_",
        "outputId": "c9c96b2e-b460-43db-d257-e6d51ecdf4f4"
      },
      "execution_count": null,
      "outputs": [
        {
          "output_type": "stream",
          "name": "stdout",
          "text": [
            "{'barber': 1, 'secret': 2, 'huge': 3, 'kept': 4, 'person': 5, 'word': 6, 'keeping': 7}\n"
          ]
        }
      ]
    },
    {
      "cell_type": "markdown",
      "source": [
        "- 빈도수가 높은 n개의 단어만 사용하고 싶다? "
      ],
      "metadata": {
        "id": "Ucp9Y3uXIgMJ"
      }
    },
    {
      "cell_type": "code",
      "source": [
        "vocab_size = 5\n",
        "\n",
        "# 인덱스가 5 초과인 단어 제거\n",
        "words_frequency = [word for word, index in word_to_index.items() if index >= vocab_size + 1]\n",
        "\n",
        "# 해당 단어에 대한 인덱스 정보를 삭제\n",
        "for w in words_frequency:\n",
        "  del word_to_index[w]\n",
        "print(word_to_index)"
      ],
      "metadata": {
        "colab": {
          "base_uri": "https://localhost:8080/"
        },
        "id": "L0p92ftsHYXy",
        "outputId": "4653606e-3c9b-474d-deb6-1dba11a9053d"
      },
      "execution_count": null,
      "outputs": [
        {
          "output_type": "stream",
          "name": "stdout",
          "text": [
            "{'barber': 1, 'secret': 2, 'huge': 3, 'kept': 4, 'person': 5}\n"
          ]
        }
      ]
    },
    {
      "cell_type": "markdown",
      "source": [
        "- Out-Of-Vocabulary (단어 집합에 없는 단어가 생기는 상황) 문제"
      ],
      "metadata": {
        "id": "ne5k86eDORkh"
      }
    },
    {
      "cell_type": "code",
      "source": [
        "# 단어 집합에 없는 단어들을 'OOV' 인덱스로 인코딩\n",
        "word_to_index['OOV'] = len(word_to_index) + 1 \n",
        "print(word_to_index)"
      ],
      "metadata": {
        "colab": {
          "base_uri": "https://localhost:8080/"
        },
        "id": "f4cmBcAbSyhZ",
        "outputId": "0a4b4d60-c54c-4aaf-f425-1747e44e5986"
      },
      "execution_count": null,
      "outputs": [
        {
          "output_type": "stream",
          "name": "stdout",
          "text": [
            "{'barber': 1, 'secret': 2, 'huge': 3, 'kept': 4, 'person': 5, 'OOV': 6}\n"
          ]
        }
      ]
    },
    {
      "cell_type": "markdown",
      "source": [
        "- word_to_index를 사용하여 sentences의 모든 단어들을 맵핑되는 정수로 인코딩"
      ],
      "metadata": {
        "id": "XmRijJ4OS_Uf"
      }
    },
    {
      "cell_type": "code",
      "source": [
        "encoded_sentences = []\n",
        "for sentence in preprocessed_sentences:\n",
        "  encoded_sentence = []\n",
        "  for word in sentence:\n",
        "    try:\n",
        "      # 단어 집합에 있는 단어라면 해당 단어의 정수를 리턴.\n",
        "      encoded_sentence.append(word_to_index[word])\n",
        "    except KeyError:\n",
        "      # 만약 단어집합에 없는 단어라면 'OOV'의 정수를 리턴.\n",
        "      encoded_sentence.append(word_to_index['OOV'])\n",
        "  encoded_sentences.append(encoded_sentence)\n",
        "print(encoded_sentences)"
      ],
      "metadata": {
        "colab": {
          "base_uri": "https://localhost:8080/"
        },
        "id": "QYixiYmlTLqd",
        "outputId": "a82b5480-8614-4a3c-cba2-83d256bf277f"
      },
      "execution_count": null,
      "outputs": [
        {
          "output_type": "stream",
          "name": "stdout",
          "text": [
            "[[1, 5], [1, 6, 5], [1, 3, 5], [6, 2], [2, 4, 3, 2], [3, 2], [1, 4, 6], [1, 4, 6], [1, 4, 2], [6, 6, 3, 2, 6, 1, 6], [1, 6, 3, 6]]\n"
          ]
        }
      ]
    },
    {
      "cell_type": "markdown",
      "source": [
        "- 지금까지는 dictionary 자료형으로 정수 인코딩을 진행\n",
        "- 더 쉽게 하기 위해서: Counter, FreqDist, enumerate 사용 or 케라스 토크나이저 사용 추천"
      ],
      "metadata": {
        "id": "CRAxYXFpUZ0W"
      }
    },
    {
      "cell_type": "markdown",
      "source": [
        "#### 2) Counter 사용하기"
      ],
      "metadata": {
        "id": "r7g3k457Us_s"
      }
    },
    {
      "cell_type": "code",
      "source": [
        "from collections import Counter"
      ],
      "metadata": {
        "id": "1xps9Zc8U80k"
      },
      "execution_count": null,
      "outputs": []
    },
    {
      "cell_type": "code",
      "source": [
        "preprocessed_sentences\n",
        "# 단어 토큰화가 된 결과임 "
      ],
      "metadata": {
        "colab": {
          "base_uri": "https://localhost:8080/"
        },
        "id": "vTLz5SU7VGBp",
        "outputId": "ef24db21-6aa2-46d4-912f-a4badbc0da76"
      },
      "execution_count": null,
      "outputs": [
        {
          "output_type": "execute_result",
          "data": {
            "text/plain": [
              "[['barber', 'person'],\n",
              " ['barber', 'good', 'person'],\n",
              " ['barber', 'huge', 'person'],\n",
              " ['knew', 'secret'],\n",
              " ['secret', 'kept', 'huge', 'secret'],\n",
              " ['huge', 'secret'],\n",
              " ['barber', 'kept', 'word'],\n",
              " ['barber', 'kept', 'word'],\n",
              " ['barber', 'kept', 'secret'],\n",
              " ['keeping', 'keeping', 'huge', 'secret', 'driving', 'barber', 'crazy'],\n",
              " ['barber', 'went', 'huge', 'mountain']]"
            ]
          },
          "metadata": {},
          "execution_count": 26
        }
      ]
    },
    {
      "cell_type": "markdown",
      "source": [
        "- 하나의 단어집합 (vocabulary) 만들어보자\n",
        "- **문장의 경계인 [, ] 제거, 단어들을 하나의 리스트 덩어리로 만들기"
      ],
      "metadata": {
        "id": "pcva7I4wVj91"
      }
    },
    {
      "cell_type": "code",
      "source": [
        "# words = np.hstack(preprocessed_sentences)으로도 수행 가능.\n",
        "\n",
        "all_words_list = sum(preprocessed_sentences, [])\n",
        "print(all_words_list)"
      ],
      "metadata": {
        "colab": {
          "base_uri": "https://localhost:8080/"
        },
        "id": "5CYahp9lVIFS",
        "outputId": "03bcce39-71d5-40a6-b833-f8ef26272721"
      },
      "execution_count": null,
      "outputs": [
        {
          "output_type": "stream",
          "name": "stdout",
          "text": [
            "['barber', 'person', 'barber', 'good', 'person', 'barber', 'huge', 'person', 'knew', 'secret', 'secret', 'kept', 'huge', 'secret', 'huge', 'secret', 'barber', 'kept', 'word', 'barber', 'kept', 'word', 'barber', 'kept', 'secret', 'keeping', 'keeping', 'huge', 'secret', 'driving', 'barber', 'crazy', 'barber', 'went', 'huge', 'mountain']\n"
          ]
        }
      ]
    },
    {
      "cell_type": "markdown",
      "source": [
        "- 중복을 제거하고 단어의 빈도수를 기록"
      ],
      "metadata": {
        "id": "N8XSKzzdV491"
      }
    },
    {
      "cell_type": "code",
      "source": [
        "# 파이썬의 Counter모듈을 이용하여 단어의 빈도수 카운트\n",
        "vocab = Counter(all_words_list)\n",
        "print(vocab)"
      ],
      "metadata": {
        "colab": {
          "base_uri": "https://localhost:8080/"
        },
        "id": "Yn4F50BbWBc3",
        "outputId": "fbb654bb-f002-42b8-efd1-7657c104d4ad"
      },
      "execution_count": null,
      "outputs": [
        {
          "output_type": "stream",
          "name": "stdout",
          "text": [
            "Counter({'barber': 8, 'secret': 6, 'huge': 5, 'kept': 4, 'person': 3, 'word': 2, 'keeping': 2, 'good': 1, 'knew': 1, 'driving': 1, 'crazy': 1, 'went': 1, 'mountain': 1})\n"
          ]
        }
      ]
    },
    {
      "cell_type": "code",
      "source": [
        "vocab['barber'] # 단어를 key로, 단어에 대한 빈도수를 value로 저장, 단어를 입력하면 빈도수 리턴"
      ],
      "metadata": {
        "colab": {
          "base_uri": "https://localhost:8080/"
        },
        "id": "QgGvw3auWHeZ",
        "outputId": "42ab40f6-0e58-4d22-d61f-9837425ca63d"
      },
      "execution_count": null,
      "outputs": [
        {
          "output_type": "execute_result",
          "data": {
            "text/plain": [
              "8"
            ]
          },
          "metadata": {},
          "execution_count": 31
        }
      ]
    },
    {
      "cell_type": "markdown",
      "source": [
        "- most_common()은 상위 빈도수를 가진 주어진 수의 단어만을 리턴\n",
        "- 등장 빈도수가 높은 단어들을 원하는 개수만큼만 얻을 수 있음\n",
        "- 등장 빈도수 상위 5개의 단어만 단어집합으로 저장할 수 있음"
      ],
      "metadata": {
        "id": "UuDqX98DWU5i"
      }
    },
    {
      "cell_type": "code",
      "source": [
        "vocab_size = 5\n",
        "vocab = vocab.most_common(vocab_size) # 등장 빈도가 높은 상위 5개의 단어만 저장\n",
        "vocab"
      ],
      "metadata": {
        "colab": {
          "base_uri": "https://localhost:8080/"
        },
        "id": "fNowJTm2Wzws",
        "outputId": "ea417dac-b334-43d9-8b05-cc07297d940c"
      },
      "execution_count": null,
      "outputs": [
        {
          "output_type": "execute_result",
          "data": {
            "text/plain": [
              "[('barber', 8), ('secret', 6), ('huge', 5), ('kept', 4), ('person', 3)]"
            ]
          },
          "metadata": {},
          "execution_count": 18
        }
      ]
    },
    {
      "cell_type": "markdown",
      "source": [
        "- 높은 빈도수를 가진 단어일수록 낮은 정수 인덱스 부여"
      ],
      "metadata": {
        "id": "Fwli8VLPdqkJ"
      }
    },
    {
      "cell_type": "code",
      "source": [
        "word_to_index = {}\n",
        "i = 0\n",
        "\n",
        "for (word, frequency) in vocab:\n",
        "  i = i + 1\n",
        "  word_to_index[word] = i\n",
        "\n",
        "print(word_to_index)"
      ],
      "metadata": {
        "colab": {
          "base_uri": "https://localhost:8080/"
        },
        "id": "AEaSfD3udwO9",
        "outputId": "2c76d1a0-4114-4aed-f005-7ccf539cfe60"
      },
      "execution_count": null,
      "outputs": [
        {
          "output_type": "stream",
          "name": "stdout",
          "text": [
            "{'barber': 1, 'secret': 2, 'huge': 3, 'kept': 4, 'person': 5}\n"
          ]
        }
      ]
    },
    {
      "cell_type": "markdown",
      "source": [
        "#### 3) nltk의 FreqDist사용하기"
      ],
      "metadata": {
        "id": "pAXFF1uneHcK"
      }
    },
    {
      "cell_type": "code",
      "source": [
        "from nltk import FreqDist\n",
        "import numpy as np"
      ],
      "metadata": {
        "id": "Bl0ERYOBewIA"
      },
      "execution_count": null,
      "outputs": []
    },
    {
      "cell_type": "code",
      "source": [
        "# np.hstack으로 문장 구분을 제거 + 빈도수 계산\n",
        "print(preprocessed_sentences)\n",
        "vocab = FreqDist(np.hstack(preprocessed_sentences))\n",
        "vocab"
      ],
      "metadata": {
        "colab": {
          "base_uri": "https://localhost:8080/"
        },
        "id": "Uosw9UURfD5y",
        "outputId": "d86c8a91-7675-499e-b488-0fc713871f02"
      },
      "execution_count": null,
      "outputs": [
        {
          "output_type": "stream",
          "name": "stdout",
          "text": [
            "[['barber', 'person'], ['barber', 'good', 'person'], ['barber', 'huge', 'person'], ['knew', 'secret'], ['secret', 'kept', 'huge', 'secret'], ['huge', 'secret'], ['barber', 'kept', 'word'], ['barber', 'kept', 'word'], ['barber', 'kept', 'secret'], ['keeping', 'keeping', 'huge', 'secret', 'driving', 'barber', 'crazy'], ['barber', 'went', 'huge', 'mountain']]\n"
          ]
        },
        {
          "output_type": "execute_result",
          "data": {
            "text/plain": [
              "FreqDist({'barber': 8,\n",
              "          'crazy': 1,\n",
              "          'driving': 1,\n",
              "          'good': 1,\n",
              "          'huge': 5,\n",
              "          'keeping': 2,\n",
              "          'kept': 4,\n",
              "          'knew': 1,\n",
              "          'mountain': 1,\n",
              "          'person': 3,\n",
              "          'secret': 6,\n",
              "          'went': 1,\n",
              "          'word': 2})"
            ]
          },
          "metadata": {},
          "execution_count": 21
        }
      ]
    },
    {
      "cell_type": "code",
      "source": [
        "# 단어를 key로, 단어에 대한 빈도수를 value로 저장, 단어를 입력하면 빈도수 리턴\n",
        "print(vocab['barber'])"
      ],
      "metadata": {
        "colab": {
          "base_uri": "https://localhost:8080/"
        },
        "id": "fsQTAwp6i7nE",
        "outputId": "b1b35740-f93f-41e6-a1b9-96f5c2ecfebc"
      },
      "execution_count": null,
      "outputs": [
        {
          "output_type": "stream",
          "name": "stdout",
          "text": [
            "8\n"
          ]
        }
      ]
    },
    {
      "cell_type": "code",
      "source": [
        "vocab_size = 5\n",
        "vocab = vocab.most_common(vocab_size) # 등장 빈도수가 높은 상위 5개의 단어만 저장\n",
        "print(vocab)"
      ],
      "metadata": {
        "colab": {
          "base_uri": "https://localhost:8080/"
        },
        "id": "y-0gx9C5jaUs",
        "outputId": "c0bcbb64-05dd-4b74-b767-294726691be8"
      },
      "execution_count": null,
      "outputs": [
        {
          "output_type": "stream",
          "name": "stdout",
          "text": [
            "[('barber', 8), ('secret', 6), ('huge', 5), ('kept', 4), ('person', 3)]\n"
          ]
        }
      ]
    },
    {
      "cell_type": "markdown",
      "source": [
        "- 인덱스 부여: 앞에서와 달리 enumerate()사용하여 좀 더 짧은 코드로 부여"
      ],
      "metadata": {
        "id": "cVSp0Bpzjq9S"
      }
    },
    {
      "cell_type": "code",
      "source": [
        "word_to_index = {word[0]: index + 1 for index, word in enumerate(vocab)}\n",
        "print(word_to_index)"
      ],
      "metadata": {
        "colab": {
          "base_uri": "https://localhost:8080/"
        },
        "id": "kDYvyO3Oj1yp",
        "outputId": "5d014d28-752c-46b1-bec3-6d15b13c5abc"
      },
      "execution_count": null,
      "outputs": [
        {
          "output_type": "stream",
          "name": "stdout",
          "text": [
            "{'barber': 1, 'secret': 2, 'huge': 3, 'kept': 4, 'person': 5}\n"
          ]
        }
      ]
    },
    {
      "cell_type": "markdown",
      "source": [
        "#### 4) enumerate 이해하기"
      ],
      "metadata": {
        "id": "XlEkiGQjKEWh"
      }
    },
    {
      "cell_type": "markdown",
      "source": [
        "- enumerate()는 순서가 있는 자료형(list, set, tuple, dictionary, string)을 입력으로 받아 인덱스를 순차적으로 함께 리턴"
      ],
      "metadata": {
        "id": "luo40SP3KMns"
      }
    },
    {
      "cell_type": "code",
      "source": [
        "test_input = ['a', 'b', 'c', 'd', 'e']\n",
        "for index, value in enumerate(test_input):\n",
        "  print(\"value:{}, index:{}\".format(value, index)) # 인덱스의 모든 토큰에 대해 인덱스가 순차적으로 증가되며 부여"
      ],
      "metadata": {
        "colab": {
          "base_uri": "https://localhost:8080/"
        },
        "id": "Su2hMCXwKYrb",
        "outputId": "af4f5e0c-5a81-453a-b234-e599ba5edb17"
      },
      "execution_count": null,
      "outputs": [
        {
          "output_type": "stream",
          "name": "stdout",
          "text": [
            "value:a, index:0\n",
            "value:b, index:1\n",
            "value:c, index:2\n",
            "value:d, index:3\n",
            "value:e, index:4\n"
          ]
        }
      ]
    },
    {
      "cell_type": "markdown",
      "source": [
        "## 2. 케라스(Keras)의 텍스트 전처리"
      ],
      "metadata": {
        "id": "zL7ZVq9iKryh"
      }
    },
    {
      "cell_type": "code",
      "source": [
        "from tensorflow.keras.preprocessing.text import Tokenizer"
      ],
      "metadata": {
        "id": "HsJL-ktoLGxc"
      },
      "execution_count": null,
      "outputs": []
    },
    {
      "cell_type": "code",
      "source": [
        "print(preprocessed_sentences) # 단어 토큰화까지 수행된 앞의 데이터 사용\n",
        "  # 참고: 1) character 2이하 삭제 2) stopword 삭제 3) 소문자 변환"
      ],
      "metadata": {
        "colab": {
          "base_uri": "https://localhost:8080/"
        },
        "id": "hgXmoIuqLNEt",
        "outputId": "f57470ac-a5b8-4954-f883-4abefc78f61a"
      },
      "execution_count": null,
      "outputs": [
        {
          "output_type": "stream",
          "name": "stdout",
          "text": [
            "[['barber', 'person'], ['barber', 'good', 'person'], ['barber', 'huge', 'person'], ['knew', 'secret'], ['secret', 'kept', 'huge', 'secret'], ['huge', 'secret'], ['barber', 'kept', 'word'], ['barber', 'kept', 'word'], ['barber', 'kept', 'secret'], ['keeping', 'keeping', 'huge', 'secret', 'driving', 'barber', 'crazy'], ['barber', 'went', 'huge', 'mountain']]\n"
          ]
        }
      ]
    },
    {
      "cell_type": "code",
      "source": [
        "tokenizer = Tokenizer()\n",
        "\n",
        "# fit_on_texts()안에 코퍼스를 입력으로 하면, 빈도수를 기준으로 단어 집합 생성\n",
        "tokenizer.fit_on_texts(preprocessed_sentences)"
      ],
      "metadata": {
        "id": "BhrlPHdmLO5A"
      },
      "execution_count": null,
      "outputs": []
    },
    {
      "cell_type": "markdown",
      "source": [
        "- fit_on_text()는 입력한 텍스트로부터 단어 빈도수가 높은 순으로 1, 2, 3 정수인덱스 부여\n",
        "- 정확히 앞에서 했던 정수 인코딩 작업이 이루어짐\n",
        "- 각 단어에 인덱스가 어떻게 부여되었는지 보려면, word_index 사용"
      ],
      "metadata": {
        "id": "VUIMxC4QOfME"
      }
    },
    {
      "cell_type": "code",
      "source": [
        "print(tokenizer.word_index) # 빈도 높은 순"
      ],
      "metadata": {
        "colab": {
          "base_uri": "https://localhost:8080/"
        },
        "id": "L9ZF8u73OuwZ",
        "outputId": "4113468d-5485-406d-eed6-dde75727d843"
      },
      "execution_count": null,
      "outputs": [
        {
          "output_type": "stream",
          "name": "stdout",
          "text": [
            "{'barber': 1, 'secret': 2, 'huge': 3, 'kept': 4, 'person': 5, 'word': 6, 'keeping': 7, 'good': 8, 'knew': 9, 'driving': 10, 'crazy': 11, 'went': 12, 'mountain': 13}\n"
          ]
        }
      ]
    },
    {
      "cell_type": "markdown",
      "source": [
        "- 각 단어의 카운트 수를 보려면, word_counts 사용"
      ],
      "metadata": {
        "id": "bismf5UOO3aY"
      }
    },
    {
      "cell_type": "code",
      "source": [
        "print(tokenizer.word_counts)"
      ],
      "metadata": {
        "colab": {
          "base_uri": "https://localhost:8080/"
        },
        "id": "-dg_OyggPH8N",
        "outputId": "121d27e5-872a-4409-b7f7-4961d4402ea4"
      },
      "execution_count": null,
      "outputs": [
        {
          "output_type": "stream",
          "name": "stdout",
          "text": [
            "OrderedDict([('barber', 8), ('person', 3), ('good', 1), ('huge', 5), ('knew', 1), ('secret', 6), ('kept', 4), ('word', 2), ('keeping', 2), ('driving', 1), ('crazy', 1), ('went', 1), ('mountain', 1)])\n"
          ]
        }
      ]
    },
    {
      "cell_type": "markdown",
      "source": [
        "- text_to_sequences()는 입력으로 들어온 코퍼스에 대해 각 단어를 이미 정해진 인덱스로 변환"
      ],
      "metadata": {
        "id": "ix7mjieXPRfJ"
      }
    },
    {
      "cell_type": "code",
      "source": [
        "print(tokenizer.texts_to_sequences(preprocessed_sentences))"
      ],
      "metadata": {
        "colab": {
          "base_uri": "https://localhost:8080/"
        },
        "id": "phZ9osaPPdux",
        "outputId": "1554f435-2689-4687-ba49-d7b7c33dfd3c"
      },
      "execution_count": null,
      "outputs": [
        {
          "output_type": "stream",
          "name": "stdout",
          "text": [
            "[[1, 5], [1, 8, 5], [1, 3, 5], [9, 2], [2, 4, 3, 2], [3, 2], [1, 4, 6], [1, 4, 6], [1, 4, 2], [7, 7, 3, 2, 10, 1, 11], [1, 12, 3, 13]]\n"
          ]
        }
      ]
    },
    {
      "cell_type": "markdown",
      "source": [
        "- cf. 앞서 빈도수 가장 높은 단어 n개: most_common()사용\n",
        "- tokenizer = Tokenizer(num_words = 숫자) 와 같은 방법으로 빈도수 가장 높은 단어 사용 지정\n",
        "- 여기서는 1번부터 5번까지 단어만 사용 (상위 5개만 사용)"
      ],
      "metadata": {
        "id": "V7Vx-850Pj6Y"
      }
    },
    {
      "cell_type": "code",
      "source": [
        "vocab_size = 5\n",
        "tokenizer = Tokenizer(num_words = vocab_size+1) # 상위 5개 단어만 사용\n",
        "  # num_words + 1하는 이유: num_words는 숫자를 0부터 카운트 하기 때문에, 만약 5를 넣으면 0~4 단어보존 의미\n",
        "    # 뒤의 실습에서 1번 단어부터 4번 단어만 남게 됨. 따라서 1~5까지 사용하고 싶다면 5+1 넣어야 함\n",
        "    # 실질적으로 숫자 0에 지정된 단어가 존재하지 않는데도, 케라스 토크나이저가 숫자 0까지 단어집합 크기로 산정하는 이유는?\n",
        "      # 자연어처리에서의 패딩 작업 때문임. \n",
        "tokenizer.fit_on_texts(preprocessed_sentences)"
      ],
      "metadata": {
        "id": "V1IvCqKwQuWI"
      },
      "execution_count": null,
      "outputs": []
    },
    {
      "cell_type": "markdown",
      "source": [
        "- 참고) word_index와 word_counts에서도 지정된 num_words만큼의 단어만 남기고 싶다면? (굳이 필요 없긴 함)"
      ],
      "metadata": {
        "id": "yQ3LXNQAQ-KU"
      }
    },
    {
      "cell_type": "code",
      "source": [
        "tokenizer = Tokenizer()\n",
        "tokenizer.fit_on_texts(preprocessed_sentences)"
      ],
      "metadata": {
        "id": "TsaUQIqxUYli"
      },
      "execution_count": null,
      "outputs": []
    },
    {
      "cell_type": "code",
      "source": [
        "vocab_size = 5\n",
        "words_frequency = [word for word, index in tokenizer.word_index.items() if index >= vocab_size+1]\n",
        "\n",
        "# 인덱스가 5 초과된 단어 제거\n",
        "for word in words_frequency:\n",
        "  del tokenizer.word_index[word]\n",
        "  del tokenizer.word_counts[word]\n",
        "\n",
        "print(tokenizer.word_index)\n",
        "print(tokenizer.word_counts)\n",
        "print(tokenizer.texts_to_sequences(preprocessed_sentences))"
      ],
      "metadata": {
        "colab": {
          "base_uri": "https://localhost:8080/"
        },
        "id": "JHIrFb2zUnXY",
        "outputId": "b79e1edd-14a5-48d0-a6f0-0ddca1c63b98"
      },
      "execution_count": null,
      "outputs": [
        {
          "output_type": "stream",
          "name": "stdout",
          "text": [
            "{'barber': 1, 'secret': 2, 'huge': 3, 'kept': 4, 'person': 5}\n",
            "OrderedDict([('barber', 8), ('person', 3), ('huge', 5), ('secret', 6), ('kept', 4)])\n",
            "[[1, 5], [1, 5], [1, 3, 5], [2], [2, 4, 3, 2], [3, 2], [1, 4], [1, 4], [1, 4, 2], [3, 2, 1], [1, 3]]\n"
          ]
        }
      ]
    },
    {
      "cell_type": "markdown",
      "source": [
        "- 케라스 토크나이저는 OOV(Out-of-Vocab:단어집합에 없는 단어) 에 대해서는 단어를 정수로 바꾸는 과정에서 아예 단어 제거\n",
        "- 단어 집합에 없는 단어들은 OOV로 간주하여 보존하고 싶다면, Tokenizer의 인자 oov_token을 사용"
      ],
      "metadata": {
        "id": "y7Tb5kAFVAlI"
      }
    },
    {
      "cell_type": "code",
      "source": [
        "# 숫자 0과 OOV를 고려해서, 단어 집합의 크기는 +2\n",
        "vocab_size = 5\n",
        "tokenizer = Tokenizer(num_words = vocab_size +2, oov_token = 'OOV')\n",
        "tokenizer.fit_on_texts(preprocessed_sentences)"
      ],
      "metadata": {
        "id": "MLPzbJAiVhSt"
      },
      "execution_count": null,
      "outputs": []
    },
    {
      "cell_type": "markdown",
      "source": [
        "- 만약 oov_token을 사용하기로 했다면, 케라스 토크나이저는 기본적으로 'OOV'의 인덱스를 1로 함"
      ],
      "metadata": {
        "id": "KA63r7j7YKM7"
      }
    },
    {
      "cell_type": "code",
      "source": [
        "print('단어 OOV의 인덱스 :{}'.format(tokenizer.word_index['OOV']))"
      ],
      "metadata": {
        "colab": {
          "base_uri": "https://localhost:8080/"
        },
        "id": "D3z88P7sYSaP",
        "outputId": "a0c6af78-ea24-43de-f13f-e3642795087e"
      },
      "execution_count": null,
      "outputs": [
        {
          "output_type": "stream",
          "name": "stdout",
          "text": [
            "단어 OOV의 인덱스 :1\n"
          ]
        }
      ]
    },
    {
      "cell_type": "markdown",
      "source": [
        "- 이제 코퍼스에 대해서 정수 인코딩을 진행"
      ],
      "metadata": {
        "id": "1sbwJM6pYbna"
      }
    },
    {
      "cell_type": "code",
      "source": [
        "print(tokenizer.texts_to_sequences(preprocessed_sentences))\n",
        "  # good은 빈도수가 상위 9이므로, 앞에서 vocab_size에 의해 걸러졌기 때문에 OOV:1로 인코딩됨\n",
        "  # 빈도수 상위 5개의 단어는 2~6까지의 인덱스를 가졌고, 그 외 단어들은 모두 OOV:1로 치환"
      ],
      "metadata": {
        "colab": {
          "base_uri": "https://localhost:8080/"
        },
        "id": "TpgA52-ZYm48",
        "outputId": "a375db09-36ef-42e5-a3ae-01d4d42f7ae7"
      },
      "execution_count": null,
      "outputs": [
        {
          "output_type": "stream",
          "name": "stdout",
          "text": [
            "[[2, 6], [2, 1, 6], [2, 4, 6], [1, 3], [3, 5, 4, 3], [4, 3], [2, 5, 1], [2, 5, 1], [2, 5, 3], [1, 1, 4, 3, 1, 2, 1], [2, 1, 4, 1]]\n"
          ]
        }
      ]
    },
    {
      "cell_type": "markdown",
      "source": [
        "- **good이 OOV가 된 과정 (하단)"
      ],
      "metadata": {
        "id": "lOR9skGAZPnr"
      }
    },
    {
      "cell_type": "code",
      "source": [
        "preprocessed_sentences"
      ],
      "metadata": {
        "colab": {
          "base_uri": "https://localhost:8080/"
        },
        "id": "KKJyOyqGYuzF",
        "outputId": "3731ac4b-8b31-4685-855d-3a1f603cd72a"
      },
      "execution_count": null,
      "outputs": [
        {
          "output_type": "execute_result",
          "data": {
            "text/plain": [
              "[['barber', 'person'],\n",
              " ['barber', 'good', 'person'],\n",
              " ['barber', 'huge', 'person'],\n",
              " ['knew', 'secret'],\n",
              " ['secret', 'kept', 'huge', 'secret'],\n",
              " ['huge', 'secret'],\n",
              " ['barber', 'kept', 'word'],\n",
              " ['barber', 'kept', 'word'],\n",
              " ['barber', 'kept', 'secret'],\n",
              " ['keeping', 'keeping', 'huge', 'secret', 'driving', 'barber', 'crazy'],\n",
              " ['barber', 'went', 'huge', 'mountain']]"
            ]
          },
          "metadata": {},
          "execution_count": 42
        }
      ]
    },
    {
      "cell_type": "code",
      "source": [
        "tokenizer.word_index"
      ],
      "metadata": {
        "colab": {
          "base_uri": "https://localhost:8080/"
        },
        "id": "vMN5oNsZYyMW",
        "outputId": "2220c631-e77b-4f22-b134-6e4eb260281d"
      },
      "execution_count": null,
      "outputs": [
        {
          "output_type": "execute_result",
          "data": {
            "text/plain": [
              "{'OOV': 1,\n",
              " 'barber': 2,\n",
              " 'crazy': 12,\n",
              " 'driving': 11,\n",
              " 'good': 9,\n",
              " 'huge': 4,\n",
              " 'keeping': 8,\n",
              " 'kept': 5,\n",
              " 'knew': 10,\n",
              " 'mountain': 14,\n",
              " 'person': 6,\n",
              " 'secret': 3,\n",
              " 'went': 13,\n",
              " 'word': 7}"
            ]
          },
          "metadata": {},
          "execution_count": 44
        }
      ]
    },
    {
      "cell_type": "code",
      "source": [
        ""
      ],
      "metadata": {
        "id": "KH-74oJVZptO"
      },
      "execution_count": null,
      "outputs": []
    }
  ]
}