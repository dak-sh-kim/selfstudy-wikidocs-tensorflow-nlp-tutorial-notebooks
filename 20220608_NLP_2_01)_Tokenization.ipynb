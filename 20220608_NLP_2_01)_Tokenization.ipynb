{
  "nbformat": 4,
  "nbformat_minor": 0,
  "metadata": {
    "colab": {
      "name": "20220608_NLP_2-01) Tokenization.ipynb",
      "provenance": [],
      "collapsed_sections": [],
      "authorship_tag": "ABX9TyNOl+gPY5i1y3eGTS8snUNg",
      "include_colab_link": true
    },
    "kernelspec": {
      "name": "python3",
      "display_name": "Python 3"
    },
    "language_info": {
      "name": "python"
    }
  },
  "cells": [
    {
      "cell_type": "markdown",
      "metadata": {
        "id": "view-in-github",
        "colab_type": "text"
      },
      "source": [
        "<a href=\"https://colab.research.google.com/github/dak-sh-kim/selfstudy-wikidocs-tensorflow-nlp-tutorial-notebooks/blob/main/20220608_NLP_2_01)_Tokenization.ipynb\" target=\"_parent\"><img src=\"https://colab.research.google.com/assets/colab-badge.svg\" alt=\"Open In Colab\"/></a>"
      ]
    },
    {
      "cell_type": "markdown",
      "source": [
        "# 01) Tokenization"
      ],
      "metadata": {
        "id": "_Tph3PM4Emrk"
      }
    },
    {
      "cell_type": "markdown",
      "source": [
        "## 1. 단어토큰화 (Work Tokenization)"
      ],
      "metadata": {
        "id": "jkvnG3HqSHgI"
      }
    },
    {
      "cell_type": "code",
      "execution_count": null,
      "metadata": {
        "id": "37ZmyEtjDVXK"
      },
      "outputs": [],
      "source": [
        "# Tokenization\n",
        "  # 주어진 corpus에서 token단위로 나누는 작업을 tokeniation이라 함. \n",
        "  # 단위 기준: 상황에 따라 다르나, 보통 의미있는 단위로 함\n",
        "\n",
        "# 1. Word Tokenization\n",
        "  # 단어단위, 단어구, 의미를 갖는 문자열 등\n",
        "  # ex. 구두점을 제외시키는 토큰화\n",
        "  # ex. Don't --> Don't  /  Don t  /  Dont  /  Do n't\n",
        "  # 누군가가 만들어놓은 단위기준 사용하면 됨 (nltk등)\n",
        "\n",
        "# NLTK: 영어 corpus 토큰화 도구 제공, 이중에서도 word_tokenize와 WordPunctTokenizer사용"
      ]
    },
    {
      "cell_type": "code",
      "source": [
        "# 세 개의 예시 도구\n",
        "from nltk.tokenize import word_tokenize\n",
        "from nltk.tokenize import WordPunctTokenizer\n",
        "from tensorflow.keras.preprocessing.text import text_to_word_sequence"
      ],
      "metadata": {
        "id": "bYpmH7SEEkEG"
      },
      "execution_count": null,
      "outputs": []
    },
    {
      "cell_type": "code",
      "source": [
        "import nltk"
      ],
      "metadata": {
        "id": "4fcfLcZqFVC_"
      },
      "execution_count": null,
      "outputs": []
    },
    {
      "cell_type": "code",
      "source": [
        "nltk.download('punkt')"
      ],
      "metadata": {
        "colab": {
          "base_uri": "https://localhost:8080/"
        },
        "id": "R_ia0OzxFYts",
        "outputId": "b02f4afb-3ac0-4863-cc1c-95ec207bd7e2"
      },
      "execution_count": null,
      "outputs": [
        {
          "output_type": "stream",
          "name": "stdout",
          "text": [
            "[nltk_data] Downloading package punkt to /root/nltk_data...\n",
            "[nltk_data]   Unzipping tokenizers/punkt.zip.\n"
          ]
        },
        {
          "output_type": "execute_result",
          "data": {
            "text/plain": [
              "True"
            ]
          },
          "metadata": {},
          "execution_count": 4
        }
      ]
    },
    {
      "cell_type": "markdown",
      "source": [
        "## 2. 토큰화 중 생기는 선택의 순간"
      ],
      "metadata": {
        "id": "xfApn82zSCWE"
      }
    },
    {
      "cell_type": "markdown",
      "source": [
        "### 단어 토큰화 예제"
      ],
      "metadata": {
        "id": "XMl-eOqcUCpW"
      }
    },
    {
      "cell_type": "code",
      "source": [
        "print('단어 토큰화1 :',word_tokenize(\"Don't be fooled by the dark sounding name, Mr. Jone's Orphanage is as cheery as cheery goes for a pastry shop.\"))\n",
        "print(\"word_tokenize: Don't --> Do n't, Jone's --> Jone 's \")"
      ],
      "metadata": {
        "colab": {
          "base_uri": "https://localhost:8080/"
        },
        "id": "wDwNm8NPEu6t",
        "outputId": "70c41dea-f927-4c7c-efca-a33be704900c"
      },
      "execution_count": null,
      "outputs": [
        {
          "output_type": "stream",
          "name": "stdout",
          "text": [
            "단어 토큰화1 : ['Do', \"n't\", 'be', 'fooled', 'by', 'the', 'dark', 'sounding', 'name', ',', 'Mr.', 'Jone', \"'s\", 'Orphanage', 'is', 'as', 'cheery', 'as', 'cheery', 'goes', 'for', 'a', 'pastry', 'shop', '.']\n",
            "word_tokenize: Don't --> Do n't, Jone's --> Jone 's \n"
          ]
        }
      ]
    },
    {
      "cell_type": "code",
      "source": [
        "print('단어 토큰화2 :',WordPunctTokenizer().tokenize(\"Don't be fooled by the dark sounding name, Mr. Jone's Orphanage is as cheery as cheery goes for a pastry shop.\"))\n",
        "print(\"WordPunctTokenizer: Don't --> Don't, Jone's --> Jone 's \")"
      ],
      "metadata": {
        "colab": {
          "base_uri": "https://localhost:8080/"
        },
        "id": "ejHo9wGfFFW6",
        "outputId": "c718abde-79a0-4051-d133-4848d097a44b"
      },
      "execution_count": null,
      "outputs": [
        {
          "output_type": "stream",
          "name": "stdout",
          "text": [
            "단어 토큰화2 : ['Don', \"'\", 't', 'be', 'fooled', 'by', 'the', 'dark', 'sounding', 'name', ',', 'Mr', '.', 'Jone', \"'\", 's', 'Orphanage', 'is', 'as', 'cheery', 'as', 'cheery', 'goes', 'for', 'a', 'pastry', 'shop', '.']\n",
            "WordPunctTokenizer: Don't --> Don't, Jone's --> Jone 's \n"
          ]
        }
      ]
    },
    {
      "cell_type": "code",
      "source": [
        "print('단어 토큰화3 :',text_to_word_sequence(\"Don't be fooled by the dark sounding name, Mr. Jone's Orphanage is as cheery as cheery goes for a pastry shop.\"))\n",
        "print(\"text_to_word_sequence: Don't --> don't, 컴마나 구두점 제거\")"
      ],
      "metadata": {
        "colab": {
          "base_uri": "https://localhost:8080/"
        },
        "id": "BADLkE8gGMVE",
        "outputId": "19a908fd-106e-4b7b-dcb2-8b93359990b8"
      },
      "execution_count": null,
      "outputs": [
        {
          "output_type": "stream",
          "name": "stdout",
          "text": [
            "단어 토큰화3 : [\"don't\", 'be', 'fooled', 'by', 'the', 'dark', 'sounding', 'name', 'mr', \"jone's\", 'orphanage', 'is', 'as', 'cheery', 'as', 'cheery', 'goes', 'for', 'a', 'pastry', 'shop']\n",
            "text_to_word_sequence: Don't --> don't, 컴마나 구두점 제거\n"
          ]
        }
      ]
    },
    {
      "cell_type": "markdown",
      "source": [
        "## 3. 토큰화에서 고려해야할 사항"
      ],
      "metadata": {
        "id": "8-vbGj40Rx4a"
      }
    },
    {
      "cell_type": "markdown",
      "source": [
        "\n",
        "\n",
        "구두점이나 특수문자 주의! \n",
        "+ 다 역할이 있기 때문. \n",
        "+ ex. 마침표(.): 문장의 끝을 나타내 줌. \n",
        "+ Ph.D: 단어 자체의 구두점, \n",
        "+ $45:55: 가격을 의미\n",
        "+ 123,456: 숫자 사이의 comma\n",
        "+ 따라서 구두점을 기준으로 앞뒤를 나누지는 않음\n",
        "\n",
        "줄임말 및 단어 내 띄어쓰기\n",
        "+ ex. what're, we're, re: 접어(critic)이라고 함. \n",
        "+ ex. rock'n'roll 은 단어 사이에 띄어쓰기가 있더라도 하나의 token.\n",
        "\n"
      ],
      "metadata": {
        "id": "nvxoopiYNE2u"
      }
    },
    {
      "cell_type": "markdown",
      "source": [
        "### 표준 토큰화 예제"
      ],
      "metadata": {
        "id": "2Cn56JeFGanz"
      }
    },
    {
      "cell_type": "code",
      "source": [
        "# Penn Treebank Tokenization 규칙\n",
        "  # 규칙 1. - hypen으로 구성된 단어는 하나로 유지한다.\n",
        "  # 규칙 2. doesn't 과 같이, 아포스트로피로 접어가 따라오는 단어는 분리한다."
      ],
      "metadata": {
        "id": "F6dN3I0GQvbU"
      },
      "execution_count": null,
      "outputs": []
    },
    {
      "cell_type": "code",
      "source": [
        "from nltk.tokenize import TreebankWordTokenizer\n",
        "\n",
        "tokenizer = TreebankWordTokenizer()\n",
        "\n",
        "text = \"Starting a home-based restaurant may be an ideal. It doesn't have a food chain or restaurant of their own.\"\n",
        "print(\"트리뱅크 워드토크나이저:\", tokenizer.tokenize(text))"
      ],
      "metadata": {
        "colab": {
          "base_uri": "https://localhost:8080/"
        },
        "id": "6q4J4sfRRGUu",
        "outputId": "3989a0b2-ecf5-4e8c-c239-7b98e1db7947"
      },
      "execution_count": null,
      "outputs": [
        {
          "output_type": "stream",
          "name": "stdout",
          "text": [
            "트리뱅크 워드토크나이저: ['Starting', 'a', 'home-based', 'restaurant', 'may', 'be', 'an', 'ideal.', 'It', 'does', \"n't\", 'have', 'a', 'food', 'chain', 'or', 'restaurant', 'of', 'their', 'own', '.']\n"
          ]
        }
      ]
    },
    {
      "cell_type": "markdown",
      "source": [
        "## 4. 문장토큰화 (Sentence Tokenization)"
      ],
      "metadata": {
        "id": "zbReuMwfSQCe"
      }
    },
    {
      "cell_type": "markdown",
      "source": [
        "+ 갖고 있는 코퍼스 내에서 문장단위 분류 = sentence segmentation\n",
        "+ 코퍼스가 정제되어있지 않다면 사용 용도에 맞게 문장토큰화 필요할 수 있음\n",
        "+ 단순히 마침표로 할 수 없음. 어떤 언어인지, 해당 국가에서 특수문자가 어떻게 사용되는지에 따라 직접 규칙 정의 가능"
      ],
      "metadata": {
        "id": "Ezkdv9kiSpk3"
      }
    },
    {
      "cell_type": "markdown",
      "source": [
        "### 문장 토큰화 예제 (nltk - sent_tokenize)"
      ],
      "metadata": {
        "id": "l5a6VLBcUJh0"
      }
    },
    {
      "cell_type": "code",
      "source": [
        "from nltk.tokenize import sent_tokenize"
      ],
      "metadata": {
        "id": "nK4ZVwaoUflO"
      },
      "execution_count": null,
      "outputs": []
    },
    {
      "cell_type": "code",
      "source": [
        "text = \"His barber kept his word. But keeping such a huge secret to himself was driving him crazy. Finally, the barber went up a mountain and almost to the edge of a cliff. He dug a hole in the midst of some reeds. He looked about, to make sure no one was near.\"\n",
        "print('문장 토큰화1 :',sent_tokenize(text))"
      ],
      "metadata": {
        "colab": {
          "base_uri": "https://localhost:8080/"
        },
        "id": "0z7Vu6YsUjM0",
        "outputId": "67f038e1-841b-4458-fadd-e2a2a09f1dbf"
      },
      "execution_count": null,
      "outputs": [
        {
          "output_type": "stream",
          "name": "stdout",
          "text": [
            "문장 토큰화1 : ['His barber kept his word.', 'But keeping such a huge secret to himself was driving him crazy.', 'Finally, the barber went up a mountain and almost to the edge of a cliff.', 'He dug a hole in the midst of some reeds.', 'He looked about, to make sure no one was near.']\n"
          ]
        }
      ]
    },
    {
      "cell_type": "code",
      "source": [
        "text = \"I am actively looking for Ph.D. students. and you are a Ph.D student.\"\n",
        "print('문장 토큰화2 :',sent_tokenize(text))"
      ],
      "metadata": {
        "colab": {
          "base_uri": "https://localhost:8080/"
        },
        "id": "369hhtbIUo5F",
        "outputId": "8912ec7d-bade-402e-f365-363a96fccb3c"
      },
      "execution_count": null,
      "outputs": [
        {
          "output_type": "stream",
          "name": "stdout",
          "text": [
            "문장 토큰화2 : ['I am actively looking for Ph.D. students.', 'and you are a Ph.D student.']\n"
          ]
        }
      ]
    },
    {
      "cell_type": "markdown",
      "source": [
        "### 한국어 문장 토큰화 예제 - KSS (Korean Sentence Splitter)"
      ],
      "metadata": {
        "id": "-eIzmlJAUt3L"
      }
    },
    {
      "cell_type": "code",
      "source": [
        "pip install kss "
      ],
      "metadata": {
        "colab": {
          "base_uri": "https://localhost:8080/"
        },
        "id": "aACWjK2iU35O",
        "outputId": "93da0e3d-de18-4562-c3cb-43106fbc344e"
      },
      "execution_count": null,
      "outputs": [
        {
          "output_type": "stream",
          "name": "stdout",
          "text": [
            "Looking in indexes: https://pypi.org/simple, https://us-python.pkg.dev/colab-wheels/public/simple/\n",
            "Collecting kss\n",
            "  Downloading kss-3.4.2.tar.gz (42.4 MB)\n",
            "\u001b[K     |████████████████████████████████| 42.4 MB 1.2 MB/s \n",
            "\u001b[?25hCollecting emoji\n",
            "  Downloading emoji-1.7.0.tar.gz (175 kB)\n",
            "\u001b[K     |████████████████████████████████| 175 kB 64.9 MB/s \n",
            "\u001b[?25hRequirement already satisfied: regex in /usr/local/lib/python3.7/dist-packages (from kss) (2019.12.20)\n",
            "Requirement already satisfied: more_itertools in /usr/local/lib/python3.7/dist-packages (from kss) (8.13.0)\n",
            "Building wheels for collected packages: kss, emoji\n",
            "  Building wheel for kss (setup.py) ... \u001b[?25l\u001b[?25hdone\n",
            "  Created wheel for kss: filename=kss-3.4.2-py3-none-any.whl size=42448069 sha256=431e04fa3d0c1a106081cea15c9772168eaeaebca35e4fc79b6d1c6a2be0d869\n",
            "  Stored in directory: /root/.cache/pip/wheels/ef/22/aa/6399b60516a067ec97fa6599fb2d472aeb25e3f9ee6dae3224\n",
            "  Building wheel for emoji (setup.py) ... \u001b[?25l\u001b[?25hdone\n",
            "  Created wheel for emoji: filename=emoji-1.7.0-py3-none-any.whl size=171046 sha256=1448e92fec8c40e9351e69f013c55404f7896846c078511e618b19b993f5ca64\n",
            "  Stored in directory: /root/.cache/pip/wheels/8a/4e/b6/57b01db010d17ef6ea9b40300af725ef3e210cb1acfb7ac8b6\n",
            "Successfully built kss emoji\n",
            "Installing collected packages: emoji, kss\n",
            "Successfully installed emoji-1.7.0 kss-3.4.2\n"
          ]
        }
      ]
    },
    {
      "cell_type": "code",
      "source": [
        "import kss"
      ],
      "metadata": {
        "id": "GsoTcb7-U_BD"
      },
      "execution_count": null,
      "outputs": []
    },
    {
      "cell_type": "code",
      "source": [
        "text = '자연어 처리를 배우고 있는데 정말 어려운데요. 과연 한국어를 잘 분리해낼 수 있을까요? 에휴 공부를 열심히 해야겠어요.'"
      ],
      "metadata": {
        "id": "I6nJzHRsVHYQ"
      },
      "execution_count": null,
      "outputs": []
    },
    {
      "cell_type": "code",
      "source": [
        "print('한국어 문장 토큰화 :',kss.split_sentences(text))"
      ],
      "metadata": {
        "colab": {
          "base_uri": "https://localhost:8080/"
        },
        "id": "tE2mtnKyVOmf",
        "outputId": "4e90fe72-d5a5-44d4-8d53-dedb231ae080"
      },
      "execution_count": null,
      "outputs": [
        {
          "output_type": "stream",
          "name": "stderr",
          "text": [
            "[Korean Sentence Splitter]: Initializing Pynori...\n"
          ]
        },
        {
          "output_type": "stream",
          "name": "stdout",
          "text": [
            "한국어 문장 토큰화 : ['자연어 처리를 배우고 있는데 정말 어려운데요. 과연 한국어를 잘 분리해낼 수 있을까요?', '에휴 공부를 열심히 해야겠어요.']\n"
          ]
        }
      ]
    },
    {
      "cell_type": "markdown",
      "source": [
        "## 5. 한국어에서의 토큰화의 어려움"
      ],
      "metadata": {
        "id": "FbJWxVrUVP_Z"
      }
    },
    {
      "cell_type": "markdown",
      "source": [
        "+ 영어: New York과 같은 합성어나, he's와 같은 줄임말 예외처리를 제외하면 띄어쓰기(whitespace)기준의 띄어쓰기 토큰화에서도 단어 토큰화가 잘 작동한다. 대부분 단어단위 띄어쓰기가 이루어져서 띄어쓰기 토큰화 = 단어 토큰화 이다.\n",
        "\n",
        "+ 한국어: 띄어쓰기 단위를 '어절' 이라고 하는데, 어절 토큰화 != 단어 토큰화이다. 그 이유는 교착어 (조사나 어미 붙여 말 만드는 언어)"
      ],
      "metadata": {
        "id": "9x4F8w6DVX6z"
      }
    },
    {
      "cell_type": "markdown",
      "source": [
        "##### 1) 교착어의 특성"
      ],
      "metadata": {
        "id": "3Z4MlZtFVw9O"
      }
    },
    {
      "cell_type": "markdown",
      "source": [
        "+ 한국어는 어절토큰화X, 형태소 토큰화 수행. 교착어이기 때문에 형태소단위 분리 선행\n",
        "+ 형태소(morpheme)개념 이해하기: 뜻을 가진 가장 작은 말의 단위\n",
        "+ 자립형태소(그 자체로 단어), 체언(명사/대명사/수사), 수식언(관형사/부사), 감탄사\n",
        "+ 의존형태소(다른 형태소와 결합), 접사, 어미, 조사, 어간"
      ],
      "metadata": {
        "id": "zTcsdN6eV8rG"
      }
    },
    {
      "cell_type": "markdown",
      "source": [
        "+ [에디가 책을 읽었다] --> \"에디가\" \"책을\" \"읽었다\" (띄어쓰기단위)\n",
        "+ [에디가 책을 읽었다] --> \"에디\" \"가\" \"책\" \"을\" \"읽\" \"었\" \"다\" (형태소단위)"
      ],
      "metadata": {
        "id": "4uazXLDMdG20"
      }
    },
    {
      "cell_type": "markdown",
      "source": [
        "##### 2) 띄어쓰기가 영어보다 지켜지지 않는다"
      ],
      "metadata": {
        "id": "sAF84rCqjFY1"
      }
    },
    {
      "cell_type": "markdown",
      "source": [
        "+ 한국어는 띄어쓰기를 하지 않아도 잘 이해할 수 있음\n",
        "+ 뉴스기사 등 제외하면 띄어쓰기 제대로 안된 corpus가 많음"
      ],
      "metadata": {
        "id": "kA_-93PVjgjE"
      }
    },
    {
      "cell_type": "markdown",
      "source": [
        "## 6. 품사 태깅 (Part-of-speech tagging)"
      ],
      "metadata": {
        "id": "whvLXyEDkSQY"
      }
    },
    {
      "cell_type": "markdown",
      "source": [
        "+ 표기가 같아도 품사에 따라 단어 의미 달라짐 \n",
        "+ ex. fly - v.날다 n.파리\n",
        "+ ex. 못: n. 망치랑 세트인거 ad. 할수 없다는 의미"
      ],
      "metadata": {
        "id": "qPRxwh8vkYbf"
      }
    },
    {
      "cell_type": "markdown",
      "source": [
        "## 7. 영어, 한국어 토큰화 실습 (NLTK와 KoNLPy를 이용)"
      ],
      "metadata": {
        "id": "hE6v3tZFlYhJ"
      }
    },
    {
      "cell_type": "code",
      "source": [
        "from nltk.tokenize import word_tokenize\n",
        "from nltk.tag import pos_tag"
      ],
      "metadata": {
        "id": "rzDQw5xeljVV"
      },
      "execution_count": null,
      "outputs": []
    },
    {
      "cell_type": "code",
      "source": [
        "import nltk\n",
        "nltk.download('averaged_perceptron_tagger')"
      ],
      "metadata": {
        "colab": {
          "base_uri": "https://localhost:8080/"
        },
        "id": "pRlUU9IPmQwL",
        "outputId": "7a4ee876-58fc-4a1e-ae61-ba6ea6c6355f"
      },
      "execution_count": null,
      "outputs": [
        {
          "output_type": "stream",
          "name": "stdout",
          "text": [
            "[nltk_data] Downloading package averaged_perceptron_tagger to\n",
            "[nltk_data]     /root/nltk_data...\n",
            "[nltk_data]   Unzipping taggers/averaged_perceptron_tagger.zip.\n"
          ]
        },
        {
          "output_type": "execute_result",
          "data": {
            "text/plain": [
              "True"
            ]
          },
          "metadata": {},
          "execution_count": 21
        }
      ]
    },
    {
      "cell_type": "code",
      "source": [
        "text = \"I am actively looking for Ph.D. students. and you are a Ph.D. student.\""
      ],
      "metadata": {
        "id": "5Ttj6cOllwJv"
      },
      "execution_count": null,
      "outputs": []
    },
    {
      "cell_type": "code",
      "source": [
        "tokenized_sentence = word_tokenize(text)"
      ],
      "metadata": {
        "id": "TNuMoo_yl4Fu"
      },
      "execution_count": null,
      "outputs": []
    },
    {
      "cell_type": "code",
      "source": [
        "print(\"단어 토큰화: \",tokenized_sentence)\n",
        "print(\"품사 태깅: \", pos_tag(tokenized_sentence))"
      ],
      "metadata": {
        "colab": {
          "base_uri": "https://localhost:8080/"
        },
        "id": "phjEmLddl7PU",
        "outputId": "faf09541-415c-41d8-ae51-ec5012179067"
      },
      "execution_count": null,
      "outputs": [
        {
          "output_type": "stream",
          "name": "stdout",
          "text": [
            "단어 토큰화:  ['I', 'am', 'actively', 'looking', 'for', 'Ph.D.', 'students', '.', 'and', 'you', 'are', 'a', 'Ph.D.', 'student', '.']\n",
            "품사 태깅:  [('I', 'PRP'), ('am', 'VBP'), ('actively', 'RB'), ('looking', 'VBG'), ('for', 'IN'), ('Ph.D.', 'NNP'), ('students', 'NNS'), ('.', '.'), ('and', 'CC'), ('you', 'PRP'), ('are', 'VBP'), ('a', 'DT'), ('Ph.D.', 'NNP'), ('student', 'NN'), ('.', '.')]\n"
          ]
        }
      ]
    },
    {
      "cell_type": "markdown",
      "source": [
        "한국어에서의 형태소 토큰화\n",
        "+ KoNLPy 패키지 - OKt(Open Korea Text) 메소드\n",
        "+ KoNLPy 패키지 - 메캅(Mecab) 메소드; 속도 빠름\n",
        "+ KoNLPy 패키지 - 코모란(Komoran) 메소드\n",
        "+ KoNLPy 패키지 - 한나눔(Hannanum) 메소드\n",
        "+ KoNLPy 패키지 - 꼬꼬마(Kkma) 메소드; 세세한 형태소분리"
      ],
      "metadata": {
        "id": "uZUD23OjmNgI"
      }
    },
    {
      "cell_type": "markdown",
      "source": [
        "#### 한국어 형태소 토큰화 예제(Okt, KKma)"
      ],
      "metadata": {
        "id": "TM7Z9hwgnVDu"
      }
    },
    {
      "cell_type": "code",
      "source": [
        "pip install konlpy"
      ],
      "metadata": {
        "colab": {
          "base_uri": "https://localhost:8080/"
        },
        "id": "L5TIk0G9niT4",
        "outputId": "60711c26-dd04-4c21-8f80-300d51cbcfa5"
      },
      "execution_count": null,
      "outputs": [
        {
          "output_type": "stream",
          "name": "stdout",
          "text": [
            "Looking in indexes: https://pypi.org/simple, https://us-python.pkg.dev/colab-wheels/public/simple/\n",
            "Collecting konlpy\n",
            "  Downloading konlpy-0.6.0-py2.py3-none-any.whl (19.4 MB)\n",
            "\u001b[K     |████████████████████████████████| 19.4 MB 1.2 MB/s \n",
            "\u001b[?25hCollecting JPype1>=0.7.0\n",
            "  Downloading JPype1-1.4.0-cp37-cp37m-manylinux_2_5_x86_64.manylinux1_x86_64.whl (453 kB)\n",
            "\u001b[K     |████████████████████████████████| 453 kB 54.0 MB/s \n",
            "\u001b[?25hRequirement already satisfied: lxml>=4.1.0 in /usr/local/lib/python3.7/dist-packages (from konlpy) (4.2.6)\n",
            "Requirement already satisfied: numpy>=1.6 in /usr/local/lib/python3.7/dist-packages (from konlpy) (1.21.6)\n",
            "Requirement already satisfied: typing-extensions in /usr/local/lib/python3.7/dist-packages (from JPype1>=0.7.0->konlpy) (4.2.0)\n",
            "Installing collected packages: JPype1, konlpy\n",
            "Successfully installed JPype1-1.4.0 konlpy-0.6.0\n"
          ]
        }
      ]
    },
    {
      "cell_type": "code",
      "source": [
        "import konlpy"
      ],
      "metadata": {
        "id": "MJKwxCgMn7fC"
      },
      "execution_count": null,
      "outputs": []
    },
    {
      "cell_type": "code",
      "source": [
        "konlpy.__version__"
      ],
      "metadata": {
        "colab": {
          "base_uri": "https://localhost:8080/",
          "height": 35
        },
        "id": "FmcpBhOjomJC",
        "outputId": "a72da27e-3f4a-4d68-8cff-dd46ae380748"
      },
      "execution_count": null,
      "outputs": [
        {
          "output_type": "execute_result",
          "data": {
            "text/plain": [
              "'0.6.0'"
            ],
            "application/vnd.google.colaboratory.intrinsic+json": {
              "type": "string"
            }
          },
          "metadata": {},
          "execution_count": 29
        }
      ]
    },
    {
      "cell_type": "code",
      "source": [
        "from konlpy.tag import Okt\n",
        "from konlpy.tag import Kkma"
      ],
      "metadata": {
        "id": "G86kbTzdouCx"
      },
      "execution_count": null,
      "outputs": []
    },
    {
      "cell_type": "code",
      "source": [
        "okt = Okt()\n",
        "kkma = Kkma()"
      ],
      "metadata": {
        "id": "P9H9bHDEpMN2"
      },
      "execution_count": null,
      "outputs": []
    },
    {
      "cell_type": "code",
      "source": [
        "print('Okt 형태소분석', okt.morphs(\"열심히 코딩한 당신, 연휴에는 여행을 가봐요.\"))\n",
        "print(\"Okt 품사(Part-of-speech) 태깅\", okt.pos(\"열심히 코딩한 당신, 연휴에는 여행을 가봐요.\"))\n",
        "print(\"Okt 명사 추출: \", okt.nouns(\"열심히 코딩한 당신, 연휴에는 여행을 가봐요.\"))"
      ],
      "metadata": {
        "colab": {
          "base_uri": "https://localhost:8080/"
        },
        "id": "_05qv0X7ppGb",
        "outputId": "c36a2285-7900-48a1-ded6-942add4ef226"
      },
      "execution_count": null,
      "outputs": [
        {
          "output_type": "stream",
          "name": "stdout",
          "text": [
            "Okt 형태소분석 ['열심히', '코딩', '한', '당신', ',', '연휴', '에는', '여행', '을', '가봐요', '.']\n",
            "Okt 품사(Part-of-speech) 태깅 [('열심히', 'Adverb'), ('코딩', 'Noun'), ('한', 'Josa'), ('당신', 'Noun'), (',', 'Punctuation'), ('연휴', 'Noun'), ('에는', 'Josa'), ('여행', 'Noun'), ('을', 'Josa'), ('가봐요', 'Verb'), ('.', 'Punctuation')]\n",
            "Okt 명사 추출:  ['코딩', '당신', '연휴', '여행']\n"
          ]
        }
      ]
    },
    {
      "cell_type": "code",
      "source": [
        "print(\"kkma 형태소분석 \",kkma.morphs(\"열심히 코딩한 당신, 연휴에는 여행을 가봐요.\"))\n",
        "print(\"kkma 품사(part-of-speech) 태깅\",kkma.pos(\"열심히 코딩한 당신, 연휴에는 여행을 가봐요.\"))\n",
        "print(\"kkma 명사 추출\",kkma.nouns(\"열심히 코딩한 당신, 연휴에는 여행을 가봐요.\"))"
      ],
      "metadata": {
        "colab": {
          "base_uri": "https://localhost:8080/"
        },
        "id": "DevLVC9Nqhqi",
        "outputId": "8f68550a-e56d-465f-e59b-149b4617ea09"
      },
      "execution_count": null,
      "outputs": [
        {
          "output_type": "stream",
          "name": "stdout",
          "text": [
            "kkma 형태소분석  ['열심히', '코딩', '하', 'ㄴ', '당신', ',', '연휴', '에', '는', '여행', '을', '가보', '아요', '.']\n",
            "kkma 품사(part-of-speech) 태깅 [('열심히', 'MAG'), ('코딩', 'NNG'), ('하', 'XSV'), ('ㄴ', 'ETD'), ('당신', 'NP'), (',', 'SP'), ('연휴', 'NNG'), ('에', 'JKM'), ('는', 'JX'), ('여행', 'NNG'), ('을', 'JKO'), ('가보', 'VV'), ('아요', 'EFN'), ('.', 'SF')]\n",
            "kkma 명사 추출 ['코딩', '당신', '연휴', '여행']\n"
          ]
        }
      ]
    },
    {
      "cell_type": "code",
      "source": [
        ""
      ],
      "metadata": {
        "id": "8UY0AHIMr4JH"
      },
      "execution_count": null,
      "outputs": []
    }
  ]
}